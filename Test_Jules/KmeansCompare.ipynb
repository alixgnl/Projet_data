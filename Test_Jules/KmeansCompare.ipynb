{
 "cells": [
  {
   "cell_type": "code",
   "execution_count": 11,
   "metadata": {},
   "outputs": [],
   "source": [
    "%matplotlib ipympl\n",
    "from sklearn.cluster import KMeans\n",
    "from sklearn.decomposition import PCA\n",
    "from matplotlib import pyplot as plt\n",
    "import numpy as np\n",
    "import scipy.io as sp\n",
    "from mpl_toolkits.mplot3d import Axes3D"
   ]
  },
  {
   "cell_type": "code",
   "execution_count": 12,
   "metadata": {},
   "outputs": [],
   "source": [
    "#Loading Dataset\n",
    "dataSet = sp.loadmat('breastw.mat')\n",
    "#Splitting dataset\n",
    "Xtraining = dataSet['X'] #in this first run we use the whole dataset\n",
    "X = Xtraining\n",
    "#Labels\n",
    "y = dataSet['y']\n",
    "y.shape\n",
    "reduce2D = PCA(n_components = 2)\n",
    "Xreduced2D = reduce2D.fit_transform(X)\n",
    "\n",
    "Xbenign2D =  Xreduced2D[np.where(y==0)[0]]\n",
    "Xmalign2D =  Xreduced2D[np.where(y==1)[0]]"
   ]
  },
  {
   "cell_type": "code",
   "execution_count": 17,
   "metadata": {},
   "outputs": [
    {
     "name": "stderr",
     "output_type": "stream",
     "text": [
      "C:\\Users\\Pro\\AppData\\Local\\Packages\\PythonSoftwareFoundation.Python.3.9_qbz5n2kfra8p0\\LocalCache\\local-packages\\Python39\\site-packages\\numpy\\core\\shape_base.py:121: VisibleDeprecationWarning: Creating an ndarray from ragged nested sequences (which is a list-or-tuple of lists-or-tuples-or ndarrays with different lengths or shapes) is deprecated. If you meant to do this, you must specify 'dtype=object' when creating the ndarray.\n",
      "  ary = asanyarray(ary)\n"
     ]
    },
    {
     "ename": "ValueError",
     "evalue": "all the input array dimensions for the concatenation axis must match exactly, but along dimension 1, the array at index 0 has size 50 and the array at index 1 has size 5",
     "output_type": "error",
     "traceback": [
      "\u001b[1;31m---------------------------------------------------------------------------\u001b[0m",
      "\u001b[1;31mValueError\u001b[0m                                Traceback (most recent call last)",
      "\u001b[1;32md:\\Backup\\Boulot\\_EPF\\____4A\\Projet_data\\Test_Jules\\KmeansCompare.ipynb Cell 3'\u001b[0m in \u001b[0;36m<module>\u001b[1;34m\u001b[0m\n\u001b[0;32m     <a href='vscode-notebook-cell:/d%3A/Backup/Boulot/_EPF/____4A/Projet_data/Test_Jules/KmeansCompare.ipynb#ch0000002?line=26'>27</a>\u001b[0m                 XmalignEst2D \u001b[39m=\u001b[39m  Xreduced2D[np\u001b[39m.\u001b[39mwhere(kmeansEstimate\u001b[39m==\u001b[39m\u001b[39m1\u001b[39m)[\u001b[39m0\u001b[39m]]\n\u001b[0;32m     <a href='vscode-notebook-cell:/d%3A/Backup/Boulot/_EPF/____4A/Projet_data/Test_Jules/KmeansCompare.ipynb#ch0000002?line=28'>29</a>\u001b[0m                 modelSumUp \u001b[39m=\u001b[39m [Init, N_init,Max_iter,Algorithm, kmeansEstimate]\n\u001b[1;32m---> <a href='vscode-notebook-cell:/d%3A/Backup/Boulot/_EPF/____4A/Projet_data/Test_Jules/KmeansCompare.ipynb#ch0000002?line=29'>30</a>\u001b[0m                 np\u001b[39m.\u001b[39;49mvstack([mat, modelSumUp])\n\u001b[0;32m     <a href='vscode-notebook-cell:/d%3A/Backup/Boulot/_EPF/____4A/Projet_data/Test_Jules/KmeansCompare.ipynb#ch0000002?line=30'>31</a>\u001b[0m                 \u001b[39mprint\u001b[39m(Counter)\n\u001b[0;32m     <a href='vscode-notebook-cell:/d%3A/Backup/Boulot/_EPF/____4A/Projet_data/Test_Jules/KmeansCompare.ipynb#ch0000002?line=33'>34</a>\u001b[0m \u001b[39m\"\"\"\u001b[39;00m\n\u001b[0;32m     <a href='vscode-notebook-cell:/d%3A/Backup/Boulot/_EPF/____4A/Projet_data/Test_Jules/KmeansCompare.ipynb#ch0000002?line=34'>35</a>\u001b[0m \u001b[39m#Creating model\u001b[39;00m\n\u001b[0;32m     <a href='vscode-notebook-cell:/d%3A/Backup/Boulot/_EPF/____4A/Projet_data/Test_Jules/KmeansCompare.ipynb#ch0000002?line=35'>36</a>\u001b[0m \u001b[39mmodel = KMeans(n_clusters = 2)\u001b[39;00m\n\u001b[1;32m   (...)\u001b[0m\n\u001b[0;32m     <a href='vscode-notebook-cell:/d%3A/Backup/Boulot/_EPF/____4A/Projet_data/Test_Jules/KmeansCompare.ipynb#ch0000002?line=44'>45</a>\u001b[0m \u001b[39m#kmeansEstimate +=1\u001b[39;00m\n\u001b[0;32m     <a href='vscode-notebook-cell:/d%3A/Backup/Boulot/_EPF/____4A/Projet_data/Test_Jules/KmeansCompare.ipynb#ch0000002?line=45'>46</a>\u001b[0m \u001b[39m\"\"\"\u001b[39;00m\n",
      "File \u001b[1;32m<__array_function__ internals>:180\u001b[0m, in \u001b[0;36mvstack\u001b[1;34m(*args, **kwargs)\u001b[0m\n",
      "File \u001b[1;32m~\\AppData\\Local\\Packages\\PythonSoftwareFoundation.Python.3.9_qbz5n2kfra8p0\\LocalCache\\local-packages\\Python39\\site-packages\\numpy\\core\\shape_base.py:282\u001b[0m, in \u001b[0;36mvstack\u001b[1;34m(tup)\u001b[0m\n\u001b[0;32m    <a href='file:///c%3A/Users/Pro/AppData/Local/Packages/PythonSoftwareFoundation.Python.3.9_qbz5n2kfra8p0/LocalCache/local-packages/Python39/site-packages/numpy/core/shape_base.py?line=279'>280</a>\u001b[0m \u001b[39mif\u001b[39;00m \u001b[39mnot\u001b[39;00m \u001b[39misinstance\u001b[39m(arrs, \u001b[39mlist\u001b[39m):\n\u001b[0;32m    <a href='file:///c%3A/Users/Pro/AppData/Local/Packages/PythonSoftwareFoundation.Python.3.9_qbz5n2kfra8p0/LocalCache/local-packages/Python39/site-packages/numpy/core/shape_base.py?line=280'>281</a>\u001b[0m     arrs \u001b[39m=\u001b[39m [arrs]\n\u001b[1;32m--> <a href='file:///c%3A/Users/Pro/AppData/Local/Packages/PythonSoftwareFoundation.Python.3.9_qbz5n2kfra8p0/LocalCache/local-packages/Python39/site-packages/numpy/core/shape_base.py?line=281'>282</a>\u001b[0m \u001b[39mreturn\u001b[39;00m _nx\u001b[39m.\u001b[39;49mconcatenate(arrs, \u001b[39m0\u001b[39;49m)\n",
      "File \u001b[1;32m<__array_function__ internals>:180\u001b[0m, in \u001b[0;36mconcatenate\u001b[1;34m(*args, **kwargs)\u001b[0m\n",
      "\u001b[1;31mValueError\u001b[0m: all the input array dimensions for the concatenation axis must match exactly, but along dimension 1, the array at index 0 has size 50 and the array at index 1 has size 5"
     ]
    }
   ],
   "source": [
    "mat = np.empty((0,50))\n",
    "Counter = -1\n",
    "for Init in [\"k-means++\", \"random\"]:\n",
    "    for N_init in range(1,50,1):\n",
    "        for Max_iter in range(100,900):\n",
    "            for Algorithm in [\"full\", \"elkan\"]:\n",
    "                Counter += 1\n",
    "                \n",
    "                model = KMeans(n_clusters = 2, init = Init, n_init = N_init, max_iter = Max_iter, algorithm=Algorithm)\n",
    "                model.fit(Xtraining)\n",
    "                centers = model.cluster_centers_\n",
    "                kmeansEstimate = model.predict(X)\n",
    "\n",
    "                #Correcting labels\n",
    "                reversedEstimate = abs(kmeansEstimate-1)\n",
    "\n",
    "                DefaultComparison  = np.reshape(kmeansEstimate,(-1,1))-y\n",
    "                ReversedComparison = np.reshape(reversedEstimate,(-1,1))-y\n",
    "\n",
    "                Def = np.count_nonzero(DefaultComparison == 0)\n",
    "                rev = np.count_nonzero(ReversedComparison == 0)\n",
    "\n",
    "                if rev>Def:\n",
    "                    kmeansEstimate = reversedEstimate\n",
    "\n",
    "                XbenignEst2D =  Xreduced2D[np.where(kmeansEstimate==0)[0]]\n",
    "                XmalignEst2D =  Xreduced2D[np.where(kmeansEstimate==1)[0]]\n",
    "\n",
    "                modelSumUp = [Init, N_init,Max_iter,Algorithm, kmeansEstimate]\n",
    "                np.vstack([mat, modelSumUp])\n",
    "                print(Counter)\n",
    "\n",
    "\n",
    "\"\"\"\n",
    "#Creating model\n",
    "model = KMeans(n_clusters = 2)\n",
    "#Training model i.e determining cluster centers\n",
    "model.fit(Xtraining)\n",
    "centers = model.cluster_centers_\n",
    "centersreduced2D = reduce2D.fit_transform(centers)\n",
    "#Applying model to dataSet\n",
    "kmeansEstimate = model.predict(X)\n",
    "#Switching cluster labels to match with dataset labels\n",
    "#kmeansEstimate *= -1\n",
    "#kmeansEstimate +=1\n",
    "\"\"\"\n"
   ]
  }
 ],
 "metadata": {
  "interpreter": {
   "hash": "854b428ce1f069f8dc947235bdb995249ea5eabdb16a8d1a280f20a9ef4e49e2"
  },
  "kernelspec": {
   "display_name": "Python 3.9.0 64-bit (system)",
   "language": "python",
   "name": "python3"
  },
  "language_info": {
   "codemirror_mode": {
    "name": "ipython",
    "version": 3
   },
   "file_extension": ".py",
   "mimetype": "text/x-python",
   "name": "python",
   "nbconvert_exporter": "python",
   "pygments_lexer": "ipython3",
   "version": "3.9.12"
  },
  "orig_nbformat": 4
 },
 "nbformat": 4,
 "nbformat_minor": 2
}
