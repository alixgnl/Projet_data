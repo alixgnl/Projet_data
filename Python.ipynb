{
 "cells": [
  {
   "cell_type": "code",
   "execution_count": null,
   "metadata": {},
   "outputs": [],
   "source": [
    "%pip install -U pandas numpy==1.20 scikit-learn daal Scipy"
   ]
  },
  {
   "cell_type": "code",
   "execution_count": null,
   "metadata": {},
   "outputs": [],
   "source": [
    "import pandas as pd\n",
    "from sklearn.neighbors import KNeighborsClassifier\n",
    "import scipy.io as sp\n",
    "from sklearn.model_selection import train_test_split\n",
    "import numpy as np\n",
    "from sklearn.metrics import accuracy_score\n",
    "from sklearn.preprocessing import StandardScaler\n",
    "import seaborn as sns\n",
    "\n",
    "\n",
    "dataset = sp.loadmat('breastw.mat')\n",
    "\n",
    "X = dataset['X']\n",
    "y = dataset['y']\n",
    "\n",
    "#X = StandardScaler().fit_transform(X)\n",
    "\n",
    "\n",
    "KNeighborsClassifier(\n",
    "    n_neighbors=10,          # The number of neighbours to consider\n",
    "    weights='uniform',      # How to weight distances\n",
    "    algorithm='auto',       # Algorithm to compute the neighbours\n",
    "    leaf_size=30,           # The leaf size to speed up searches\n",
    "    p=2,                    # The power parameter for the Minkowski metric (use p=1 for euclidiean)\n",
    "    metric='minkowski',     # The type of distance to use\n",
    "    metric_params=None,     # Keyword arguments for the metric function\n",
    "    n_jobs=None \n",
    ")\n",
    "\n",
    "\n",
    "X_train, X_test, y_train, y_test = train_test_split(X, y, test_size=0.5, stratify=y)\n",
    "clf = KNeighborsClassifier(p=1, n_neighbors=10, algorithm='auto', n_jobs=None)\n",
    "clf_2 = KNeighborsClassifier(p=1, n_neighbors=20, algorithm='auto', n_jobs=None)\n",
    "clf.fit(X_train, y_train.ravel())\n",
    "clf_2.fit(X_train, y_train.ravel())\n",
    "predictions = clf.predict(X_test)\n",
    "prediction_2= clf_2.predict(X_test)\n",
    "\n",
    "\"\"\"\n",
    "from sklearn.metrics import classification_report, confusion_matrix, accuracy_score\n",
    "result = confusion_matrix(y_test, predictions)\n",
    "print(\"Confusion Matrix:\")\n",
    "print(result)\n",
    "result1 = classification_report(y_test, predictions)\n",
    "print(\"Classification Report:\",)\n",
    "print (result1)\n",
    "\"\"\"\n",
    "\n",
    "result2 = accuracy_score(y_test,predictions)\n",
    "result2_2 = accuracy_score(y_test,prediction_2)\n",
    "print(\"Accuracy 1 :\",result2)\n",
    "print(\"Accuracy 2 :\",result2_2)\n",
    "#Entraînement\n",
    "\n",
    "\n",
    "\n",
    "#sns.set_style('whitegrid')\n",
    "#Z=pd.DataFrame(np.c_[dataset['X'],dataset['y']],)\n",
    "#sns.pairplot(Z)\n",
    "\n",
    "#print(accuracy_score(y_test, predictions))"
   ]
  },
  {
   "cell_type": "code",
   "execution_count": null,
   "metadata": {},
   "outputs": [],
   "source": [
    "valeur_k=[]\n",
    "precisions=[]\n",
    "\n",
    "\n",
    "for k in range(1,51) :\n",
    "    valeur_accu=0\n",
    "    for i in range(1,21) :\n",
    "        X_train, X_test, y_train, y_test = train_test_split(X, y, test_size=0.5, stratify=y)\n",
    "        clf = KNeighborsClassifier(p=1, n_neighbors=k, algorithm='auto', n_jobs=None)\n",
    "        clf.fit(X_train, y_train.ravel())\n",
    "        predictions = clf.predict(X_test)\n",
    "        valeur_accu=valeur_accu+accuracy_score(y_test, predictions)\n",
    "        accu_k=valeur_accu/20\n",
    "    valeur_k.append(k)\n",
    "    precisions.append(accu_k)\n",
    "    \n",
    "from matplotlib import pyplot as plt\n",
    "plt.plot(valeur_k,precisions)\n",
    "plt.show()"
   ]
  }
 ],
 "metadata": {
  "interpreter": {
   "hash": "5820f448ca7e2a047bd3c094469b6a4486bbbcda233e8f896a00125cc2a53480"
  },
  "kernelspec": {
   "display_name": "Python 3.9.7 ('base')",
   "language": "python",
   "name": "python3"
  },
  "language_info": {
   "codemirror_mode": {
    "name": "ipython",
    "version": 3
   },
   "file_extension": ".py",
   "mimetype": "text/x-python",
   "name": "python",
   "nbconvert_exporter": "python",
   "pygments_lexer": "ipython3",
   "version": "3.9.7"
  },
  "orig_nbformat": 4
 },
 "nbformat": 4,
 "nbformat_minor": 2
}
