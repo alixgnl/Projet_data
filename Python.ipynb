{
 "cells": [
  {
   "cell_type": "code",
   "execution_count": null,
   "metadata": {},
   "outputs": [],
   "source": [
    "%pip install -U pandas numpy==1.20 scikit-learn daal Scipy"
   ]
  },
  {
   "cell_type": "code",
   "execution_count": null,
   "metadata": {},
   "outputs": [],
   "source": [
    "print(\"Hello\")"
   ]
  },
  {
   "cell_type": "code",
   "execution_count": null,
   "metadata": {},
   "outputs": [],
   "source": [
    "print('hrey')"
   ]
  },
  {
   "cell_type": "code",
   "execution_count": null,
   "metadata": {},
   "outputs": [],
   "source": [
    "def compare_cellSize(cell1, cell2): #Juste pour comparer la taille de 2 cellules...\n",
    "    print('Cellule 1 = ', cell1, 'µm3', 'Cellule 2 = ', cell2, 'µm3')\n",
    "    if(cell1<cell2):\n",
    "        print('Cellule 2 plus grande')\n",
    "    elif(cell1==cell2):\n",
    "        print('Les 2 cellules sont de tailles identiques')\n",
    "    else:\n",
    "        print('Cellule 1 plus grande que la 2')\n",
    "\n",
    "Cell_Size = lambda longeur, largeur, hauteur : longeur * largeur * hauteur #Fonction pour calculer le volume de la cellule\n",
    "compare_cellSize(cell1 = Cell_Size(20, 18, 21), cell2= Cell_Size(18, 20, 21)) #les dimensions des cellules sont en µm"
   ]
  },
  {
   "cell_type": "code",
   "execution_count": null,
   "metadata": {},
   "outputs": [],
   "source": [
    "#Hey c'est juste un test de commit"
   ]
  }
 ],
 "metadata": {
  "interpreter": {
   "hash": "5820f448ca7e2a047bd3c094469b6a4486bbbcda233e8f896a00125cc2a53480"
  },
  "kernelspec": {
   "display_name": "Python 3.9.7 ('base')",
   "language": "python",
   "name": "python3"
  },
  "language_info": {
   "codemirror_mode": {
    "name": "ipython",
    "version": 3
   },
   "file_extension": ".py",
   "mimetype": "text/x-python",
   "name": "python",
   "nbconvert_exporter": "python",
   "pygments_lexer": "ipython3",
   "version": "3.9.7"
  },
  "orig_nbformat": 4
 },
 "nbformat": 4,
 "nbformat_minor": 2
}
