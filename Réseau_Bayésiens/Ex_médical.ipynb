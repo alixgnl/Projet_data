{
 "cells": [
  {
   "cell_type": "code",
   "execution_count": 2,
   "metadata": {},
   "outputs": [
    {
     "name": "stdout",
     "output_type": "stream",
     "text": [
      "[bnlearn] >Extracting files..\n"
     ]
    },
    {
     "name": "stderr",
     "output_type": "stream",
     "text": [
      "Generating for node: dysp: 100%|██████████| 8/8 [00:00<00:00, 167.01it/s]\n"
     ]
    },
    {
     "data": {
      "text/html": [
       "<div>\n",
       "<style scoped>\n",
       "    .dataframe tbody tr th:only-of-type {\n",
       "        vertical-align: middle;\n",
       "    }\n",
       "\n",
       "    .dataframe tbody tr th {\n",
       "        vertical-align: top;\n",
       "    }\n",
       "\n",
       "    .dataframe thead th {\n",
       "        text-align: right;\n",
       "    }\n",
       "</style>\n",
       "<table border=\"1\" class=\"dataframe\">\n",
       "  <thead>\n",
       "    <tr style=\"text-align: right;\">\n",
       "      <th></th>\n",
       "      <th>asia</th>\n",
       "      <th>tub</th>\n",
       "      <th>smoke</th>\n",
       "      <th>lung</th>\n",
       "      <th>bronc</th>\n",
       "      <th>either</th>\n",
       "      <th>xray</th>\n",
       "      <th>dysp</th>\n",
       "    </tr>\n",
       "  </thead>\n",
       "  <tbody>\n",
       "    <tr>\n",
       "      <th>0</th>\n",
       "      <td>1</td>\n",
       "      <td>1</td>\n",
       "      <td>1</td>\n",
       "      <td>1</td>\n",
       "      <td>0</td>\n",
       "      <td>1</td>\n",
       "      <td>1</td>\n",
       "      <td>0</td>\n",
       "    </tr>\n",
       "    <tr>\n",
       "      <th>1</th>\n",
       "      <td>1</td>\n",
       "      <td>1</td>\n",
       "      <td>1</td>\n",
       "      <td>1</td>\n",
       "      <td>1</td>\n",
       "      <td>1</td>\n",
       "      <td>1</td>\n",
       "      <td>1</td>\n",
       "    </tr>\n",
       "    <tr>\n",
       "      <th>2</th>\n",
       "      <td>1</td>\n",
       "      <td>1</td>\n",
       "      <td>0</td>\n",
       "      <td>1</td>\n",
       "      <td>0</td>\n",
       "      <td>1</td>\n",
       "      <td>1</td>\n",
       "      <td>0</td>\n",
       "    </tr>\n",
       "    <tr>\n",
       "      <th>3</th>\n",
       "      <td>1</td>\n",
       "      <td>1</td>\n",
       "      <td>0</td>\n",
       "      <td>1</td>\n",
       "      <td>1</td>\n",
       "      <td>1</td>\n",
       "      <td>1</td>\n",
       "      <td>1</td>\n",
       "    </tr>\n",
       "    <tr>\n",
       "      <th>4</th>\n",
       "      <td>1</td>\n",
       "      <td>1</td>\n",
       "      <td>1</td>\n",
       "      <td>1</td>\n",
       "      <td>0</td>\n",
       "      <td>1</td>\n",
       "      <td>1</td>\n",
       "      <td>0</td>\n",
       "    </tr>\n",
       "  </tbody>\n",
       "</table>\n",
       "</div>"
      ],
      "text/plain": [
       "   asia  tub  smoke  lung  bronc  either  xray  dysp\n",
       "0     1    1      1     1      0       1     1     0\n",
       "1     1    1      1     1      1       1     1     1\n",
       "2     1    1      0     1      0       1     1     0\n",
       "3     1    1      0     1      1       1     1     1\n",
       "4     1    1      1     1      0       1     1     0"
      ]
     },
     "execution_count": 2,
     "metadata": {},
     "output_type": "execute_result"
    }
   ],
   "source": [
    "import bnlearn as bn\n",
    "# Load dataset with 10.000 samples\n",
    "df = bn.import_example('asia', n=10000)\n",
    "# Print to screen\n",
    "df.head()"
   ]
  },
  {
   "cell_type": "code",
   "execution_count": 3,
   "metadata": {},
   "outputs": [],
   "source": [
    "edges = [('smoke', 'lung'),\n",
    "         ('smoke', 'bronc'),\n",
    "         ('lung', 'xray'),\n",
    "         ('bronc', 'xray')]"
   ]
  },
  {
   "cell_type": "code",
   "execution_count": 4,
   "metadata": {},
   "outputs": [
    {
     "name": "stdout",
     "output_type": "stream",
     "text": [
      "[bnlearn] >bayes DAG created.\n",
      "[bnlearn]> Set node properties.\n",
      "[bnlearn]> Set edge properties.\n",
      "[bnlearn] >Plot based on Bayesian model\n"
     ]
    },
    {
     "data": {
      "image/png": "[encoded data removed]",
      "text/plain": [
       "<Figure size 1080x576 with 1 Axes>"
      ]
     },
     "metadata": {},
     "output_type": "display_data"
    },
    {
     "data": {
      "text/plain": [
       "{'pos': {'smoke': array([-0.59414777, -0.95865326]),\n",
       "  'lung': array([ 0.92352932, -0.61488544]),\n",
       "  'bronc': array([0.67061845, 0.98559506]),\n",
       "  'xray': array([-1.        ,  0.58794365])},\n",
       " 'G': <networkx.classes.digraph.DiGraph at 0x1f2e15d3e80>,\n",
       " 'node_properties': {'smoke': {'node_color': '#1f456e', 'node_size': 800},\n",
       "  'lung': {'node_color': '#1f456e', 'node_size': 800},\n",
       "  'bronc': {'node_color': '#1f456e', 'node_size': 800},\n",
       "  'xray': {'node_color': '#1f456e', 'node_size': 800}},\n",
       " 'edge_properties': {('smoke', 'lung'): {'color': '#000000', 'weight': 1},\n",
       "  ('smoke', 'bronc'): {'color': '#000000', 'weight': 1},\n",
       "  ('lung', 'xray'): {'color': '#000000', 'weight': 1},\n",
       "  ('bronc', 'xray'): {'color': '#000000', 'weight': 1}}}"
      ]
     },
     "execution_count": 4,
     "metadata": {},
     "output_type": "execute_result"
    }
   ],
   "source": [
    "# Create the DAG from the edges\n",
    "DAG = bn.make_DAG(edges)\n",
    "\n",
    "# Plot and make sure the arrows are correct.\n",
    "bn.plot(DAG)"
   ]
  },
  {
   "cell_type": "code",
   "execution_count": 5,
   "metadata": {},
   "outputs": [
    {
     "name": "stdout",
     "output_type": "stream",
     "text": [
      "[bnlearn] >No CPDs to print. Hint: Add CPDs as following: <bn.make_DAG(DAG, CPD=[cpd_A, cpd_B, etc])> and use bnlearn.plot(DAG) to make a plot.\n",
      "[bnlearn] >Removing columns from dataframe to make consistent with DAG [['asia' 'tub' 'either' 'dysp']]\n",
      "[bnlearn] >Parameter learning> Computing parameters using [bayes]\n",
      "[bnlearn] >CPD of smoke:\n",
      "+----------+----------+\n",
      "| smoke(0) | 0.504545 |\n",
      "+----------+----------+\n",
      "| smoke(1) | 0.495455 |\n",
      "+----------+----------+\n",
      "[bnlearn] >CPD of lung:\n",
      "+---------+--------------------+---------------------+\n",
      "| smoke   | smoke(0)           | smoke(1)            |\n",
      "+---------+--------------------+---------------------+\n",
      "| lung(0) | 0.1390990990990991 | 0.05614678899082569 |\n",
      "+---------+--------------------+---------------------+\n",
      "| lung(1) | 0.8609009009009009 | 0.9438532110091743  |\n",
      "+---------+--------------------+---------------------+\n",
      "[bnlearn] >CPD of bronc:\n",
      "+----------+--------------------+--------------------+\n",
      "| smoke    | smoke(0)           | smoke(1)           |\n",
      "+----------+--------------------+--------------------+\n",
      "| bronc(0) | 0.592072072072072  | 0.3255045871559633 |\n",
      "+----------+--------------------+--------------------+\n",
      "| bronc(1) | 0.4079279279279279 | 0.6744954128440367 |\n",
      "+----------+--------------------+--------------------+\n",
      "[bnlearn] >CPD of xray:\n",
      "+---------+--------------------+-----+---------------------+\n",
      "| bronc   | bronc(0)           | ... | bronc(1)            |\n",
      "+---------+--------------------+-----+---------------------+\n",
      "| lung    | lung(0)            | ... | lung(1)             |\n",
      "+---------+--------------------+-----+---------------------+\n",
      "| xray(0) | 0.7777777777777778 | ... | 0.07655590233155865 |\n",
      "+---------+--------------------+-----+---------------------+\n",
      "| xray(1) | 0.2222222222222222 | ... | 0.9234440976684414  |\n",
      "+---------+--------------------+-----+---------------------+\n",
      "CPD of smoke:\n",
      "+----------+----------+\n",
      "| smoke(0) | 0.504545 |\n",
      "+----------+----------+\n",
      "| smoke(1) | 0.495455 |\n",
      "+----------+----------+\n",
      "CPD of lung:\n",
      "+---------+--------------------+---------------------+\n",
      "| smoke   | smoke(0)           | smoke(1)            |\n",
      "+---------+--------------------+---------------------+\n",
      "| lung(0) | 0.1390990990990991 | 0.05614678899082569 |\n",
      "+---------+--------------------+---------------------+\n",
      "| lung(1) | 0.8609009009009009 | 0.9438532110091743  |\n",
      "+---------+--------------------+---------------------+\n",
      "CPD of bronc:\n",
      "+----------+--------------------+--------------------+\n",
      "| smoke    | smoke(0)           | smoke(1)           |\n",
      "+----------+--------------------+--------------------+\n",
      "| bronc(0) | 0.592072072072072  | 0.3255045871559633 |\n",
      "+----------+--------------------+--------------------+\n",
      "| bronc(1) | 0.4079279279279279 | 0.6744954128440367 |\n",
      "+----------+--------------------+--------------------+\n",
      "CPD of xray:\n",
      "+---------+--------------------+-----+---------------------+\n",
      "| bronc   | bronc(0)           | ... | bronc(1)            |\n",
      "+---------+--------------------+-----+---------------------+\n",
      "| lung    | lung(0)            | ... | lung(1)             |\n",
      "+---------+--------------------+-----+---------------------+\n",
      "| xray(0) | 0.7777777777777778 | ... | 0.07655590233155865 |\n",
      "+---------+--------------------+-----+---------------------+\n",
      "| xray(1) | 0.2222222222222222 | ... | 0.9234440976684414  |\n",
      "+---------+--------------------+-----+---------------------+\n",
      "[bnlearn] >Independencies:\n",
      "(smoke ⟂ xray | bronc, lung)\n",
      "(bronc ⟂ lung | smoke)\n",
      "(xray ⟂ smoke | bronc, lung)\n",
      "(lung ⟂ bronc | smoke)\n",
      "[bnlearn] >Nodes: ['smoke', 'lung', 'bronc', 'xray']\n",
      "[bnlearn] >Edges: [('smoke', 'lung'), ('smoke', 'bronc'), ('lung', 'xray'), ('bronc', 'xray')]\n"
     ]
    }
   ],
   "source": [
    "# Check the current CPDs in the DAG.\n",
    "bn.print_CPD(DAG)\n",
    "# [bnlearn] >No CPDs to print. Tip: use bn.plot(DAG) to make a plot.\n",
    "# This is correct, we dit not yet specify any CPD.\n",
    "\n",
    "# Learn the parameters from data set.\n",
    "# As input we have the DAG without CPDs.\n",
    "DAG = bn.parameter_learning.fit(DAG, df, methodtype='bayes')\n",
    "\n",
    "# Print the CPDs\n",
    "bn.print_CPD(DAG)\n",
    "# At this point we have a DAG with the learned CPDs"
   ]
  },
  {
   "cell_type": "code",
   "execution_count": 6,
   "metadata": {},
   "outputs": [
    {
     "name": "stdout",
     "output_type": "stream",
     "text": [
      "[bnlearn] >Computing best DAG using [hc]\n",
      "[bnlearn] >Set scoring type at [bic]\n",
      "[bnlearn] >Compute edge strength with [chi_square]\n"
     ]
    }
   ],
   "source": [
    "# Structure learning on the data set\n",
    "model = bn.structure_learning.fit(df)\n",
    "# Compute significance\n",
    "model = bn.independence_test(model, df, prune=True)"
   ]
  },
  {
   "cell_type": "code",
   "execution_count": 7,
   "metadata": {},
   "outputs": [
    {
     "name": "stdout",
     "output_type": "stream",
     "text": [
      "[bnlearn]> Set node properties.\n",
      "[bnlearn]> Set edge weights based on the [chi_square] test statistic.\n",
      "[bnlearn]> Set edge properties.\n",
      "[bnlearn] >Plot based on Bayesian model\n"
     ]
    },
    {
     "data": {
      "image/png": "[encoded data removed]",
      "text/plain": [
       "<Figure size 1080x576 with 1 Axes>"
      ]
     },
     "metadata": {},
     "output_type": "display_data"
    },
    {
     "name": "stdout",
     "output_type": "stream",
     "text": [
      "[bnlearn]> Set node properties.\n",
      "[bnlearn]> Set edge weights based on the [chi_square] test statistic.\n",
      "[bnlearn]> Set edge properties.\n",
      "[bnlearn] >Plot based on Bayesian model\n"
     ]
    },
    {
     "data": {
      "text/html": [
       "<html>\n",
       "<head>\n",
       "<link rel=\"stylesheet\" href=\"https://cdnjs.cloudflare.com/ajax/libs/vis/4.16.1/vis.css\" type=\"text/css\" />\n",
       "<script type=\"text/javascript\" src=\"https://cdnjs.cloudflare.com/ajax/libs/vis/4.16.1/vis-network.min.js\"> </script>\n",
       "<center>\n",
       "<h1></h1>\n",
       "</center>\n",
       "\n",
       "<!-- <link rel=\"stylesheet\" href=\"../node_modules/vis/dist/vis.min.css\" type=\"text/css\" />\n",
       "<script type=\"text/javascript\" src=\"../node_modules/vis/dist/vis.js\"> </script>-->\n",
       "\n",
       "<style type=\"text/css\">\n",
       "\n",
       "        #mynetwork {\n",
       "            width: 70%;\n",
       "            height: 800px;\n",
       "            background-color: #ffffff;\n",
       "            border: 1px solid lightgray;\n",
       "            position: relative;\n",
       "            float: left;\n",
       "        }\n",
       "\n",
       "        \n",
       "\n",
       "        \n",
       "        #config {\n",
       "            float: left;\n",
       "            width: 400px;\n",
       "            height: 600px;\n",
       "        }\n",
       "        \n",
       "\n",
       "        \n",
       "</style>\n",
       "\n",
       "</head>\n",
       "\n",
       "<body>\n",
       "<div id = \"mynetwork\"></div>\n",
       "\n",
       "\n",
       "<div id = \"config\"></div>\n",
       "\n",
       "<script type=\"text/javascript\">\n",
       "\n",
       "    // initialize global variables.\n",
       "    var edges;\n",
       "    var nodes;\n",
       "    var network; \n",
       "    var container;\n",
       "    var options, data;\n",
       "\n",
       "    \n",
       "    // This method is responsible for drawing the graph, returns the drawn network\n",
       "    function drawGraph() {\n",
       "        var container = document.getElementById('mynetwork');\n",
       "        \n",
       "        \n",
       "\n",
       "        // parsing and collecting nodes and edges from the python\n",
       "        nodes = new vis.DataSet([{\"color\": \"#1f456e\", \"id\": \"smoke\", \"label\": \"smoke\", \"shape\": \"dot\", \"size\": 10}, {\"color\": \"#1f456e\", \"id\": \"lung\", \"label\": \"lung\", \"shape\": \"dot\", \"size\": 10}, {\"color\": \"#1f456e\", \"id\": \"xray\", \"label\": \"xray\", \"shape\": \"dot\", \"size\": 10}, {\"color\": \"#1f456e\", \"id\": \"bronc\", \"label\": \"bronc\", \"shape\": \"dot\", \"size\": 10}]);\n",
       "        edges = new vis.DataSet([{\"arrows\": \"to\", \"color\": \"#000000\", \"from\": \"smoke\", \"to\": \"lung\", \"weight\": 1.0}, {\"arrows\": \"to\", \"color\": \"#000000\", \"from\": \"lung\", \"to\": \"xray\", \"weight\": 10.0}, {\"arrows\": \"to\", \"color\": \"#000000\", \"from\": \"bronc\", \"to\": \"smoke\", \"weight\": 10.0}]);\n",
       "\n",
       "        // adding nodes and edges to the graph\n",
       "        data = {nodes: nodes, edges: edges};\n",
       "\n",
       "        var options = {\n",
       "    \"configure\": {\n",
       "        \"enabled\": true,\n",
       "        \"filter\": [\n",
       "            \"physics\"\n",
       "        ]\n",
       "    },\n",
       "    \"edges\": {\n",
       "        \"color\": {\n",
       "            \"inherit\": true\n",
       "        },\n",
       "        \"smooth\": {\n",
       "            \"enabled\": false,\n",
       "            \"type\": \"continuous\"\n",
       "        }\n",
       "    },\n",
       "    \"interaction\": {\n",
       "        \"dragNodes\": true,\n",
       "        \"hideEdgesOnDrag\": false,\n",
       "        \"hideNodesOnDrag\": false\n",
       "    },\n",
       "    \"physics\": {\n",
       "        \"enabled\": true,\n",
       "        \"stabilization\": {\n",
       "            \"enabled\": true,\n",
       "            \"fit\": true,\n",
       "            \"iterations\": 1000,\n",
       "            \"onlyDynamicEdges\": false,\n",
       "            \"updateInterval\": 50\n",
       "        }\n",
       "    }\n",
       "};\n",
       "        \n",
       "        \n",
       "\n",
       "        \n",
       "        // if this network requires displaying the configure window,\n",
       "        // put it in its div\n",
       "        options.configure[\"container\"] = document.getElementById(\"config\");\n",
       "        \n",
       "\n",
       "        network = new vis.Network(container, data, options);\n",
       "\t \n",
       "        \n",
       "\n",
       "\n",
       "        \n",
       "\n",
       "        return network;\n",
       "\n",
       "    }\n",
       "\n",
       "    drawGraph();\n",
       "\n",
       "</script>\n",
       "</body>\n",
       "</html>"
      ],
      "text/plain": [
       "<IPython.core.display.HTML object>"
      ]
     },
     "metadata": {},
     "output_type": "display_data"
    },
    {
     "data": {
      "image/png": "[encoded data removed]",
      "text/plain": [
       "<Figure size 432x288 with 2 Axes>"
      ]
     },
     "metadata": {
      "needs_background": "light"
     },
     "output_type": "display_data"
    },
    {
     "data": {
      "image/png": "[encoded data removed]",
      "text/plain": [
       "<Figure size 1080x576 with 1 Axes>"
      ]
     },
     "metadata": {},
     "output_type": "display_data"
    },
    {
     "data": {
      "text/plain": [
       "(array([[11,  2],\n",
       "        [ 1,  2]], dtype=int64),\n",
       " target  smoke  lung  bronc  xray\n",
       " source                          \n",
       " smoke       0     1      2     0\n",
       " lung        0     0      0     1\n",
       " bronc      -1     0      0     2\n",
       " xray        0     0      0     0)"
      ]
     },
     "execution_count": 7,
     "metadata": {},
     "output_type": "execute_result"
    }
   ],
   "source": [
    "# Plot the DAG\n",
    "bn.plot(model, interactive=False)\n",
    "bn.plot(model, interactive=True)\n",
    "\n",
    "# Plot differences between expert-DAG and the computed-DAG\n",
    "bn.compare_networks(model, DAG)"
   ]
  }
 ],
 "metadata": {
  "interpreter": {
   "hash": "d66c663352a93aca0402de51e85d6aa16823dfcb804efd49b2a93bf67c0dc337"
  },
  "kernelspec": {
   "display_name": "Python 3.9.7 ('base')",
   "language": "python",
   "name": "python3"
  },
  "language_info": {
   "codemirror_mode": {
    "name": "ipython",
    "version": 3
   },
   "file_extension": ".py",
   "mimetype": "text/x-python",
   "name": "python",
   "nbconvert_exporter": "python",
   "pygments_lexer": "ipython3",
   "version": "3.9.7"
  },
  "orig_nbformat": 4
 },
 "nbformat": 4,
 "nbformat_minor": 2
}
