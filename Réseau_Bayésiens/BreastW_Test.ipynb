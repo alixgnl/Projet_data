{
 "cells": [
  {
   "cell_type": "code",
   "execution_count": 1,
   "metadata": {},
   "outputs": [],
   "source": [
    "import scipy.io\n",
    "mat = scipy.io.loadmat('breastw.mat')\n",
    "#print(mat)"
   ]
  },
  {
   "cell_type": "code",
   "execution_count": 2,
   "metadata": {},
   "outputs": [
    {
     "ename": "AssertionError",
     "evalue": "df must be of type pd.DataFrame()",
     "output_type": "error",
     "traceback": [
      "\u001b[1;31m---------------------------------------------------------------------------\u001b[0m",
      "\u001b[1;31mAssertionError\u001b[0m                            Traceback (most recent call last)",
      "\u001b[1;32m~\\AppData\\Local\\Temp/ipykernel_55656/1533883427.py\u001b[0m in \u001b[0;36m<module>\u001b[1;34m\u001b[0m\n\u001b[0;32m      1\u001b[0m \u001b[1;32mimport\u001b[0m \u001b[0mbnlearn\u001b[0m \u001b[1;32mas\u001b[0m \u001b[0mbn\u001b[0m\u001b[1;33m\u001b[0m\u001b[1;33m\u001b[0m\u001b[0m\n\u001b[0;32m      2\u001b[0m \u001b[1;31m# Learn the DAG in data using Bayesian structure learning:\u001b[0m\u001b[1;33m\u001b[0m\u001b[1;33m\u001b[0m\u001b[0m\n\u001b[1;32m----> 3\u001b[1;33m \u001b[0mDAG\u001b[0m \u001b[1;33m=\u001b[0m \u001b[0mbn\u001b[0m\u001b[1;33m.\u001b[0m\u001b[0mstructure_learning\u001b[0m\u001b[1;33m.\u001b[0m\u001b[0mfit\u001b[0m\u001b[1;33m(\u001b[0m\u001b[0mmat\u001b[0m\u001b[1;33m)\u001b[0m\u001b[1;33m\u001b[0m\u001b[1;33m\u001b[0m\u001b[0m\n\u001b[0m\u001b[0;32m      4\u001b[0m \u001b[1;31m# print adjacency matrix\u001b[0m\u001b[1;33m\u001b[0m\u001b[1;33m\u001b[0m\u001b[0m\n\u001b[0;32m      5\u001b[0m \u001b[0mprint\u001b[0m\u001b[1;33m(\u001b[0m\u001b[0mDAG\u001b[0m\u001b[1;33m[\u001b[0m\u001b[1;34m'adjmat'\u001b[0m\u001b[1;33m]\u001b[0m\u001b[1;33m)\u001b[0m\u001b[1;33m\u001b[0m\u001b[1;33m\u001b[0m\u001b[0m\n",
      "\u001b[1;32m~\\anaconda3\\lib\\site-packages\\bnlearn\\structure_learning.py\u001b[0m in \u001b[0;36mfit\u001b[1;34m(df, methodtype, scoretype, black_list, white_list, bw_list_method, max_indegree, tabu_length, epsilon, max_iter, root_node, class_node, fixed_edges, return_all_dags, verbose)\u001b[0m\n\u001b[0;32m    132\u001b[0m     \u001b[0mconfig\u001b[0m \u001b[1;33m=\u001b[0m \u001b[1;33m{\u001b[0m\u001b[1;34m'method'\u001b[0m\u001b[1;33m:\u001b[0m \u001b[0mmethodtype\u001b[0m\u001b[1;33m,\u001b[0m \u001b[1;34m'scoring'\u001b[0m\u001b[1;33m:\u001b[0m \u001b[0mscoretype\u001b[0m\u001b[1;33m,\u001b[0m \u001b[1;34m'black_list'\u001b[0m\u001b[1;33m:\u001b[0m \u001b[0mblack_list\u001b[0m\u001b[1;33m,\u001b[0m \u001b[1;34m'white_list'\u001b[0m\u001b[1;33m:\u001b[0m \u001b[0mwhite_list\u001b[0m\u001b[1;33m,\u001b[0m \u001b[1;34m'bw_list_method'\u001b[0m\u001b[1;33m:\u001b[0m \u001b[0mbw_list_method\u001b[0m\u001b[1;33m,\u001b[0m \u001b[1;34m'max_indegree'\u001b[0m\u001b[1;33m:\u001b[0m \u001b[0mmax_indegree\u001b[0m\u001b[1;33m,\u001b[0m \u001b[1;34m'tabu_length'\u001b[0m\u001b[1;33m:\u001b[0m \u001b[0mtabu_length\u001b[0m\u001b[1;33m,\u001b[0m \u001b[1;34m'epsilon'\u001b[0m\u001b[1;33m:\u001b[0m \u001b[0mepsilon\u001b[0m\u001b[1;33m,\u001b[0m \u001b[1;34m'max_iter'\u001b[0m\u001b[1;33m:\u001b[0m \u001b[0mmax_iter\u001b[0m\u001b[1;33m,\u001b[0m \u001b[1;34m'root_node'\u001b[0m\u001b[1;33m:\u001b[0m \u001b[0mroot_node\u001b[0m\u001b[1;33m,\u001b[0m \u001b[1;34m'class_node'\u001b[0m\u001b[1;33m:\u001b[0m \u001b[0mclass_node\u001b[0m\u001b[1;33m,\u001b[0m \u001b[1;34m'fixed_edges'\u001b[0m\u001b[1;33m:\u001b[0m \u001b[0mfixed_edges\u001b[0m\u001b[1;33m,\u001b[0m \u001b[1;34m'return_all_dags'\u001b[0m\u001b[1;33m:\u001b[0m \u001b[0mreturn_all_dags\u001b[0m\u001b[1;33m,\u001b[0m \u001b[1;34m'verbose'\u001b[0m\u001b[1;33m:\u001b[0m \u001b[0mverbose\u001b[0m\u001b[1;33m}\u001b[0m\u001b[1;33m\u001b[0m\u001b[1;33m\u001b[0m\u001b[0m\n\u001b[0;32m    133\u001b[0m     \u001b[1;31m# Make some checks\u001b[0m\u001b[1;33m\u001b[0m\u001b[1;33m\u001b[0m\u001b[0m\n\u001b[1;32m--> 134\u001b[1;33m     \u001b[0mconfig\u001b[0m \u001b[1;33m=\u001b[0m \u001b[0m_make_checks\u001b[0m\u001b[1;33m(\u001b[0m\u001b[0mdf\u001b[0m\u001b[1;33m,\u001b[0m \u001b[0mconfig\u001b[0m\u001b[1;33m,\u001b[0m \u001b[0mverbose\u001b[0m\u001b[1;33m=\u001b[0m\u001b[0mverbose\u001b[0m\u001b[1;33m)\u001b[0m\u001b[1;33m\u001b[0m\u001b[1;33m\u001b[0m\u001b[0m\n\u001b[0m\u001b[0;32m    135\u001b[0m     \u001b[1;31m# Make sure columns are of type string\u001b[0m\u001b[1;33m\u001b[0m\u001b[1;33m\u001b[0m\u001b[0m\n\u001b[0;32m    136\u001b[0m     \u001b[0mdf\u001b[0m\u001b[1;33m.\u001b[0m\u001b[0mcolumns\u001b[0m \u001b[1;33m=\u001b[0m \u001b[0mdf\u001b[0m\u001b[1;33m.\u001b[0m\u001b[0mcolumns\u001b[0m\u001b[1;33m.\u001b[0m\u001b[0mastype\u001b[0m\u001b[1;33m(\u001b[0m\u001b[0mstr\u001b[0m\u001b[1;33m)\u001b[0m\u001b[1;33m\u001b[0m\u001b[1;33m\u001b[0m\u001b[0m\n",
      "\u001b[1;32m~\\anaconda3\\lib\\site-packages\\bnlearn\\structure_learning.py\u001b[0m in \u001b[0;36m_make_checks\u001b[1;34m(df, config, verbose)\u001b[0m\n\u001b[0;32m    196\u001b[0m \u001b[1;31m# %% Make Checks\u001b[0m\u001b[1;33m\u001b[0m\u001b[1;33m\u001b[0m\u001b[0m\n\u001b[0;32m    197\u001b[0m \u001b[1;32mdef\u001b[0m \u001b[0m_make_checks\u001b[0m\u001b[1;33m(\u001b[0m\u001b[0mdf\u001b[0m\u001b[1;33m,\u001b[0m \u001b[0mconfig\u001b[0m\u001b[1;33m,\u001b[0m \u001b[0mverbose\u001b[0m\u001b[1;33m=\u001b[0m\u001b[1;36m3\u001b[0m\u001b[1;33m)\u001b[0m\u001b[1;33m:\u001b[0m\u001b[1;33m\u001b[0m\u001b[1;33m\u001b[0m\u001b[0m\n\u001b[1;32m--> 198\u001b[1;33m     \u001b[1;32massert\u001b[0m \u001b[0misinstance\u001b[0m\u001b[1;33m(\u001b[0m\u001b[0mpd\u001b[0m\u001b[1;33m.\u001b[0m\u001b[0mDataFrame\u001b[0m\u001b[1;33m(\u001b[0m\u001b[1;33m)\u001b[0m\u001b[1;33m,\u001b[0m \u001b[0mtype\u001b[0m\u001b[1;33m(\u001b[0m\u001b[0mdf\u001b[0m\u001b[1;33m)\u001b[0m\u001b[1;33m)\u001b[0m\u001b[1;33m,\u001b[0m \u001b[1;34m'df must be of type pd.DataFrame()'\u001b[0m\u001b[1;33m\u001b[0m\u001b[1;33m\u001b[0m\u001b[0m\n\u001b[0m\u001b[0;32m    199\u001b[0m     \u001b[1;32mif\u001b[0m \u001b[1;32mnot\u001b[0m \u001b[0mnp\u001b[0m\u001b[1;33m.\u001b[0m\u001b[0misin\u001b[0m\u001b[1;33m(\u001b[0m\u001b[0mconfig\u001b[0m\u001b[1;33m[\u001b[0m\u001b[1;34m'scoring'\u001b[0m\u001b[1;33m]\u001b[0m\u001b[1;33m,\u001b[0m \u001b[1;33m[\u001b[0m\u001b[1;34m'bic'\u001b[0m\u001b[1;33m,\u001b[0m \u001b[1;34m'k2'\u001b[0m\u001b[1;33m,\u001b[0m \u001b[1;34m'bdeu'\u001b[0m\u001b[1;33m]\u001b[0m\u001b[1;33m)\u001b[0m\u001b[1;33m:\u001b[0m \u001b[1;32mraise\u001b[0m \u001b[0mException\u001b[0m\u001b[1;33m(\u001b[0m\u001b[1;34m'\"scoretype=%s\" is invalid.'\u001b[0m \u001b[1;33m%\u001b[0m\u001b[1;33m(\u001b[0m\u001b[0mconfig\u001b[0m\u001b[1;33m[\u001b[0m\u001b[1;34m'scoring'\u001b[0m\u001b[1;33m]\u001b[0m\u001b[1;33m)\u001b[0m\u001b[1;33m)\u001b[0m\u001b[1;33m\u001b[0m\u001b[1;33m\u001b[0m\u001b[0m\n\u001b[0;32m    200\u001b[0m     \u001b[1;32mif\u001b[0m \u001b[1;32mnot\u001b[0m \u001b[0mnp\u001b[0m\u001b[1;33m.\u001b[0m\u001b[0misin\u001b[0m\u001b[1;33m(\u001b[0m\u001b[0mconfig\u001b[0m\u001b[1;33m[\u001b[0m\u001b[1;34m'method'\u001b[0m\u001b[1;33m]\u001b[0m\u001b[1;33m,\u001b[0m \u001b[1;33m[\u001b[0m\u001b[1;34m'naivebayes'\u001b[0m\u001b[1;33m,\u001b[0m \u001b[1;34m'nb'\u001b[0m\u001b[1;33m,\u001b[0m \u001b[1;34m'tan'\u001b[0m\u001b[1;33m,\u001b[0m \u001b[1;34m'cl'\u001b[0m\u001b[1;33m,\u001b[0m \u001b[1;34m'chow-liu'\u001b[0m\u001b[1;33m,\u001b[0m \u001b[1;34m'hc'\u001b[0m\u001b[1;33m,\u001b[0m \u001b[1;34m'ex'\u001b[0m\u001b[1;33m,\u001b[0m \u001b[1;34m'cs'\u001b[0m\u001b[1;33m,\u001b[0m \u001b[1;34m'exhaustivesearch'\u001b[0m\u001b[1;33m,\u001b[0m \u001b[1;34m'hillclimbsearch'\u001b[0m\u001b[1;33m,\u001b[0m \u001b[1;34m'constraintsearch'\u001b[0m\u001b[1;33m]\u001b[0m\u001b[1;33m)\u001b[0m\u001b[1;33m:\u001b[0m \u001b[1;32mraise\u001b[0m \u001b[0mException\u001b[0m\u001b[1;33m(\u001b[0m\u001b[1;34m'\"methodtype=%s\" is invalid.'\u001b[0m \u001b[1;33m%\u001b[0m\u001b[1;33m(\u001b[0m\u001b[0mconfig\u001b[0m\u001b[1;33m[\u001b[0m\u001b[1;34m'method'\u001b[0m\u001b[1;33m]\u001b[0m\u001b[1;33m)\u001b[0m\u001b[1;33m)\u001b[0m\u001b[1;33m\u001b[0m\u001b[1;33m\u001b[0m\u001b[0m\n",
      "\u001b[1;31mAssertionError\u001b[0m: df must be of type pd.DataFrame()"
     ]
    }
   ],
   "source": [
    "import bnlearn as bn\n",
    "# Learn the DAG in data using Bayesian structure learning:\n",
    "DAG = bn.structure_learning.fit(mat)\n",
    "# print adjacency matrix\n",
    "print(DAG['adjmat'])"
   ]
  },
  {
   "cell_type": "code",
   "execution_count": 17,
   "metadata": {},
   "outputs": [
    {
     "ename": "AssertionError",
     "evalue": "df must be of type pd.DataFrame()",
     "output_type": "error",
     "traceback": [
      "\u001b[1;31m---------------------------------------------------------------------------\u001b[0m",
      "\u001b[1;31mAssertionError\u001b[0m                            Traceback (most recent call last)",
      "\u001b[1;32m~\\AppData\\Local\\Temp/ipykernel_59632/2212256495.py\u001b[0m in \u001b[0;36m<module>\u001b[1;34m\u001b[0m\n\u001b[0;32m      1\u001b[0m \u001b[1;32mimport\u001b[0m \u001b[0mbnlearn\u001b[0m \u001b[1;32mas\u001b[0m \u001b[0mbn\u001b[0m\u001b[1;33m\u001b[0m\u001b[1;33m\u001b[0m\u001b[0m\n\u001b[1;32m----> 2\u001b[1;33m \u001b[0mmodel_hc_bic\u001b[0m  \u001b[1;33m=\u001b[0m \u001b[0mbn\u001b[0m\u001b[1;33m.\u001b[0m\u001b[0mstructure_learning\u001b[0m\u001b[1;33m.\u001b[0m\u001b[0mfit\u001b[0m\u001b[1;33m(\u001b[0m\u001b[0mmat\u001b[0m\u001b[1;33m,\u001b[0m \u001b[0mmethodtype\u001b[0m\u001b[1;33m=\u001b[0m\u001b[1;34m'hc'\u001b[0m\u001b[1;33m,\u001b[0m \u001b[0mscoretype\u001b[0m\u001b[1;33m=\u001b[0m\u001b[1;34m'bic'\u001b[0m\u001b[1;33m)\u001b[0m\u001b[1;33m\u001b[0m\u001b[1;33m\u001b[0m\u001b[0m\n\u001b[0m\u001b[0;32m      3\u001b[0m     \u001b[1;31m# Compute edge strength with the chi_square test statistic\u001b[0m\u001b[1;33m\u001b[0m\u001b[1;33m\u001b[0m\u001b[0m\n\u001b[0;32m      4\u001b[0m \u001b[0mmodel\u001b[0m \u001b[1;33m=\u001b[0m \u001b[0mbn\u001b[0m\u001b[1;33m.\u001b[0m\u001b[0mindependence_test\u001b[0m\u001b[1;33m(\u001b[0m\u001b[0mmodel_hc_bic\u001b[0m\u001b[1;33m,\u001b[0m \u001b[0mmat\u001b[0m\u001b[1;33m)\u001b[0m\u001b[1;33m\u001b[0m\u001b[1;33m\u001b[0m\u001b[0m\n\u001b[0;32m      5\u001b[0m \u001b[0mG\u001b[0m \u001b[1;33m=\u001b[0m \u001b[0mbn\u001b[0m\u001b[1;33m.\u001b[0m\u001b[0mplot\u001b[0m\u001b[1;33m(\u001b[0m\u001b[0mmodel\u001b[0m\u001b[1;33m)\u001b[0m\u001b[1;33m\u001b[0m\u001b[1;33m\u001b[0m\u001b[0m\n",
      "\u001b[1;32m~\\anaconda3\\lib\\site-packages\\bnlearn\\structure_learning.py\u001b[0m in \u001b[0;36mfit\u001b[1;34m(df, methodtype, scoretype, black_list, white_list, bw_list_method, max_indegree, tabu_length, epsilon, max_iter, root_node, class_node, fixed_edges, return_all_dags, verbose)\u001b[0m\n\u001b[0;32m    132\u001b[0m     \u001b[0mconfig\u001b[0m \u001b[1;33m=\u001b[0m \u001b[1;33m{\u001b[0m\u001b[1;34m'method'\u001b[0m\u001b[1;33m:\u001b[0m \u001b[0mmethodtype\u001b[0m\u001b[1;33m,\u001b[0m \u001b[1;34m'scoring'\u001b[0m\u001b[1;33m:\u001b[0m \u001b[0mscoretype\u001b[0m\u001b[1;33m,\u001b[0m \u001b[1;34m'black_list'\u001b[0m\u001b[1;33m:\u001b[0m \u001b[0mblack_list\u001b[0m\u001b[1;33m,\u001b[0m \u001b[1;34m'white_list'\u001b[0m\u001b[1;33m:\u001b[0m \u001b[0mwhite_list\u001b[0m\u001b[1;33m,\u001b[0m \u001b[1;34m'bw_list_method'\u001b[0m\u001b[1;33m:\u001b[0m \u001b[0mbw_list_method\u001b[0m\u001b[1;33m,\u001b[0m \u001b[1;34m'max_indegree'\u001b[0m\u001b[1;33m:\u001b[0m \u001b[0mmax_indegree\u001b[0m\u001b[1;33m,\u001b[0m \u001b[1;34m'tabu_length'\u001b[0m\u001b[1;33m:\u001b[0m \u001b[0mtabu_length\u001b[0m\u001b[1;33m,\u001b[0m \u001b[1;34m'epsilon'\u001b[0m\u001b[1;33m:\u001b[0m \u001b[0mepsilon\u001b[0m\u001b[1;33m,\u001b[0m \u001b[1;34m'max_iter'\u001b[0m\u001b[1;33m:\u001b[0m \u001b[0mmax_iter\u001b[0m\u001b[1;33m,\u001b[0m \u001b[1;34m'root_node'\u001b[0m\u001b[1;33m:\u001b[0m \u001b[0mroot_node\u001b[0m\u001b[1;33m,\u001b[0m \u001b[1;34m'class_node'\u001b[0m\u001b[1;33m:\u001b[0m \u001b[0mclass_node\u001b[0m\u001b[1;33m,\u001b[0m \u001b[1;34m'fixed_edges'\u001b[0m\u001b[1;33m:\u001b[0m \u001b[0mfixed_edges\u001b[0m\u001b[1;33m,\u001b[0m \u001b[1;34m'return_all_dags'\u001b[0m\u001b[1;33m:\u001b[0m \u001b[0mreturn_all_dags\u001b[0m\u001b[1;33m,\u001b[0m \u001b[1;34m'verbose'\u001b[0m\u001b[1;33m:\u001b[0m \u001b[0mverbose\u001b[0m\u001b[1;33m}\u001b[0m\u001b[1;33m\u001b[0m\u001b[1;33m\u001b[0m\u001b[0m\n\u001b[0;32m    133\u001b[0m     \u001b[1;31m# Make some checks\u001b[0m\u001b[1;33m\u001b[0m\u001b[1;33m\u001b[0m\u001b[0m\n\u001b[1;32m--> 134\u001b[1;33m     \u001b[0mconfig\u001b[0m \u001b[1;33m=\u001b[0m \u001b[0m_make_checks\u001b[0m\u001b[1;33m(\u001b[0m\u001b[0mdf\u001b[0m\u001b[1;33m,\u001b[0m \u001b[0mconfig\u001b[0m\u001b[1;33m,\u001b[0m \u001b[0mverbose\u001b[0m\u001b[1;33m=\u001b[0m\u001b[0mverbose\u001b[0m\u001b[1;33m)\u001b[0m\u001b[1;33m\u001b[0m\u001b[1;33m\u001b[0m\u001b[0m\n\u001b[0m\u001b[0;32m    135\u001b[0m     \u001b[1;31m# Make sure columns are of type string\u001b[0m\u001b[1;33m\u001b[0m\u001b[1;33m\u001b[0m\u001b[0m\n\u001b[0;32m    136\u001b[0m     \u001b[0mdf\u001b[0m\u001b[1;33m.\u001b[0m\u001b[0mcolumns\u001b[0m \u001b[1;33m=\u001b[0m \u001b[0mdf\u001b[0m\u001b[1;33m.\u001b[0m\u001b[0mcolumns\u001b[0m\u001b[1;33m.\u001b[0m\u001b[0mastype\u001b[0m\u001b[1;33m(\u001b[0m\u001b[0mstr\u001b[0m\u001b[1;33m)\u001b[0m\u001b[1;33m\u001b[0m\u001b[1;33m\u001b[0m\u001b[0m\n",
      "\u001b[1;32m~\\anaconda3\\lib\\site-packages\\bnlearn\\structure_learning.py\u001b[0m in \u001b[0;36m_make_checks\u001b[1;34m(df, config, verbose)\u001b[0m\n\u001b[0;32m    196\u001b[0m \u001b[1;31m# %% Make Checks\u001b[0m\u001b[1;33m\u001b[0m\u001b[1;33m\u001b[0m\u001b[0m\n\u001b[0;32m    197\u001b[0m \u001b[1;32mdef\u001b[0m \u001b[0m_make_checks\u001b[0m\u001b[1;33m(\u001b[0m\u001b[0mdf\u001b[0m\u001b[1;33m,\u001b[0m \u001b[0mconfig\u001b[0m\u001b[1;33m,\u001b[0m \u001b[0mverbose\u001b[0m\u001b[1;33m=\u001b[0m\u001b[1;36m3\u001b[0m\u001b[1;33m)\u001b[0m\u001b[1;33m:\u001b[0m\u001b[1;33m\u001b[0m\u001b[1;33m\u001b[0m\u001b[0m\n\u001b[1;32m--> 198\u001b[1;33m     \u001b[1;32massert\u001b[0m \u001b[0misinstance\u001b[0m\u001b[1;33m(\u001b[0m\u001b[0mpd\u001b[0m\u001b[1;33m.\u001b[0m\u001b[0mDataFrame\u001b[0m\u001b[1;33m(\u001b[0m\u001b[1;33m)\u001b[0m\u001b[1;33m,\u001b[0m \u001b[0mtype\u001b[0m\u001b[1;33m(\u001b[0m\u001b[0mdf\u001b[0m\u001b[1;33m)\u001b[0m\u001b[1;33m)\u001b[0m\u001b[1;33m,\u001b[0m \u001b[1;34m'df must be of type pd.DataFrame()'\u001b[0m\u001b[1;33m\u001b[0m\u001b[1;33m\u001b[0m\u001b[0m\n\u001b[0m\u001b[0;32m    199\u001b[0m     \u001b[1;32mif\u001b[0m \u001b[1;32mnot\u001b[0m \u001b[0mnp\u001b[0m\u001b[1;33m.\u001b[0m\u001b[0misin\u001b[0m\u001b[1;33m(\u001b[0m\u001b[0mconfig\u001b[0m\u001b[1;33m[\u001b[0m\u001b[1;34m'scoring'\u001b[0m\u001b[1;33m]\u001b[0m\u001b[1;33m,\u001b[0m \u001b[1;33m[\u001b[0m\u001b[1;34m'bic'\u001b[0m\u001b[1;33m,\u001b[0m \u001b[1;34m'k2'\u001b[0m\u001b[1;33m,\u001b[0m \u001b[1;34m'bdeu'\u001b[0m\u001b[1;33m]\u001b[0m\u001b[1;33m)\u001b[0m\u001b[1;33m:\u001b[0m \u001b[1;32mraise\u001b[0m \u001b[0mException\u001b[0m\u001b[1;33m(\u001b[0m\u001b[1;34m'\"scoretype=%s\" is invalid.'\u001b[0m \u001b[1;33m%\u001b[0m\u001b[1;33m(\u001b[0m\u001b[0mconfig\u001b[0m\u001b[1;33m[\u001b[0m\u001b[1;34m'scoring'\u001b[0m\u001b[1;33m]\u001b[0m\u001b[1;33m)\u001b[0m\u001b[1;33m)\u001b[0m\u001b[1;33m\u001b[0m\u001b[1;33m\u001b[0m\u001b[0m\n\u001b[0;32m    200\u001b[0m     \u001b[1;32mif\u001b[0m \u001b[1;32mnot\u001b[0m \u001b[0mnp\u001b[0m\u001b[1;33m.\u001b[0m\u001b[0misin\u001b[0m\u001b[1;33m(\u001b[0m\u001b[0mconfig\u001b[0m\u001b[1;33m[\u001b[0m\u001b[1;34m'method'\u001b[0m\u001b[1;33m]\u001b[0m\u001b[1;33m,\u001b[0m \u001b[1;33m[\u001b[0m\u001b[1;34m'naivebayes'\u001b[0m\u001b[1;33m,\u001b[0m \u001b[1;34m'nb'\u001b[0m\u001b[1;33m,\u001b[0m \u001b[1;34m'tan'\u001b[0m\u001b[1;33m,\u001b[0m \u001b[1;34m'cl'\u001b[0m\u001b[1;33m,\u001b[0m \u001b[1;34m'chow-liu'\u001b[0m\u001b[1;33m,\u001b[0m \u001b[1;34m'hc'\u001b[0m\u001b[1;33m,\u001b[0m \u001b[1;34m'ex'\u001b[0m\u001b[1;33m,\u001b[0m \u001b[1;34m'cs'\u001b[0m\u001b[1;33m,\u001b[0m \u001b[1;34m'exhaustivesearch'\u001b[0m\u001b[1;33m,\u001b[0m \u001b[1;34m'hillclimbsearch'\u001b[0m\u001b[1;33m,\u001b[0m \u001b[1;34m'constraintsearch'\u001b[0m\u001b[1;33m]\u001b[0m\u001b[1;33m)\u001b[0m\u001b[1;33m:\u001b[0m \u001b[1;32mraise\u001b[0m \u001b[0mException\u001b[0m\u001b[1;33m(\u001b[0m\u001b[1;34m'\"methodtype=%s\" is invalid.'\u001b[0m \u001b[1;33m%\u001b[0m\u001b[1;33m(\u001b[0m\u001b[0mconfig\u001b[0m\u001b[1;33m[\u001b[0m\u001b[1;34m'method'\u001b[0m\u001b[1;33m]\u001b[0m\u001b[1;33m)\u001b[0m\u001b[1;33m)\u001b[0m\u001b[1;33m\u001b[0m\u001b[1;33m\u001b[0m\u001b[0m\n",
      "\u001b[1;31mAssertionError\u001b[0m: df must be of type pd.DataFrame()"
     ]
    }
   ],
   "source": [
    "model_hc_bic  = bn.structure_learning.fit(mat, methodtype='hc', scoretype='bic')\n",
    "    # Compute edge strength with the chi_square test statistic\n",
    "model = bn.independence_test(model_hc_bic, mat)\n",
    "G = bn.plot(model)"
   ]
  }
 ],
 "metadata": {
  "interpreter": {
   "hash": "d66c663352a93aca0402de51e85d6aa16823dfcb804efd49b2a93bf67c0dc337"
  },
  "kernelspec": {
   "display_name": "Python 3.9.7 ('base')",
   "language": "python",
   "name": "python3"
  },
  "language_info": {
   "codemirror_mode": {
    "name": "ipython",
    "version": 3
   },
   "file_extension": ".py",
   "mimetype": "text/x-python",
   "name": "python",
   "nbconvert_exporter": "python",
   "pygments_lexer": "ipython3",
   "version": "3.9.7"
  },
  "orig_nbformat": 4
 },
 "nbformat": 4,
 "nbformat_minor": 2
}
