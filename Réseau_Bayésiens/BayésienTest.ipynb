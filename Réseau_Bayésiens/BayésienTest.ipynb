{
 "cells": [
  {
   "cell_type": "code",
   "execution_count": 25,
   "metadata": {},
   "outputs": [
    {
     "name": "stdout",
     "output_type": "stream",
     "text": [
      "Requirement already satisfied: bnlearn in c:\\users\\achan\\anaconda3\\lib\\site-packages (0.6.2)\n",
      "Requirement already satisfied: ismember in c:\\users\\achan\\anaconda3\\lib\\site-packages (from bnlearn) (1.0.1)\n",
      "Requirement already satisfied: tqdm in c:\\users\\achan\\anaconda3\\lib\\site-packages (from bnlearn) (4.62.3)\n",
      "Requirement already satisfied: funcsigs in c:\\users\\achan\\anaconda3\\lib\\site-packages (from bnlearn) (1.0.2)\n",
      "Requirement already satisfied: fsspec in c:\\users\\achan\\anaconda3\\lib\\site-packages (from bnlearn) (2021.10.1)\n",
      "Requirement already satisfied: matplotlib>=3.3.4 in c:\\users\\achan\\anaconda3\\lib\\site-packages (from bnlearn) (3.4.3)\n",
      "Requirement already satisfied: tabulate in c:\\users\\achan\\anaconda3\\lib\\site-packages (from bnlearn) (0.8.9)\n",
      "Requirement already satisfied: ipywidgets in c:\\users\\achan\\anaconda3\\lib\\site-packages (from bnlearn) (7.6.5)\n",
      "Requirement already satisfied: packaging in c:\\users\\achan\\anaconda3\\lib\\site-packages (from bnlearn) (21.0)\n",
      "Requirement already satisfied: pypickle in c:\\users\\achan\\anaconda3\\lib\\site-packages (from bnlearn) (1.1.0)\n",
      "Requirement already satisfied: statsmodels in c:\\users\\achan\\anaconda3\\lib\\site-packages (from bnlearn) (0.12.2)\n",
      "Requirement already satisfied: community in c:\\users\\achan\\anaconda3\\lib\\site-packages (from bnlearn) (1.0.0b1)\n",
      "Requirement already satisfied: df2onehot in c:\\users\\achan\\anaconda3\\lib\\site-packages (from bnlearn) (1.0.0)\n",
      "Requirement already satisfied: wget in c:\\users\\achan\\anaconda3\\lib\\site-packages (from bnlearn) (3.2)\n",
      "Requirement already satisfied: sklearn in c:\\users\\achan\\anaconda3\\lib\\site-packages (from bnlearn) (0.0)\n",
      "Requirement already satisfied: pandas in c:\\users\\achan\\anaconda3\\lib\\site-packages (from bnlearn) (1.3.4)\n",
      "Requirement already satisfied: pgmpy>=0.1.13 in c:\\users\\achan\\anaconda3\\lib\\site-packages (from bnlearn) (0.1.17)\n",
      "Requirement already satisfied: networkx>2.5 in c:\\users\\achan\\anaconda3\\lib\\site-packages (from bnlearn) (2.6.3)\n",
      "Requirement already satisfied: numpy in c:\\users\\achan\\anaconda3\\lib\\site-packages (from bnlearn) (1.20.0)\n",
      "Requirement already satisfied: pyparsing>=2.2.1 in c:\\users\\achan\\anaconda3\\lib\\site-packages (from matplotlib>=3.3.4->bnlearn) (3.0.4)\n",
      "Requirement already satisfied: pillow>=6.2.0 in c:\\users\\achan\\anaconda3\\lib\\site-packages (from matplotlib>=3.3.4->bnlearn) (8.4.0)\n",
      "Requirement already satisfied: kiwisolver>=1.0.1 in c:\\users\\achan\\anaconda3\\lib\\site-packages (from matplotlib>=3.3.4->bnlearn) (1.3.1)\n",
      "Requirement already satisfied: python-dateutil>=2.7 in c:\\users\\achan\\anaconda3\\lib\\site-packages (from matplotlib>=3.3.4->bnlearn) (2.8.2)\n",
      "Requirement already satisfied: cycler>=0.10 in c:\\users\\achan\\anaconda3\\lib\\site-packages (from matplotlib>=3.3.4->bnlearn) (0.10.0)\n",
      "Requirement already satisfied: six in c:\\users\\achan\\anaconda3\\lib\\site-packages (from cycler>=0.10->matplotlib>=3.3.4->bnlearn) (1.16.0)\n",
      "Requirement already satisfied: scipy in c:\\users\\achan\\anaconda3\\lib\\site-packages (from pgmpy>=0.1.13->bnlearn) (1.7.1)\n",
      "Requirement already satisfied: joblib in c:\\users\\achan\\anaconda3\\lib\\site-packages (from pgmpy>=0.1.13->bnlearn) (1.1.0)\n",
      "Requirement already satisfied: scikit-learn in c:\\users\\achan\\anaconda3\\lib\\site-packages (from pgmpy>=0.1.13->bnlearn) (0.24.2)\n",
      "Requirement already satisfied: torch in c:\\users\\achan\\anaconda3\\lib\\site-packages (from pgmpy>=0.1.13->bnlearn) (1.10.2)\n",
      "Requirement already satisfied: requests in c:\\users\\achan\\anaconda3\\lib\\site-packages (from community->bnlearn) (2.26.0)\n",
      "Requirement already satisfied: Flask in c:\\users\\achan\\anaconda3\\lib\\site-packages (from community->bnlearn) (1.1.2)\n",
      "Requirement already satisfied: click>=5.1 in c:\\users\\achan\\anaconda3\\lib\\site-packages (from Flask->community->bnlearn) (8.0.3)\n",
      "Requirement already satisfied: Jinja2>=2.10.1 in c:\\users\\achan\\anaconda3\\lib\\site-packages (from Flask->community->bnlearn) (2.11.3)\n",
      "Requirement already satisfied: Werkzeug>=0.15 in c:\\users\\achan\\anaconda3\\lib\\site-packages (from Flask->community->bnlearn) (2.0.2)\n",
      "Requirement already satisfied: itsdangerous>=0.24 in c:\\users\\achan\\anaconda3\\lib\\site-packages (from Flask->community->bnlearn) (2.0.1)\n",
      "Requirement already satisfied: colorama in c:\\users\\achan\\anaconda3\\lib\\site-packages (from click>=5.1->Flask->community->bnlearn) (0.4.4)\n",
      "Requirement already satisfied: MarkupSafe>=0.23 in c:\\users\\achan\\anaconda3\\lib\\site-packages (from Jinja2>=2.10.1->Flask->community->bnlearn) (1.1.1)\n",
      "Requirement already satisfied: jupyterlab-widgets>=1.0.0 in c:\\users\\achan\\anaconda3\\lib\\site-packages (from ipywidgets->bnlearn) (1.0.0)\n",
      "Requirement already satisfied: ipython>=4.0.0 in c:\\users\\achan\\anaconda3\\lib\\site-packages (from ipywidgets->bnlearn) (7.29.0)\n",
      "Requirement already satisfied: nbformat>=4.2.0 in c:\\users\\achan\\anaconda3\\lib\\site-packages (from ipywidgets->bnlearn) (5.1.3)\n",
      "Requirement already satisfied: widgetsnbextension~=3.5.0 in c:\\users\\achan\\anaconda3\\lib\\site-packages (from ipywidgets->bnlearn) (3.5.1)\n",
      "Requirement already satisfied: ipykernel>=4.5.1 in c:\\users\\achan\\anaconda3\\lib\\site-packages (from ipywidgets->bnlearn) (6.4.1)\n",
      "Requirement already satisfied: ipython-genutils~=0.2.0 in c:\\users\\achan\\anaconda3\\lib\\site-packages (from ipywidgets->bnlearn) (0.2.0)\n",
      "Requirement already satisfied: traitlets>=4.3.1 in c:\\users\\achan\\anaconda3\\lib\\site-packages (from ipywidgets->bnlearn) (5.1.0)\n",
      "Requirement already satisfied: tornado<7.0,>=4.2 in c:\\users\\achan\\anaconda3\\lib\\site-packages (from ipykernel>=4.5.1->ipywidgets->bnlearn) (6.1)\n",
      "Requirement already satisfied: matplotlib-inline<0.2.0,>=0.1.0 in c:\\users\\achan\\anaconda3\\lib\\site-packages (from ipykernel>=4.5.1->ipywidgets->bnlearn) (0.1.2)\n",
      "Requirement already satisfied: jupyter-client<8.0 in c:\\users\\achan\\anaconda3\\lib\\site-packages (from ipykernel>=4.5.1->ipywidgets->bnlearn) (6.1.12)\n",
      "Requirement already satisfied: debugpy<2.0,>=1.0.0 in c:\\users\\achan\\anaconda3\\lib\\site-packages (from ipykernel>=4.5.1->ipywidgets->bnlearn) (1.4.1)\n",
      "Requirement already satisfied: decorator in c:\\users\\achan\\anaconda3\\lib\\site-packages (from ipython>=4.0.0->ipywidgets->bnlearn) (5.1.0)\n",
      "Requirement already satisfied: pygments in c:\\users\\achan\\anaconda3\\lib\\site-packages (from ipython>=4.0.0->ipywidgets->bnlearn) (2.10.0)\n",
      "Requirement already satisfied: jedi>=0.16 in c:\\users\\achan\\anaconda3\\lib\\site-packages (from ipython>=4.0.0->ipywidgets->bnlearn) (0.18.0)\n",
      "Requirement already satisfied: pickleshare in c:\\users\\achan\\anaconda3\\lib\\site-packages (from ipython>=4.0.0->ipywidgets->bnlearn) (0.7.5)\n",
      "Requirement already satisfied: backcall in c:\\users\\achan\\anaconda3\\lib\\site-packages (from ipython>=4.0.0->ipywidgets->bnlearn) (0.2.0)\n",
      "Requirement already satisfied: setuptools>=18.5 in c:\\users\\achan\\anaconda3\\lib\\site-packages (from ipython>=4.0.0->ipywidgets->bnlearn) (58.0.4)\n",
      "Requirement already satisfied: prompt-toolkit!=3.0.0,!=3.0.1,<3.1.0,>=2.0.0 in c:\\users\\achan\\anaconda3\\lib\\site-packages (from ipython>=4.0.0->ipywidgets->bnlearn) (3.0.20)\n",
      "Requirement already satisfied: parso<0.9.0,>=0.8.0 in c:\\users\\achan\\anaconda3\\lib\\site-packages (from jedi>=0.16->ipython>=4.0.0->ipywidgets->bnlearn) (0.8.2)\n",
      "Requirement already satisfied: jupyter-core>=4.6.0 in c:\\users\\achan\\anaconda3\\lib\\site-packages (from jupyter-client<8.0->ipykernel>=4.5.1->ipywidgets->bnlearn) (4.8.1)\n",
      "Requirement already satisfied: pyzmq>=13 in c:\\users\\achan\\anaconda3\\lib\\site-packages (from jupyter-client<8.0->ipykernel>=4.5.1->ipywidgets->bnlearn) (22.2.1)\n",
      "Requirement already satisfied: pywin32>=1.0 in c:\\users\\achan\\anaconda3\\lib\\site-packages (from jupyter-core>=4.6.0->jupyter-client<8.0->ipykernel>=4.5.1->ipywidgets->bnlearn) (228)\n",
      "Requirement already satisfied: jsonschema!=2.5.0,>=2.4 in c:\\users\\achan\\anaconda3\\lib\\site-packages (from nbformat>=4.2.0->ipywidgets->bnlearn) (3.2.0)\n",
      "Requirement already satisfied: pyrsistent>=0.14.0 in c:\\users\\achan\\anaconda3\\lib\\site-packages (from jsonschema!=2.5.0,>=2.4->nbformat>=4.2.0->ipywidgets->bnlearn) (0.18.0)\n",
      "Requirement already satisfied: attrs>=17.4.0 in c:\\users\\achan\\anaconda3\\lib\\site-packages (from jsonschema!=2.5.0,>=2.4->nbformat>=4.2.0->ipywidgets->bnlearn) (21.2.0)\n",
      "Requirement already satisfied: wcwidth in c:\\users\\achan\\anaconda3\\lib\\site-packages (from prompt-toolkit!=3.0.0,!=3.0.1,<3.1.0,>=2.0.0->ipython>=4.0.0->ipywidgets->bnlearn) (0.2.5)\n",
      "Requirement already satisfied: notebook>=4.4.1 in c:\\users\\achan\\anaconda3\\lib\\site-packages (from widgetsnbextension~=3.5.0->ipywidgets->bnlearn) (6.4.5)\n",
      "Requirement already satisfied: argon2-cffi in c:\\users\\achan\\anaconda3\\lib\\site-packages (from notebook>=4.4.1->widgetsnbextension~=3.5.0->ipywidgets->bnlearn) (20.1.0)\n",
      "Requirement already satisfied: prometheus-client in c:\\users\\achan\\anaconda3\\lib\\site-packages (from notebook>=4.4.1->widgetsnbextension~=3.5.0->ipywidgets->bnlearn) (0.11.0)\n",
      "Requirement already satisfied: Send2Trash>=1.5.0 in c:\\users\\achan\\anaconda3\\lib\\site-packages (from notebook>=4.4.1->widgetsnbextension~=3.5.0->ipywidgets->bnlearn) (1.8.0)\n",
      "Requirement already satisfied: nbconvert in c:\\users\\achan\\anaconda3\\lib\\site-packages (from notebook>=4.4.1->widgetsnbextension~=3.5.0->ipywidgets->bnlearn) (6.1.0)\n",
      "Requirement already satisfied: terminado>=0.8.3 in c:\\users\\achan\\anaconda3\\lib\\site-packages (from notebook>=4.4.1->widgetsnbextension~=3.5.0->ipywidgets->bnlearn) (0.9.4)\n",
      "Requirement already satisfied: pywinpty>=0.5 in c:\\users\\achan\\anaconda3\\lib\\site-packages (from terminado>=0.8.3->notebook>=4.4.1->widgetsnbextension~=3.5.0->ipywidgets->bnlearn) (0.5.7)\n",
      "Requirement already satisfied: cffi>=1.0.0 in c:\\users\\achan\\anaconda3\\lib\\site-packages (from argon2-cffi->notebook>=4.4.1->widgetsnbextension~=3.5.0->ipywidgets->bnlearn) (1.14.6)\n",
      "Requirement already satisfied: pycparser in c:\\users\\achan\\anaconda3\\lib\\site-packages (from cffi>=1.0.0->argon2-cffi->notebook>=4.4.1->widgetsnbextension~=3.5.0->ipywidgets->bnlearn) (2.20)\n",
      "Requirement already satisfied: jupyterlab-pygments in c:\\users\\achan\\anaconda3\\lib\\site-packages (from nbconvert->notebook>=4.4.1->widgetsnbextension~=3.5.0->ipywidgets->bnlearn) (0.1.2)\n",
      "Requirement already satisfied: defusedxml in c:\\users\\achan\\anaconda3\\lib\\site-packages (from nbconvert->notebook>=4.4.1->widgetsnbextension~=3.5.0->ipywidgets->bnlearn) (0.7.1)\n",
      "Requirement already satisfied: testpath in c:\\users\\achan\\anaconda3\\lib\\site-packages (from nbconvert->notebook>=4.4.1->widgetsnbextension~=3.5.0->ipywidgets->bnlearn) (0.5.0)\n",
      "Requirement already satisfied: mistune<2,>=0.8.1 in c:\\users\\achan\\anaconda3\\lib\\site-packages (from nbconvert->notebook>=4.4.1->widgetsnbextension~=3.5.0->ipywidgets->bnlearn) (0.8.4)\n",
      "Requirement already satisfied: pandocfilters>=1.4.1 in c:\\users\\achan\\anaconda3\\lib\\site-packages (from nbconvert->notebook>=4.4.1->widgetsnbextension~=3.5.0->ipywidgets->bnlearn) (1.4.3)\n",
      "Requirement already satisfied: bleach in c:\\users\\achan\\anaconda3\\lib\\site-packages (from nbconvert->notebook>=4.4.1->widgetsnbextension~=3.5.0->ipywidgets->bnlearn) (4.0.0)\n",
      "Requirement already satisfied: nbclient<0.6.0,>=0.5.0 in c:\\users\\achan\\anaconda3\\lib\\site-packages (from nbconvert->notebook>=4.4.1->widgetsnbextension~=3.5.0->ipywidgets->bnlearn) (0.5.3)\n",
      "Requirement already satisfied: entrypoints>=0.2.2 in c:\\users\\achan\\anaconda3\\lib\\site-packages (from nbconvert->notebook>=4.4.1->widgetsnbextension~=3.5.0->ipywidgets->bnlearn) (0.3)\n",
      "Requirement already satisfied: nest-asyncio in c:\\users\\achan\\anaconda3\\lib\\site-packages (from nbclient<0.6.0,>=0.5.0->nbconvert->notebook>=4.4.1->widgetsnbextension~=3.5.0->ipywidgets->bnlearn) (1.5.1)\n",
      "Requirement already satisfied: async-generator in c:\\users\\achan\\anaconda3\\lib\\site-packages (from nbclient<0.6.0,>=0.5.0->nbconvert->notebook>=4.4.1->widgetsnbextension~=3.5.0->ipywidgets->bnlearn) (1.10)\n",
      "Requirement already satisfied: webencodings in c:\\users\\achan\\anaconda3\\lib\\site-packages (from bleach->nbconvert->notebook>=4.4.1->widgetsnbextension~=3.5.0->ipywidgets->bnlearn) (0.5.1)\n",
      "Requirement already satisfied: pytz>=2017.3 in c:\\users\\achan\\anaconda3\\lib\\site-packages (from pandas->bnlearn) (2021.3)\n",
      "Requirement already satisfied: urllib3<1.27,>=1.21.1 in c:\\users\\achan\\anaconda3\\lib\\site-packages (from requests->community->bnlearn) (1.26.7)\n",
      "Requirement already satisfied: idna<4,>=2.5 in c:\\users\\achan\\anaconda3\\lib\\site-packages (from requests->community->bnlearn) (3.2)\n",
      "Requirement already satisfied: charset-normalizer~=2.0.0 in c:\\users\\achan\\anaconda3\\lib\\site-packages (from requests->community->bnlearn) (2.0.4)\n",
      "Requirement already satisfied: certifi>=2017.4.17 in c:\\users\\achan\\anaconda3\\lib\\site-packages (from requests->community->bnlearn) (2021.10.8)\n",
      "Requirement already satisfied: threadpoolctl>=2.0.0 in c:\\users\\achan\\anaconda3\\lib\\site-packages (from scikit-learn->pgmpy>=0.1.13->bnlearn) (2.2.0)\n",
      "Requirement already satisfied: patsy>=0.5 in c:\\users\\achan\\anaconda3\\lib\\site-packages (from statsmodels->bnlearn) (0.5.2)\n",
      "Requirement already satisfied: typing-extensions in c:\\users\\achan\\anaconda3\\lib\\site-packages (from torch->pgmpy>=0.1.13->bnlearn) (3.10.0.2)\n",
      "Note: you may need to restart the kernel to use updated packages.\n"
     ]
    },
    {
     "name": "stderr",
     "output_type": "stream",
     "text": [
      "WARNING: Retrying (Retry(total=4, connect=None, read=None, redirect=None, status=None)) after connection broken by 'ProtocolError('Connection aborted.', ConnectionResetError(10054, 'Une connexion existante a dû être fermée par l’hôte distant', None, 10054, None))': /simple/bnlearn/\n"
     ]
    },
    {
     "name": "stdout",
     "output_type": "stream",
     "text": [
      "Requirement already satisfied: pyvis in c:\\users\\achan\\anaconda3\\lib\\site-packages (0.1.9)\n",
      "Note: you may need to restart the kernel to use updated packages.\n",
      "Requirement already satisfied: ipython>=5.3.0 in c:\\users\\achan\\anaconda3\\lib\\site-packages (from pyvis) (7.29.0)\n",
      "Requirement already satisfied: jinja2>=2.9.6 in c:\\users\\achan\\anaconda3\\lib\\site-packages (from pyvis) (2.11.3)\n",
      "Requirement already satisfied: jsonpickle>=1.4.1 in c:\\users\\achan\\anaconda3\\lib\\site-packages (from pyvis) (2.1.0)\n",
      "Requirement already satisfied: networkx>=1.11 in c:\\users\\achan\\anaconda3\\lib\\site-packages (from pyvis) (2.6.3)\n",
      "Requirement already satisfied: prompt-toolkit!=3.0.0,!=3.0.1,<3.1.0,>=2.0.0 in c:\\users\\achan\\anaconda3\\lib\\site-packages (from ipython>=5.3.0->pyvis) (3.0.20)\n",
      "Requirement already satisfied: setuptools>=18.5 in c:\\users\\achan\\anaconda3\\lib\\site-packages (from ipython>=5.3.0->pyvis) (58.0.4)\n",
      "Requirement already satisfied: traitlets>=4.2 in c:\\users\\achan\\anaconda3\\lib\\site-packages (from ipython>=5.3.0->pyvis) (5.1.0)\n",
      "Requirement already satisfied: jedi>=0.16 in c:\\users\\achan\\anaconda3\\lib\\site-packages (from ipython>=5.3.0->pyvis) (0.18.0)\n",
      "Requirement already satisfied: backcall in c:\\users\\achan\\anaconda3\\lib\\site-packages (from ipython>=5.3.0->pyvis) (0.2.0)\n",
      "Requirement already satisfied: matplotlib-inline in c:\\users\\achan\\anaconda3\\lib\\site-packages (from ipython>=5.3.0->pyvis) (0.1.2)\n",
      "Requirement already satisfied: pygments in c:\\users\\achan\\anaconda3\\lib\\site-packages (from ipython>=5.3.0->pyvis) (2.10.0)\n",
      "Requirement already satisfied: colorama in c:\\users\\achan\\anaconda3\\lib\\site-packages (from ipython>=5.3.0->pyvis) (0.4.4)\n",
      "Requirement already satisfied: decorator in c:\\users\\achan\\anaconda3\\lib\\site-packages (from ipython>=5.3.0->pyvis) (5.1.0)\n",
      "Requirement already satisfied: pickleshare in c:\\users\\achan\\anaconda3\\lib\\site-packages (from ipython>=5.3.0->pyvis) (0.7.5)\n",
      "Requirement already satisfied: parso<0.9.0,>=0.8.0 in c:\\users\\achan\\anaconda3\\lib\\site-packages (from jedi>=0.16->ipython>=5.3.0->pyvis) (0.8.2)\n",
      "Requirement already satisfied: MarkupSafe>=0.23 in c:\\users\\achan\\anaconda3\\lib\\site-packages (from jinja2>=2.9.6->pyvis) (1.1.1)\n",
      "Requirement already satisfied: wcwidth in c:\\users\\achan\\anaconda3\\lib\\site-packages (from prompt-toolkit!=3.0.0,!=3.0.1,<3.1.0,>=2.0.0->ipython>=5.3.0->pyvis) (0.2.5)\n"
     ]
    }
   ],
   "source": [
    "%pip install -U bnlearn\n",
    "%pip install pyvis\n",
    "import pandas as pd\n",
    "import numpy as np"
   ]
  },
  {
   "cell_type": "code",
   "execution_count": 26,
   "metadata": {},
   "outputs": [
    {
     "name": "stdout",
     "output_type": "stream",
     "text": [
      "3.4.3\n",
      "0.1.17\n",
      "0.6.2\n"
     ]
    }
   ],
   "source": [
    "# Version matplotlib should be >= 3.3.4\n",
    "import matplotlib\n",
    "print(matplotlib.__version__)\n",
    "\n",
    "# Version pgmpy should be >= 0.1.13\n",
    "import pgmpy\n",
    "print(pgmpy.__version__)\n",
    "\n",
    "# Latest version bnlearn\n",
    "import bnlearn as bn\n",
    "print(bn.__version__)"
   ]
  },
  {
   "cell_type": "code",
   "execution_count": 28,
   "metadata": {},
   "outputs": [
    {
     "name": "stdout",
     "output_type": "stream",
     "text": [
      "[bnlearn] >Import dataset..\n",
      "     Cloudy  Sprinkler  Rain  Wet_Grass\n",
      "0         0          0     0          0\n",
      "1         1          0     1          1\n",
      "2         0          1     0          1\n",
      "3         1          1     1          1\n",
      "4         1          1     1          1\n",
      "..      ...        ...   ...        ...\n",
      "995       1          0     1          1\n",
      "996       1          0     1          1\n",
      "997       1          0     1          1\n",
      "998       0          0     0          0\n",
      "999       0          1     1          1\n",
      "\n",
      "[1000 rows x 4 columns]\n"
     ]
    }
   ],
   "source": [
    "df = bn.import_example('sprinkler')\n",
    "print(df)"
   ]
  },
  {
   "cell_type": "code",
   "execution_count": 29,
   "metadata": {},
   "outputs": [],
   "source": [
    "edges = [('Cloudy', 'Sprinkler'),\n",
    "         ('Cloudy', 'Rain'),\n",
    "         ('Sprinkler', 'Wet_Grass'),\n",
    "         ('Rain', 'Wet_Grass')]"
   ]
  },
  {
   "cell_type": "code",
   "execution_count": 30,
   "metadata": {},
   "outputs": [
    {
     "name": "stdout",
     "output_type": "stream",
     "text": [
      "[bnlearn] >bayes DAG created.\n",
      "[bnlearn] >No CPDs to print. Hint: Add CPDs as following: <bn.make_DAG(DAG, CPD=[cpd_A, cpd_B, etc])> and use bnlearn.plot(DAG) to make a plot.\n"
     ]
    }
   ],
   "source": [
    "import bnlearn as bn\n",
    "DAG = bn.make_DAG(edges)\n",
    "\n",
    "# Print the CPDs\n",
    "bn.print_CPD(DAG)"
   ]
  },
  {
   "cell_type": "code",
   "execution_count": 31,
   "metadata": {},
   "outputs": [
    {
     "name": "stdout",
     "output_type": "stream",
     "text": [
      "[bnlearn] >Parameter learning> Computing parameters using [maximumlikelihood]\n",
      "[bnlearn] >CPD of Cloudy:\n",
      "+-----------+-------+\n",
      "| Cloudy(0) | 0.488 |\n",
      "+-----------+-------+\n",
      "| Cloudy(1) | 0.512 |\n",
      "+-----------+-------+\n",
      "[bnlearn] >CPD of Sprinkler:\n",
      "+--------------+--------------------+------------+\n",
      "| Cloudy       | Cloudy(0)          | Cloudy(1)  |\n",
      "+--------------+--------------------+------------+\n",
      "| Sprinkler(0) | 0.4610655737704918 | 0.91015625 |\n",
      "+--------------+--------------------+------------+\n",
      "| Sprinkler(1) | 0.5389344262295082 | 0.08984375 |\n",
      "+--------------+--------------------+------------+\n",
      "[bnlearn] >CPD of Rain:\n",
      "+---------+---------------------+-------------+\n",
      "| Cloudy  | Cloudy(0)           | Cloudy(1)   |\n",
      "+---------+---------------------+-------------+\n",
      "| Rain(0) | 0.8073770491803278  | 0.177734375 |\n",
      "+---------+---------------------+-------------+\n",
      "| Rain(1) | 0.19262295081967212 | 0.822265625 |\n",
      "+---------+---------------------+-------------+\n",
      "[bnlearn] >CPD of Wet_Grass:\n",
      "+--------------+--------------+-----+----------------------+\n",
      "| Rain         | Rain(0)      | ... | Rain(1)              |\n",
      "+--------------+--------------+-----+----------------------+\n",
      "| Sprinkler    | Sprinkler(0) | ... | Sprinkler(1)         |\n",
      "+--------------+--------------+-----+----------------------+\n",
      "| Wet_Grass(0) | 1.0          | ... | 0.023529411764705882 |\n",
      "+--------------+--------------+-----+----------------------+\n",
      "| Wet_Grass(1) | 0.0          | ... | 0.9764705882352941   |\n",
      "+--------------+--------------+-----+----------------------+\n",
      "CPD of Cloudy:\n",
      "+-----------+-------+\n",
      "| Cloudy(0) | 0.488 |\n",
      "+-----------+-------+\n",
      "| Cloudy(1) | 0.512 |\n",
      "+-----------+-------+\n",
      "CPD of Sprinkler:\n",
      "+--------------+--------------------+------------+\n",
      "| Cloudy       | Cloudy(0)          | Cloudy(1)  |\n",
      "+--------------+--------------------+------------+\n",
      "| Sprinkler(0) | 0.4610655737704918 | 0.91015625 |\n",
      "+--------------+--------------------+------------+\n",
      "| Sprinkler(1) | 0.5389344262295082 | 0.08984375 |\n",
      "+--------------+--------------------+------------+\n",
      "CPD of Rain:\n",
      "+---------+---------------------+-------------+\n",
      "| Cloudy  | Cloudy(0)           | Cloudy(1)   |\n",
      "+---------+---------------------+-------------+\n",
      "| Rain(0) | 0.8073770491803278  | 0.177734375 |\n",
      "+---------+---------------------+-------------+\n",
      "| Rain(1) | 0.19262295081967212 | 0.822265625 |\n",
      "+---------+---------------------+-------------+\n",
      "CPD of Wet_Grass:\n",
      "+--------------+--------------+-----+----------------------+\n",
      "| Rain         | Rain(0)      | ... | Rain(1)              |\n",
      "+--------------+--------------+-----+----------------------+\n",
      "| Sprinkler    | Sprinkler(0) | ... | Sprinkler(1)         |\n",
      "+--------------+--------------+-----+----------------------+\n",
      "| Wet_Grass(0) | 1.0          | ... | 0.023529411764705882 |\n",
      "+--------------+--------------+-----+----------------------+\n",
      "| Wet_Grass(1) | 0.0          | ... | 0.9764705882352941   |\n",
      "+--------------+--------------+-----+----------------------+\n",
      "[bnlearn] >Independencies:\n",
      "(Cloudy ⟂ Wet_Grass | Sprinkler, Rain)\n",
      "(Sprinkler ⟂ Rain | Cloudy)\n",
      "(Rain ⟂ Sprinkler | Cloudy)\n",
      "(Wet_Grass ⟂ Cloudy | Sprinkler, Rain)\n",
      "[bnlearn] >Nodes: ['Cloudy', 'Sprinkler', 'Rain', 'Wet_Grass']\n",
      "[bnlearn] >Edges: [('Cloudy', 'Sprinkler'), ('Cloudy', 'Rain'), ('Sprinkler', 'Wet_Grass'), ('Rain', 'Wet_Grass')]\n"
     ]
    }
   ],
   "source": [
    "DAG = bn.parameter_learning.fit(DAG, df, methodtype='maximumlikelihood')\n",
    "bn.print_CPD(DAG)"
   ]
  },
  {
   "cell_type": "code",
   "execution_count": 32,
   "metadata": {},
   "outputs": [
    {
     "name": "stdout",
     "output_type": "stream",
     "text": [
      "[bnlearn] >Variable Elimination..\n"
     ]
    },
    {
     "name": "stderr",
     "output_type": "stream",
     "text": [
      "Finding Elimination Order: : : 0it [00:00, ?it/s]\n",
      "0it [00:00, ?it/s]"
     ]
    },
    {
     "name": "stdout",
     "output_type": "stream",
     "text": [
      "+----+-------------+----------+\n",
      "|    |   Wet_Grass |        p |\n",
      "+====+=============+==========+\n",
      "|  0 |           0 | 0.113953 |\n",
      "+----+-------------+----------+\n",
      "|  1 |           1 | 0.886047 |\n",
      "+----+-------------+----------+\n"
     ]
    },
    {
     "name": "stderr",
     "output_type": "stream",
     "text": [
      "\n"
     ]
    }
   ],
   "source": [
    "q1 = bn.inference.fit(DAG, variables=['Wet_Grass'], evidence={'Rain':1, 'Sprinkler':0, 'Cloudy':1})"
   ]
  },
  {
   "cell_type": "code",
   "execution_count": 33,
   "metadata": {},
   "outputs": [
    {
     "name": "stdout",
     "output_type": "stream",
     "text": [
      "   Wet_Grass         p\n",
      "0          0  0.113953\n",
      "1          1  0.886047\n"
     ]
    }
   ],
   "source": [
    "print(q1.df)"
   ]
  }
 ],
 "metadata": {
  "interpreter": {
   "hash": "d66c663352a93aca0402de51e85d6aa16823dfcb804efd49b2a93bf67c0dc337"
  },
  "kernelspec": {
   "display_name": "Python 3.9.7 ('base')",
   "language": "python",
   "name": "python3"
  },
  "language_info": {
   "codemirror_mode": {
    "name": "ipython",
    "version": 3
   },
   "file_extension": ".py",
   "mimetype": "text/x-python",
   "name": "python",
   "nbconvert_exporter": "python",
   "pygments_lexer": "ipython3",
   "version": "3.9.7"
  },
  "orig_nbformat": 4
 },
 "nbformat": 4,
 "nbformat_minor": 2
}
