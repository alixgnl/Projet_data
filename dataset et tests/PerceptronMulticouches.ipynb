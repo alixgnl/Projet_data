{
 "cells": [
  {
   "cell_type": "code",
   "execution_count": 1,
   "metadata": {},
   "outputs": [
    {
     "ename": "NameError",
     "evalue": "name 'sp' is not defined",
     "output_type": "error",
     "traceback": [
      "\u001b[0;31m---------------------------------------------------------------------------\u001b[0m",
      "\u001b[0;31mNameError\u001b[0m                                 Traceback (most recent call last)",
      "\u001b[1;32m/Users/ines/Code_Projet_Data/Repository_Alix/Projet_data/dataset et tests/PerceptronMulticouches.ipynb Cell 1'\u001b[0m in \u001b[0;36m<cell line: 11>\u001b[0;34m()\u001b[0m\n\u001b[1;32m      <a href='vscode-notebook-cell:/Users/ines/Code_Projet_Data/Repository_Alix/Projet_data/dataset%20et%20tests/PerceptronMulticouches.ipynb#ch0000000?line=5'>6</a>\u001b[0m \u001b[39mimport\u001b[39;00m \u001b[39mnumpy\u001b[39;00m \u001b[39mas\u001b[39;00m \u001b[39mnp\u001b[39;00m\n\u001b[1;32m      <a href='vscode-notebook-cell:/Users/ines/Code_Projet_Data/Repository_Alix/Projet_data/dataset%20et%20tests/PerceptronMulticouches.ipynb#ch0000000?line=6'>7</a>\u001b[0m \u001b[39m#import scipy.io as sp\u001b[39;00m\n\u001b[1;32m      <a href='vscode-notebook-cell:/Users/ines/Code_Projet_Data/Repository_Alix/Projet_data/dataset%20et%20tests/PerceptronMulticouches.ipynb#ch0000000?line=7'>8</a>\u001b[0m \u001b[39m#from sklearn.decomposition import PCA\u001b[39;00m\n\u001b[1;32m      <a href='vscode-notebook-cell:/Users/ines/Code_Projet_Data/Repository_Alix/Projet_data/dataset%20et%20tests/PerceptronMulticouches.ipynb#ch0000000?line=8'>9</a>\u001b[0m \n\u001b[1;32m     <a href='vscode-notebook-cell:/Users/ines/Code_Projet_Data/Repository_Alix/Projet_data/dataset%20et%20tests/PerceptronMulticouches.ipynb#ch0000000?line=9'>10</a>\u001b[0m \u001b[39m#traitement mat\u001b[39;00m\n\u001b[0;32m---> <a href='vscode-notebook-cell:/Users/ines/Code_Projet_Data/Repository_Alix/Projet_data/dataset%20et%20tests/PerceptronMulticouches.ipynb#ch0000000?line=10'>11</a>\u001b[0m cancercell\u001b[39m=\u001b[39msp\u001b[39m.\u001b[39mloadmat(\u001b[39m'\u001b[39m\u001b[39mbreastw.mat\u001b[39m\u001b[39m'\u001b[39m)\n\u001b[1;32m     <a href='vscode-notebook-cell:/Users/ines/Code_Projet_Data/Repository_Alix/Projet_data/dataset%20et%20tests/PerceptronMulticouches.ipynb#ch0000000?line=11'>12</a>\u001b[0m X \u001b[39m=\u001b[39m cancercell[\u001b[39m'\u001b[39m\u001b[39mX\u001b[39m\u001b[39m'\u001b[39m]\n\u001b[1;32m     <a href='vscode-notebook-cell:/Users/ines/Code_Projet_Data/Repository_Alix/Projet_data/dataset%20et%20tests/PerceptronMulticouches.ipynb#ch0000000?line=12'>13</a>\u001b[0m y \u001b[39m=\u001b[39m cancercell[\u001b[39m'\u001b[39m\u001b[39my\u001b[39m\u001b[39m'\u001b[39m]\n",
      "\u001b[0;31mNameError\u001b[0m: name 'sp' is not defined"
     ]
    }
   ],
   "source": [
    "from sklearn.model_selection import train_test_split\n",
    "#from sklearn.metrics import roc_curve, auc\n",
    "import matplotlib.pyplot as plt\n",
    "from sklearn.neural_network import MLPClassifier\n",
    "#import matplotlib.patches as mpatches\n",
    "import numpy as np\n",
    "#import scipy.io as sp\n",
    "#from sklearn.decomposition import PCA\n",
    "\n",
    "#traitement mat\n",
    "cancercell=sp.loadmat('breastw.mat')\n",
    "X = cancercell['X']\n",
    "y = cancercell['y']\n",
    "#print(cancercell)\n",
    "y=np.reshape(y,(683,))\n",
    "#Séparation des données d'apprentissage et des données tests\n",
    "X_train, X_test, y_train, y_test = train_test_split(X, y, test_size=0.5, stratify=y)\n",
    "#fin traitement mat\n",
    "\n",
    "#algorithme Réseau de neurones = Perceptron multicouches\n",
    "mlp = MLPClassifier(solver='lbfgs', alpha=1e-5, hidden_layer_sizes=(8, 2), random_state=1)\n",
    "mlp.fit(X_train, y_train)\n",
    "Prediction = mlp.predict(X_test)\n",
    "Print(Prediction)"
   ]
  }
 ],
 "metadata": {
  "interpreter": {
   "hash": "aee8b7b246df8f9039afb4144a1f6fd8d2ca17a180786b69acc140d282b71a49"
  },
  "kernelspec": {
   "display_name": "Python 3.10.2 64-bit",
   "language": "python",
   "name": "python3"
  },
  "language_info": {
   "codemirror_mode": {
    "name": "ipython",
    "version": 3
   },
   "file_extension": ".py",
   "mimetype": "text/x-python",
   "name": "python",
   "nbconvert_exporter": "python",
   "pygments_lexer": "ipython3",
   "version": "3.10.2"
  },
  "orig_nbformat": 4
 },
 "nbformat": 4,
 "nbformat_minor": 2
}
