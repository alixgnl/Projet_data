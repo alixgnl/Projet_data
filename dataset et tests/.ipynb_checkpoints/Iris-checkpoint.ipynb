{
 "cells": [
  {
   "cell_type": "code",
   "execution_count": 12,
   "metadata": {},
   "outputs": [
    {
     "name": "stdout",
     "output_type": "stream",
     "text": [
      "c:\\Users\\achan\\Documents\\EPF\\4A\\Projet MIS\\Dépôt GitHub Visual Studio code\\Projet_data_Repository_Alix\\dataset et tests\n",
      "['Autre_test.ipynb', 'breastw.mat', 'DataSetManip.ipynb', 'Iris.ipynb', 'iris_bis.csv', 'LOF.ipynb', 'test.ipynb']\n"
     ]
    }
   ],
   "source": [
    "import os\n",
    "print(os.getcwd()) #On vérifie dans quel répertoire on est (c'est pas nécessaire)\n",
    "print(os.listdir()) #...et quels fichiers sont présents dans ce répertoire, pour vérifier que le fichier csv est bien là"
   ]
  },
  {
   "cell_type": "code",
   "execution_count": 13,
   "metadata": {},
   "outputs": [
    {
     "data": {
      "text/plain": [
       "Index(['sepal_length', 'sepal_width', 'petal_length', 'petal_width',\n",
       "       'species'],\n",
       "      dtype='object')"
      ]
     },
     "execution_count": 13,
     "metadata": {},
     "output_type": "execute_result"
    }
   ],
   "source": [
    "import pandas\n",
    "\n",
    "iris=pandas.read_csv(\"iris_bis.csv\") #On fais le test sur un fichier csv modifié de la bibliothèque pandas\n",
    "# à adapter pour la dataset breastw.mat\n",
    "iris.columns #Donne les noms des colonnes de ce fichier"
   ]
  },
  {
   "cell_type": "code",
   "execution_count": 14,
   "metadata": {},
   "outputs": [
    {
     "data": {
      "image/png": "[encoded data removed]",
      "text/plain": [
       "<Figure size 432x288 with 1 Axes>"
      ]
     },
     "metadata": {
      "needs_background": "light"
     },
     "output_type": "display_data"
    }
   ],
   "source": [
    "import pandas\n",
    "import matplotlib.pyplot as plt\n",
    "from sklearn.neighbors import KNeighborsClassifier\n",
    "\n",
    "#traitement CSV\n",
    "iris=pandas.read_csv(\"iris_bis.csv\")\n",
    "x=iris.loc[:,\"petal_length\"]\n",
    "y=iris.loc[:,\"petal_width\"]\n",
    "lab=iris.loc[:,\"species\"]\n",
    "#fin traitement CSV\n",
    "\n",
    "#valeurs\n",
    "longueur=2 #on définit la longueur de la pétale,\n",
    "largeur=0.40 #sa largeur en cm,\n",
    "k=3 #et le nb de résultats plus proches.\n",
    "# EX : Pour longueur=2,5cm, largeur=0,75cm :\n",
    "# Si k=3, le résultat est l'Iris setosa, mais si k=5, le résultat sera l'Iris versicolor.\n",
    "#fin valeurs\n",
    "\n",
    "#graphique\n",
    "plt.scatter(x[lab == 0], y[lab == 0], color='g', label='setosa')\n",
    "plt.scatter(x[lab == 1], y[lab == 1], color='r', label='virginica')\n",
    "plt.scatter(x[lab == 2], y[lab == 2], color='b', label='versicolor')\n",
    "plt.scatter(longueur, largeur, color='k')\n",
    "plt.legend()\n",
    "#fin graphique\n",
    "\n",
    "#algo knn\n",
    "d=list(zip(x,y))\n",
    "model = KNeighborsClassifier(n_neighbors=k)\n",
    "model.fit(d,lab)\n",
    "prediction= model.predict([[longueur,largeur]])\n",
    "#fin algo knn\n",
    "\n",
    "#Affichage résultats\n",
    "txt=\"Résultat : \"\n",
    "if prediction[0]==0:\n",
    "    txt=txt+\"setosa\"\n",
    "if prediction[0]==1:\n",
    "    txt=txt+\"virginica\"\n",
    "if prediction[0]==2:\n",
    "    txt=txt+\"versicolor\"\n",
    "plt.text(3,0.5, f\"largeur : {largeur} cm longueur : {longueur} cm\", fontsize=12)\n",
    "plt.text(3,0.3, f\"k : {k}\", fontsize=12)\n",
    "plt.text(3,0.1, txt, fontsize=12)\n",
    "#fin affichage résultats\n",
    "\n",
    "plt.show()"
   ]
  }
 ],
 "metadata": {
  "interpreter": {
   "hash": "d66c663352a93aca0402de51e85d6aa16823dfcb804efd49b2a93bf67c0dc337"
  },
  "kernelspec": {
   "display_name": "Python 3 (ipykernel)",
   "language": "python",
   "name": "python3"
  },
  "language_info": {
   "codemirror_mode": {
    "name": "ipython",
    "version": 3
   },
   "file_extension": ".py",
   "mimetype": "text/x-python",
   "name": "python",
   "nbconvert_exporter": "python",
   "pygments_lexer": "ipython3",
   "version": "3.9.7"
  }
 },
 "nbformat": 4,
 "nbformat_minor": 2
}
