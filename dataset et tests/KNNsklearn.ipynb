{
 "cells": [
  {
   "cell_type": "code",
   "execution_count": 11,
   "metadata": {},
   "outputs": [],
   "source": [
    "# librairies\n",
    "from sklearn.model_selection import StratifiedKFold\n",
    "from sklearn.metrics import roc_curve, roc_auc_score, auc, precision_score, classification_report, confusion_matrix, accuracy_score, recall_score, f1_score\n",
    "from sklearn.neighbors import KNeighborsClassifier, BallTree\n",
    "from sklearn.svm import SVC\n",
    "from sklearn.decomposition import PCA\n",
    "from IPython.display import display\n",
    "from numpy import concatenate\n",
    "from sklearn import decomposition\n",
    "from sklearn.preprocessing import StandardScaler\n",
    "\n",
    "import matplotlib.pyplot as plt\n",
    "import matplotlib.patches as mpatches\n",
    "import numpy as np\n",
    "import scipy.io as sp\n",
    "import pandas as pd\n",
    "\n"
   ]
  },
  {
   "cell_type": "code",
   "execution_count": 12,
   "metadata": {},
   "outputs": [
    {
     "data": {
      "text/plain": [
       "\"\\ni=1\\n#MC=np.zeros((48,4))\\n\\ndef create(row, col):\\n    return [[[]for _ in range(col)]  for _ in range(row)]\\n\\nKN = range(1, 51, 3)\\nMC = create(2*len(KN)*4+1,4)\\nMC[0][0]='k (nb voisins)'\\nMC[0][1]='w (poids)'\\nMC[0][2]='a (algorithme))'\\nMC[0][3]='AUC'\\n\""
      ]
     },
     "execution_count": 12,
     "metadata": {},
     "output_type": "execute_result"
    }
   ],
   "source": [
    "#traitement fichier.mat\n",
    "dataset=sp.loadmat('breastw.mat')\n",
    "X = dataset['X']\n",
    "y = dataset['y']\n",
    "#fin traitement mat\n",
    "\n",
    "#Variables pour test\n",
    "liste_distances = ['euclidean', 'l1', 'l2', 'manhattan', 'matching', 'minkowski', 'braycurtis', 'canberra', 'chebyshev', 'cityblock', 'dice', 'infinity', 'p']\n",
    "#NE MARCHE PAS : 'pyfunc', 'seuclidean', 'wminkowski'\n",
    "#marche mais trop d'info : 'jaccard', 'kulsinski', 'hamming', 'rogerstanimoto', 'russellrao',  'sokalmichener', 'sokalsneath' , \n",
    "n_voisins = range(1,80,5) #nombre de voisins\n",
    "\n",
    "#print(sorted(BallTree.valid_metrics))\n",
    "#Fin variables\n",
    "\"\"\"\n",
    "i=1\n",
    "#MC=np.zeros((48,4))\n",
    "\n",
    "def create(row, col):\n",
    "    return [[[]for _ in range(col)]  for _ in range(row)]\n",
    "\n",
    "KN = range(1, 51, 3)\n",
    "MC = create(2*len(KN)*4+1,4)\n",
    "MC[0][0]='k (nb voisins)'\n",
    "MC[0][1]='w (poids)'\n",
    "MC[0][2]='a (algorithme))'\n",
    "MC[0][3]='AUC'\n",
    "\"\"\""
   ]
  },
  {
   "cell_type": "code",
   "execution_count": 13,
   "metadata": {},
   "outputs": [
    {
     "data": {
      "text/html": [
       "<div>\n",
       "<style scoped>\n",
       "    .dataframe tbody tr th:only-of-type {\n",
       "        vertical-align: middle;\n",
       "    }\n",
       "\n",
       "    .dataframe tbody tr th {\n",
       "        vertical-align: top;\n",
       "    }\n",
       "\n",
       "    .dataframe thead th {\n",
       "        text-align: right;\n",
       "    }\n",
       "</style>\n",
       "<table border=\"1\" class=\"dataframe\">\n",
       "  <thead>\n",
       "    <tr style=\"text-align: right;\">\n",
       "      <th></th>\n",
       "      <th>Nombre_voisins</th>\n",
       "      <th>Distance</th>\n",
       "      <th>F1 score</th>\n",
       "      <th>Recall</th>\n",
       "      <th>Precision</th>\n",
       "      <th>Accuracy</th>\n",
       "      <th>AUC</th>\n",
       "    </tr>\n",
       "  </thead>\n",
       "  <tbody>\n",
       "  </tbody>\n",
       "</table>\n",
       "</div>"
      ],
      "text/plain": [
       "Empty DataFrame\n",
       "Columns: [Nombre_voisins, Distance, F1 score, Recall, Precision, Accuracy, AUC]\n",
       "Index: []"
      ]
     },
     "metadata": {},
     "output_type": "display_data"
    }
   ],
   "source": [
    "skf = StratifiedKFold(n_splits=10,shuffle=True) # équilibrage dataset\n",
    "\n",
    "for train_index, test_index in skf.split(X,y):\n",
    "    \n",
    "    test =False\n",
    "    X_train, X_test = X[train_index,:], X[test_index,:]\n",
    "    y_train, y_test = y[train_index], y[test_index]\n",
    "    y_train=np.ravel(y_train)\n",
    "    y_test=np.ravel(y_test)\n",
    "\n",
    "    test =False\n",
    "    #for k in range(1,50,5) :\n",
    "    for k in range(1,len(X_test),5) :\n",
    "        for distance in liste_distances :\n",
    "            #algo knn\n",
    "            model_KNN = KNeighborsClassifier(n_neighbors=k, weights='distance', algorithm='auto', metric=distance)\n",
    "            model_KNN.fit(X_train,y_train)\n",
    "            y_pred_KNN = model_KNN.predict(X_test)\n",
    "            \n",
    "            model_PCA = PCA(n_components=2)\n",
    "            data_reduced = model_PCA.fit_transform(X_test)\n",
    "            #fin algo knn\n",
    "            y_scores_KNN = model_KNN.predict_proba(X_test)\n",
    "            y_scores_KNN = y_scores_KNN[:, 1]\n",
    "            \n",
    "            F1_KNN = round(f1_score(y_test,y_pred_KNN),3)\n",
    "            recall_KNN = round(recall_score(y_test,y_pred_KNN),3)\n",
    "            precision_KNN = round(precision_score(y_test,y_pred_KNN,zero_division=0),3)\n",
    "            accuracy_KNN = round(accuracy_score(y_test,y_pred_KNN),3)\n",
    "            AUC_KNN = round(roc_auc_score(y_test, y_scores_KNN),3)\n",
    "            \n",
    "            if test == False :\n",
    "                matrice_KNN = np.array([[k,distance,F1_KNN,recall_KNN,precision_KNN,accuracy_KNN,AUC_KNN]])\n",
    "                test = True\n",
    "            else :\n",
    "                matrice_KNN = np.append(matrice_KNN,np.array([k,distance,F1_KNN,recall_KNN,precision_KNN,accuracy_KNN,AUC_KNN]).reshape(1,7),axis=0)\n",
    "\n",
    "df_KNN=pd.DataFrame(matrice_KNN,  columns=['Nombre_voisins', 'Distance','F1 score','Recall','Precision','Accuracy','AUC'])\n",
    "df_KNN = df_KNN.astype({'F1 score': float, 'Recall': float,'Precision': float,'Accuracy': float,'AUC': float})\n",
    "filtered_values_1 = np.where((df_KNN['F1 score']>=0.93) & (df_KNN['Recall']>=0.925) & (df_KNN['Precision']>=0.925) & (df_KNN['AUC']>=0.925))\n",
    "display(df_KNN.iloc[filtered_values_1].sort_values(by=['AUC'], ascending=False))\n",
    "\n",
    "df_KNN.to_csv(\"Dataset comparaison param KNN.csv\")"
   ]
  },
  {
   "cell_type": "code",
   "execution_count": 16,
   "metadata": {},
   "outputs": [
    {
     "data": {
      "image/png": "[encoded data removed]",
      "text/plain": [
       "<Figure size 432x288 with 2 Axes>"
      ]
     },
     "metadata": {
      "needs_background": "light"
     },
     "output_type": "display_data"
    }
   ],
   "source": [
    "plt.subplot(1, 2, 1)\n",
    "plt.scatter(data_reduced[:,0],data_reduced[:,1],c=y_pred_KNN)\n",
    "plt.title(\"Résultat pred\")\n",
    "maline = mpatches.Patch(color='yellow', label='maline')\n",
    "benine = mpatches.Patch(color='purple', label='benine')\n",
    "plt.legend(handles=[maline,benine])\n",
    "\n",
    "plt.subplot(1, 2, 2)\n",
    "plt.scatter(data_reduced[:,0],data_reduced[:,1],c=y_test)\n",
    "plt.title(\"Résultat vrai\")\n",
    "maline = mpatches.Patch(color='yellow', label='maline')\n",
    "benine = mpatches.Patch(color='purple', label='benine')\n",
    "plt.legend(handles=[maline,benine])\n",
    "\n",
    "plt.show()"
   ]
  },
  {
   "cell_type": "code",
   "execution_count": 15,
   "metadata": {},
   "outputs": [
    {
     "name": "stdout",
     "output_type": "stream",
     "text": [
      "[0.65549993 0.08621632]\n",
      "0.7417162482831758\n"
     ]
    },
    {
     "data": {
      "text/plain": [
       "<matplotlib.colorbar.Colorbar at 0x1dfb7070250>"
      ]
     },
     "execution_count": 15,
     "metadata": {},
     "output_type": "execute_result"
    },
    {
     "data": {
      "image/png": "[encoded data removed]",
      "text/plain": [
       "<Figure size 432x288 with 2 Axes>"
      ]
     },
     "metadata": {
      "needs_background": "light"
     },
     "output_type": "display_data"
    }
   ],
   "source": [
    "#X = dataset.values\n",
    "\n",
    "X_scaled = StandardScaler().fit_transform(dataset['X'])\n",
    "\n",
    "pca = decomposition.PCA(n_components=2)\n",
    "pca.fit_transform(X_scaled)\n",
    "\n",
    "print(pca.explained_variance_ratio_)\n",
    "print(pca.explained_variance_ratio_.sum())\n",
    "\n",
    "# projeter X sur les composantes principales\n",
    "X_projected = pca.transform(X_scaled)\n",
    "\n",
    "# afficher chaque observation\n",
    "plt.scatter(X_projected[:, 0], X_projected[:, 1],\n",
    "    # colorer en utilisant la variable 'Rank'\n",
    "    c=dataset.get('AUC'))\n",
    "\n",
    "plt.xlim([-5.5, 5.5])\n",
    "plt.ylim([-4, 4])\n",
    "plt.colorbar()"
   ]
  }
 ],
 "metadata": {
  "interpreter": {
   "hash": "3d4719f48fe9fb65f931d0be53dc5a451adad3477d8408d30bf9ad7ad35a21d6"
  },
  "kernelspec": {
   "display_name": "Python 3.9.7 ('base')",
   "language": "python",
   "name": "python3"
  },
  "language_info": {
   "codemirror_mode": {
    "name": "ipython",
    "version": 3
   },
   "file_extension": ".py",
   "mimetype": "text/x-python",
   "name": "python",
   "nbconvert_exporter": "python",
   "pygments_lexer": "ipython3",
   "version": "3.9.7"
  },
  "orig_nbformat": 4
 },
 "nbformat": 4,
 "nbformat_minor": 2
}
