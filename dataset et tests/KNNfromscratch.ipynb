{
 "cells": [
  {
   "cell_type": "code",
   "execution_count": 409,
   "metadata": {},
   "outputs": [
    {
     "name": "stdout",
     "output_type": "stream",
     "text": [
      "342\n",
      "[[107 167 197 326   2]\n",
      " [ 32  46  61  90 146]\n",
      " [114 160 162  91  94]\n",
      " ...\n",
      " [179 325 339  63  98]\n",
      " [242 120  89 316 239]\n",
      " [127 305  32  46  61]]\n"
     ]
    }
   ],
   "source": [
    "# Source du code qui suit : https://towardsdatascience.com/k-nearest-neighbors-classification-from-scratch-with-numpy-cb222ecfeac1\n",
    "\n",
    "from sklearn.model_selection import train_test_split\n",
    "import numpy as np \n",
    "import scipy.io as sp\n",
    "\n",
    "\n",
    "dataSet = sp.loadmat('breastw.mat')\n",
    "X = dataSet['X']\n",
    "y = dataSet['y']\n",
    "\n",
    "#Séparation des données d'apprentissage et des données tests\n",
    "X_train, X_test, y_train, y_test = train_test_split(X, y, test_size=0.5, stratify=y)\n",
    "#Création de la fonction calculant la distance euclidienne entre 2 points\n",
    "def euclidian_distance(a, b):\n",
    "    return np.sqrt(np.sum((a-b)**2, axis=1))\n",
    "\n",
    "\n",
    "#fonction pour trouver les k plus proches voisins de chaque points test\n",
    "def kneighbors(X_test, return_distance=False): #False si on ne pondère pas par la suite avec les distance, True si on pondère\n",
    "       \n",
    "        n_neighbors = 5  #choix de l'hyperparamètre k \n",
    "        dist = [] #matrice des distances des knn pour chaque points des données tests\n",
    "        neigh_ind = [] #matrice des distances des indices des knn pour chaque points des données tests\n",
    "        \n",
    "        point_dist = [euclidian_distance(x_test, X_train) for x_test in X_test]  #On stocke les données des distances euclidiennes entre chaque points dans cette matrice\n",
    "            #chaque ligne correspond à une liste de distances entre un point donné de test et toutes les données d'apprentissage\n",
    "        \n",
    "        for row in point_dist:      #On parcours chaque ligne de la matrice des distances pour pouvoir trier les distances par ordre croissant\n",
    "            enum_neigh = enumerate(row)  #Avant de trier, on énumère chaque ligne pour ne pas perdre les indices des points de données d'apprentissage avec lesquels nous avons calculé les distances\n",
    "            sorted_neigh = sorted(enum_neigh, key=lambda x: x[1])[:n_neighbors] #Contient les k plus proches voisins de chaque données test, triés en fonction de leurs distances euclidiennes\n",
    "                        #matrice de type :(index,valeur)\n",
    "            ind_list = [tup[0] for tup in sorted_neigh]  #on extrait les indices de sorted_neigh\n",
    "            dist_list = [tup[1] for tup in sorted_neigh]  #on extrait les distances de sorted_neigh\n",
    "    \n",
    "            dist.append(dist_list)\n",
    "            neigh_ind.append(ind_list)\n",
    "        \n",
    "        if return_distance: #si on pondère le label avec les distances, on a besoin de connaître les distances au point des 5 voisins\n",
    "            return np.array(dist), np.array(neigh_ind)\n",
    "        \n",
    "        return np.array(neigh_ind)  #si on ne pondère pas avec les points, on a seulement besoin de l'indice du voisin\n",
    "\n",
    "#print(X_test,X_train,y_test,y_train)\n",
    "\n",
    "print(kneighbors(X_test, return_distance=False))    "
   ]
  },
  {
   "cell_type": "code",
   "execution_count": 410,
   "metadata": {},
   "outputs": [
    {
     "name": "stdout",
     "output_type": "stream",
     "text": [
      "prédiction avec pondération distance :\n",
      "[0 0 0 0 1 0 0 1 1 0 0 0 0 0 1 1 1 0 1 1 0 1 1 0 0 0 1 0 1 0 0 0 0 0 1 0 1\n",
      " 0 0 1 1 0 0 1 0 0 1 1 0 0 0 0 0 1 1 0 1 0 0 1 0 0 1 0 1 1 0 0 0 0 0 0 1 0\n",
      " 1 1 0 0 1 0 0 1 0 0 0 0 1 0 0 0 0 0 0 1 0 0 0 1 0 1 0 1 1 1 0 0 0 1 0 1 0\n",
      " 0 1 0 1 0 1 1 0 1 1 0 1 1 1 0 1 0 0 0 1 1 0 0 0 0 0 0 0 0 0 0 1 0 1 0 0 0\n",
      " 0 0 0 0 0 0 1 0 1 0 0 1 1 0 0 0 0 0 1 1 0 0 1 1 0 0 1 0 0 0 0 1 0 0 0 0 0\n",
      " 0 1 0 0 0 1 0 1 1 0 0 0 1 1 0 0 0 0 0 1 1 0 0 1 1 1 0 1 1 0 0 1 0 0 0 1 1\n",
      " 1 0 0 1 0 0 1 0 0 1 0 1 1 0 1 0 0 1 1 1 0 0 0 0 1 0 0 0 0 0 1 0 0 1 1 0 0\n",
      " 0 1 1 0 0 1 0 0 0 0 1 0 1 0 0 0 1 1 0 1 0 0 1 0 0 0 0 0 0 1 1 0 0 0 1 1 0\n",
      " 1 0 0 1 0 1 0 1 1 0 0 1 1 0 0 0 0 0 0 0 0 1 0 0 0 1 0 0 1 0 0 0 0 1 0 0 0\n",
      " 0 0 0 1 0 1 0 1 0]\n",
      "Y test vrai\n",
      "[[0 0 0 0 1 0 0 1 1 0 0 0 0 0 1 1 0 0 1 1 0 1 1 0 0 0 0 0 1 0 0 0 0 0 1 0\n",
      "  1 0 0 1 1 0 0 1 0 1 1 1 0 1 0 0 0 1 1 0 1 0 0 1 0 0 1 0 1 1 0 0 0 0 0 0\n",
      "  0 1 1 1 0 0 1 0 0 1 0 0 0 0 1 0 0 0 0 0 0 1 0 0 0 1 0 1 0 1 1 1 0 0 0 1\n",
      "  0 1 0 0 1 0 1 0 1 1 0 1 1 0 1 1 1 0 1 0 0 0 1 1 0 0 0 0 0 0 0 0 0 0 1 0\n",
      "  1 0 0 1 0 0 0 0 0 0 0 0 1 0 0 1 1 0 0 0 0 0 1 1 0 0 1 1 0 0 1 0 0 0 0 1\n",
      "  0 0 0 0 0 0 1 0 0 0 1 0 1 1 0 0 0 1 1 0 0 0 0 0 1 1 0 0 1 1 1 0 0 1 0 0\n",
      "  1 0 0 0 1 1 1 0 0 1 0 0 1 0 0 1 0 1 1 0 1 0 0 1 1 1 0 0 0 0 1 0 0 0 0 0\n",
      "  1 0 0 1 1 0 0 0 1 1 0 0 1 0 0 0 0 1 0 1 0 0 0 1 1 0 1 0 0 1 0 0 0 0 0 0\n",
      "  1 0 0 0 0 1 1 0 1 0 0 1 0 1 0 1 1 0 0 1 1 0 0 0 0 0 1 0 0 1 0 0 0 1 0 0\n",
      "  1 0 0 0 0 1 0 0 0 0 0 0 1 0 1 0 1 0]]\n"
     ]
    },
    {
     "name": "stderr",
     "output_type": "stream",
     "text": [
      "/var/folders/s6/p3txrvvd4498vs_xw7ryvx7h0000gn/T/ipykernel_28019/866047133.py:20: RuntimeWarning: divide by zero encountered in true_divide\n",
      "  inv_dist = 1/dist\n",
      "/var/folders/s6/p3txrvvd4498vs_xw7ryvx7h0000gn/T/ipykernel_28019/866047133.py:24: RuntimeWarning: invalid value encountered in true_divide\n",
      "  mean_inv_dist = inv_dist / np.sum(inv_dist, axis=1)[:, np.newaxis] # inverse moyen des distances entre voisins\n"
     ]
    }
   ],
   "source": [
    "#fonction pour prédire la classe de chaques point test\n",
    "#cette fonction pondère l'importance de chaque point d'apprentissage en fonction de leur distance au point test\n",
    "\n",
    "def predict(X_test, weights='uniform'):\n",
    "        \n",
    "        class_num = 2\n",
    "        \n",
    "        if weights=='uniform': #si on ne pondère pas, donc poids uniforme\n",
    "            neighbors = kneighbors(X_test)\n",
    "            y_pred = np.array([np.argmax(np.bincount(np.concatenate(y_train[neighbor]))) for neighbor in neighbors]) #on cherche les indices des voisins, puis on obtient leur label. Chaque ligne de neighbor correspond à l'ensemble des voisins de chaque point de données de test\n",
    "            #avec bincount, on compte le nombre d'occurence des 0 et des 1 parmi les labels des k voisins de chaque X_test\n",
    "            #on prend ensuite le label qui à la plus grande occurence parmi les k voisins\n",
    "            #On réitère pour chaque x_test et on stocke le label prédit dans une matrice        \n",
    "            return (y_pred)\n",
    "    \n",
    "        if weights=='distance': #si on pondère\n",
    "        \n",
    "            dist, neigh_ind = kneighbors(X_test, return_distance=True) #On récupère les distances et les indices des k plus proches voisins de chaque X_test\n",
    "            \n",
    "            inv_dist = 1/dist\n",
    "            # le voisin le plus proche du point de données de test a le plus de poids (vote) proportionnel à l'inverse de leurs distances\n",
    "            \n",
    "            mean_inv_dist = inv_dist / np.sum(inv_dist, axis=1)[:, np.newaxis] # inverse moyen des distances entre voisins\n",
    "            proba = []\n",
    "            \n",
    "            #calcul des probabilités de classe pour chaque point de données de test\n",
    "            for i, row in enumerate(mean_inv_dist):\n",
    "                \n",
    "                row_pred = y_train[neigh_ind[i]] #on récupère le label des k plus proches voisins de chaque X_test\n",
    "                \n",
    "                for k in range(class_num):\n",
    "                    indices = np.where(row_pred==k)\n",
    "                    prob_ind = np.sum(row[indices[1]]) \n",
    "                    proba.append(np.array(prob_ind))\n",
    "        \n",
    "            predict_proba = np.array(proba).reshape(X_test.shape[0], class_num)\n",
    "            \n",
    "            y_pred = np.array([np.argmax(item) for item in predict_proba])\n",
    "            \n",
    "            return y_pred\n",
    "\n",
    "#print('prédiction avec pondération distance :')\n",
    "print(predict(X_test, weights='distance'))\n",
    "print('Y test vrai')\n",
    "print(np.transpose(y_test))"
   ]
  },
  {
   "cell_type": "code",
   "execution_count": 411,
   "metadata": {},
   "outputs": [],
   "source": [
    "#calcul de l'accuracy\n",
    "#fonctionne pas pour l'instant du coup on utilise la librairie sklearn.metrics \n",
    "def score(X_test, y_test):\n",
    "    y_pred = np.transpose(predict(X_test))\n",
    "        \n",
    "    return float(sum(y_pred == np.transpose(y_test)))/ float(len(y_test))"
   ]
  },
  {
   "cell_type": "code",
   "execution_count": 412,
   "metadata": {},
   "outputs": [
    {
     "name": "stdout",
     "output_type": "stream",
     "text": [
      "0.9678362573099415\n",
      "0.9678362573099415\n"
     ]
    },
    {
     "name": "stderr",
     "output_type": "stream",
     "text": [
      "/var/folders/s6/p3txrvvd4498vs_xw7ryvx7h0000gn/T/ipykernel_28019/866047133.py:20: RuntimeWarning: divide by zero encountered in true_divide\n",
      "  inv_dist = 1/dist\n",
      "/var/folders/s6/p3txrvvd4498vs_xw7ryvx7h0000gn/T/ipykernel_28019/866047133.py:24: RuntimeWarning: invalid value encountered in true_divide\n",
      "  mean_inv_dist = inv_dist / np.sum(inv_dist, axis=1)[:, np.newaxis] # inverse moyen des distances entre voisins\n"
     ]
    },
    {
     "data": {
      "text/plain": [
       "\"\\nprint('Label prédit Sans pondéradation : ', np.transpose(predict(X_test, weights='uniform')))\\nprint('y_test vrai : ', np.transpose(y_test))\\nprint('Accuracy sans pondération :', score(X_test, y_test))\\n\\nprint('Label prédit Avec pondération', predict(X_test, weights='distance'))\\nprint('Accuracy avec pondération :', score(X_test, y_test))\\n\""
      ]
     },
     "execution_count": 412,
     "metadata": {},
     "output_type": "execute_result"
    }
   ],
   "source": [
    "from sklearn.metrics import accuracy_score\n",
    "print(accuracy_score(y_test,predict(X_test, weights='uniform')))\n",
    "print(accuracy_score(y_test,predict(X_test, weights='distance')))\n",
    "\n",
    "'''\n",
    "print('Label prédit Sans pondéradation : ', np.transpose(predict(X_test, weights='uniform')))\n",
    "print('y_test vrai : ', np.transpose(y_test))\n",
    "print('Accuracy sans pondération :', score(X_test, y_test))\n",
    "\n",
    "print('Label prédit Avec pondération', predict(X_test, weights='distance'))\n",
    "print('Accuracy avec pondération :', score(X_test, y_test))\n",
    "'''"
   ]
  }
 ],
 "metadata": {
  "interpreter": {
   "hash": "aee8b7b246df8f9039afb4144a1f6fd8d2ca17a180786b69acc140d282b71a49"
  },
  "kernelspec": {
   "display_name": "Python 3.10.2 64-bit",
   "language": "python",
   "name": "python3"
  },
  "language_info": {
   "codemirror_mode": {
    "name": "ipython",
    "version": 3
   },
   "file_extension": ".py",
   "mimetype": "text/x-python",
   "name": "python",
   "nbconvert_exporter": "python",
   "pygments_lexer": "ipython3",
   "version": "3.10.2"
  },
  "orig_nbformat": 4
 },
 "nbformat": 4,
 "nbformat_minor": 2
}
