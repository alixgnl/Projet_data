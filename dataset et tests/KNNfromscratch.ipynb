{
 "cells": [
  {
   "cell_type": "code",
   "execution_count": 3,
   "metadata": {},
   "outputs": [
    {
     "ename": "SyntaxError",
     "evalue": "invalid syntax (3036912981.py, line 4)",
     "output_type": "error",
     "traceback": [
      "\u001b[0;36m  Input \u001b[0;32mIn [3]\u001b[0;36m\u001b[0m\n\u001b[0;31m    from numpy as np\u001b[0m\n\u001b[0m               ^\u001b[0m\n\u001b[0;31mSyntaxError\u001b[0m\u001b[0;31m:\u001b[0m invalid syntax\n"
     ]
    }
   ],
   "source": [
    "# Source du code qui suit : https://towardsdatascience.com/k-nearest-neighbors-classification-from-scratch-with-numpy-cb222ecfeac1\n",
    "\n",
    "from sklearn.model_selection import train_test_split\n",
    "from numpy as np \n",
    "import scipy.io as sp\n",
    "\n",
    "dataSet = sp.loadmat('breastw.mat')\n",
    "X = dataSet['X']\n",
    "y = dataSet['y']\n",
    "\n",
    "#Séparation des données d'apprentissage et des données tests\n",
    "X_train, X_test, y_train, y_test = train_test_split(X, y, test_size=0.5, stratify=y)\n",
    "\n",
    "#Création de la fonction calculant la distance euclidienne entre 2 points\n",
    "def euclidian_distance(a, b):\n",
    "    return np.sqrt(np.sum((a-b)**2, axis=1))\n",
    "\n",
    "\n",
    "#fonction pour trouver les k plus proches voisins de chaque points test\n",
    "def kneighbors(X_test, return_distance=False): #False si on ne pondère pas par la suite avec les distance, True si on pondère\n",
    "       \n",
    "        n_neighbors = 5  #choix de l'hyperparamètre k \n",
    "        dist = [] #matrice des distances des knn pour chaque points des données tests\n",
    "        neigh_ind = [] #matrice des distances des indices des knn pour chaque points des données tests\n",
    "        \n",
    "        point_dist = [euclidian_distance(x_test, X_train) for x_test in X_test]  #On stocke les données des distances euclidiennes entre chaque points dans cette matrice\n",
    "            #chaque ligne correspond à une liste de distances entre un point donné de test et toutes les données d'apprentissage\n",
    "        \n",
    "        for row in point_dist:      #On parcours chaque ligne de la matrice des distances pour pouvoir trier les distances par ordre croissant\n",
    "            enum_neigh = enumerate(row)  #Avant de trier, on énumère chaque ligne pour ne pas perdre les indices des points de données d'apprentissage avec lesquels nous avons calculé les distances\n",
    "            sorted_neigh = sorted(enum_neigh, key=lambda x: x[1])[:n_neighbors] #Contient les k plus proches voisins de chaque données test, triés en fonction de leurs distances euclidiennes\n",
    "                        #matrice de type :(index,valeur)\n",
    "            ind_list = [tup[0] for tup in sorted_neigh]  #on extrait les indices de sorted_neigh\n",
    "            dist_list = [tup[1] for tup in sorted_neigh]  #on extrait les distances de sorted_neigh\n",
    "    \n",
    "            dist.append(dist_list)\n",
    "            neigh_ind.append(ind_list)\n",
    "        \n",
    "        if return_distance:\n",
    "            return np.array(dist), np.array(neigh_ind)\n",
    "        \n",
    "        return np.array(neigh_ind)\n",
    "    "
   ]
  },
  {
   "cell_type": "code",
   "execution_count": null,
   "metadata": {},
   "outputs": [],
   "source": [
    "#fonction pour prédire la classe de chaques point test\n",
    "#cette fonction pondère l'importance de chaque point d'apprentissage en fonction de leur distance au point test\n",
    "\n",
    "def predict(X_test, weights='uniform'):\n",
    "        \n",
    "        class_num = 3\n",
    "        \n",
    "        if weights=='uniform': #si on ne pondère pas, donc poids uniforme\n",
    "            neighbors = kneighbors(X_test)\n",
    "            y_pred = np.array([np.argmax(np.bincount(y_train[neighbor])) for neighbor in neighbors]) #on cherche les indices des voisins, puis on obtient leur label. Chaque ligne de neighbor correspond à l'ensemble des voisins de chaque point de données de test\n",
    "        \n",
    "            return y_pred \n",
    "    \n",
    "        if weights=='distance': #si on pondère\n",
    "        \n",
    "            dist, neigh_ind = kneighbors(X_test, return_distance=True)\n",
    "        \n",
    "            inv_dist = 1/dist\n",
    "            # le voisin le plus proche du point de données de test a le plus de poids (vote) proportionnel à l'inverse de leurs distances\n",
    "            \n",
    "            mean_inv_dist = inv_dist / np.sum(inv_dist, axis=1)[:, np.newaxis] # inverse moyen des distances entre voisins\n",
    "            \n",
    "            proba = []\n",
    "            \n",
    "            #calcul des probabilités de classe pour chaque point de données de test\n",
    "            for i, row in enumerate(mean_inv_dist):\n",
    "                \n",
    "                row_pred = self.y_train[neigh_ind[i]]\n",
    "                \n",
    "                for k in range(class_num):\n",
    "                    indices = np.where(row_pred==k)\n",
    "                    prob_ind = np.sum(row[indices])\n",
    "                    proba.append(np.array(prob_ind))\n",
    "        \n",
    "            predict_proba = np.array(proba).reshape(X_test.shape[0], class_num)\n",
    "            \n",
    "            y_pred = np.array([np.argmax(item) for item in predict_proba])\n",
    "            \n",
    "            return y_pred\n"
   ]
  },
  {
   "cell_type": "code",
   "execution_count": null,
   "metadata": {},
   "outputs": [],
   "source": [
    "#calcul de l'accuracy\n",
    "def score(X_test, y_test):\n",
    "    y_pred = predict(X_test)\n",
    "        \n",
    "    return float(sum(y_pred == y_test))/ float(len(y_test))"
   ]
  },
  {
   "cell_type": "code",
   "execution_count": null,
   "metadata": {},
   "outputs": [],
   "source": [
    "print('Label prédit Sans pondéradation : ', predict(X_test, weights='uniform'))\n",
    "print('Accuracy sans pondération :', score(X_test, y_test))\n",
    "\n",
    "print('Label prédit Avec pondération', predict(X_test, weights='distance'))\n",
    "print('Accuracy avec pondération :', score(X_test, y_test))"
   ]
  }
 ],
 "metadata": {
  "interpreter": {
   "hash": "aee8b7b246df8f9039afb4144a1f6fd8d2ca17a180786b69acc140d282b71a49"
  },
  "kernelspec": {
   "display_name": "Python 3.10.2 64-bit",
   "language": "python",
   "name": "python3"
  },
  "language_info": {
   "codemirror_mode": {
    "name": "ipython",
    "version": 3
   },
   "file_extension": ".py",
   "mimetype": "text/x-python",
   "name": "python",
   "nbconvert_exporter": "python",
   "pygments_lexer": "ipython3",
   "version": "3.10.2"
  },
  "orig_nbformat": 4
 },
 "nbformat": 4,
 "nbformat_minor": 2
}
