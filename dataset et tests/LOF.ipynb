{
 "cells": [
  {
   "cell_type": "markdown",
   "metadata": {},
   "source": [
    "Méthode LOF"
   ]
  },
  {
   "cell_type": "code",
   "execution_count": 145,
   "metadata": {},
   "outputs": [
    {
     "name": "stdout",
     "output_type": "stream",
     "text": [
      "Confusion Matrix:\n",
      "[[221   1]\n",
      " [120   0]]\n",
      "Classification Report:\n",
      "              precision    recall  f1-score   support\n",
      "\n",
      "           0       0.65      1.00      0.79       222\n",
      "           1       0.00      0.00      0.00       120\n",
      "\n",
      "    accuracy                           0.65       342\n",
      "   macro avg       0.32      0.50      0.39       342\n",
      "weighted avg       0.42      0.65      0.51       342\n",
      "\n",
      "Accuracy : 0.6461988304093568\n",
      "Model: ROC AUC=0.488\n"
     ]
    },
    {
     "data": {
      "image/png": "[encoded data removed]",
      "text/plain": [
       "<Figure size 432x288 with 1 Axes>"
      ]
     },
     "metadata": {
      "needs_background": "light"
     },
     "output_type": "display_data"
    }
   ],
   "source": [
    "import numpy as np\n",
    "import matplotlib.pyplot as plt\n",
    "from sklearn.neighbors import LocalOutlierFactor\n",
    "import scipy.io as sp\n",
    "from sklearn.model_selection import train_test_split\n",
    "from sklearn.metrics import roc_auc_score, roc_curve\n",
    "\n",
    "dataset = sp.loadmat('breastw.mat')\n",
    "\n",
    "X = dataset['X']\n",
    "y = dataset['y']\n",
    "\n",
    "X_train, X_test, y_train, y_test = train_test_split(X, y, test_size=0.5, stratify=y)\n",
    "\n",
    "# fit the model for outlier detection (default)\n",
    "clf = LocalOutlierFactor(n_neighbors=20, algorithm='auto', contamination=0.0001, metric='euclidean')\n",
    "# use fit_predict to compute the predicted labels of the training samples\n",
    "# (when LOF is used for outlier detection, the estimator has no predict,\n",
    "# decision_function and score_samples methods).\n",
    "#clf.fit(X_train,y_train)\n",
    "y_pred = clf.fit_predict(X_test)\n",
    "X_scores = -clf.negative_outlier_factor_\n",
    "\n",
    "y=np.reshape(y,(683,))\n",
    "#y_pred=np.reshape(y_pred,(683,1))\n",
    "y_pred[y_pred>0]=0\n",
    "y_pred[y_pred<0]=1\n",
    "\n",
    "from sklearn.metrics import classification_report, confusion_matrix, accuracy_score\n",
    "result = confusion_matrix(y_test, y_pred)\n",
    "print(\"Confusion Matrix:\")\n",
    "print(result)\n",
    "result1 = classification_report(y_test, y_pred)\n",
    "print(\"Classification Report:\",)\n",
    "print (result1)\n",
    "result2 = accuracy_score(y_test,y_pred)\n",
    "print(\"Accuracy :\",result2)\n",
    "\n",
    "\n",
    "random_probs = [0 for _ in range(len(y_test))]\n",
    "# calculate AUC\n",
    "model_auc = roc_auc_score(y_test, X_scores)\n",
    "# summarize score\n",
    "print('Model: ROC AUC=%.3f' % (model_auc))\n",
    "# calculate ROC Curve\n",
    "    # For the Random Model\n",
    "random_fpr, random_tpr, _ = roc_curve(y_test, random_probs)\n",
    "    # For the actual model\n",
    "model_fpr, model_tpr, _ = roc_curve(y_test, X_scores)\n",
    "# Plot the roc curve for the model and the random model line\n",
    "plt.plot(random_fpr, random_tpr, linestyle='--', label='Random')\n",
    "plt.plot(model_fpr, model_tpr, marker='.', label='Model')\n",
    "# Create labels for the axis\n",
    "plt.xlabel('False Positive Rate')\n",
    "plt.ylabel('True Positive Rate')\n",
    "# show the legend\n",
    "plt.legend()\n",
    "# show the plot\n",
    "plt.show()"
   ]
  },
  {
   "cell_type": "markdown",
   "metadata": {},
   "source": [
    "Méthode Kmeans"
   ]
  },
  {
   "cell_type": "code",
   "execution_count": 138,
   "metadata": {},
   "outputs": [
    {
     "name": "stdout",
     "output_type": "stream",
     "text": [
      "KMeans(n_clusters=2, random_state=0)\n",
      "Confusion Matrix:\n",
      "[[  7 215]\n",
      " [114   6]]\n",
      "Classification Report:\n",
      "              precision    recall  f1-score   support\n",
      "\n",
      "           0       0.97      0.97      0.97       222\n",
      "           1       0.94      0.95      0.95       120\n",
      "\n",
      "    accuracy                           0.96       342\n",
      "   macro avg       0.96      0.96      0.96       342\n",
      "weighted avg       0.96      0.96      0.96       342\n",
      "\n",
      "Accuracy : 0.9619883040935673\n"
     ]
    },
    {
     "data": {
      "text/plain": [
       "\"\\nrandom_probs = [0 for _ in range(len(y_test))]\\n# calculate AUC\\nmodel_auc = roc_auc_score(y_test, X_scores)\\n# summarize score\\nprint('Model: ROC AUC=%.3f' % (model_auc))\\n# calculate ROC Curve\\n    # For the Random Model\\nrandom_fpr, random_tpr, _ = roc_curve(y_test, random_probs)\\n    # For the actual model\\nmodel_fpr, model_tpr, _ = roc_curve(y_test, X_scores)\\n# Plot the roc curve for the model and the random model line\\nplt.plot(random_fpr, random_tpr, linestyle='--', label='Random')\\nplt.plot(model_fpr, model_tpr, marker='.', label='Model')\\n# Create labels for the axis\\nplt.xlabel('False Positive Rate')\\nplt.ylabel('True Positive Rate')\\n# show the legend\\nplt.legend()\\n# show the plot\\nplt.show()\\n\""
      ]
     },
     "execution_count": 138,
     "metadata": {},
     "output_type": "execute_result"
    }
   ],
   "source": [
    "from sklearn.cluster import KMeans\n",
    "import numpy as np\n",
    "import matplotlib.pyplot as plt\n",
    "from sklearn.model_selection import train_test_split\n",
    "from sklearn.metrics import roc_auc_score, roc_curve\n",
    "import scipy.io as sp\n",
    "\n",
    "dataset = sp.loadmat('breastw.mat')\n",
    "\n",
    "X = dataset['X']\n",
    "y = dataset['y']\n",
    "\n",
    "X_train, X_test, y_train, y_test = train_test_split(X, y, test_size=0.5, stratify=y)\n",
    "\n",
    "kmeans = KMeans(n_clusters=2, random_state=0).fit(X_test)\n",
    "y_pred=kmeans.labels_\n",
    "\n",
    "print(KMeans(n_clusters=2, random_state=0).fit(X_test))\n",
    "#X_scores ??\n",
    "\n",
    "y_test=np.reshape(y_test,(len(y_test,)))\n",
    "\n",
    "from sklearn.metrics import classification_report, confusion_matrix, accuracy_score\n",
    "result = confusion_matrix(y_test, y_pred)\n",
    "\n",
    "result1 = classification_report(y_test, y_pred)\n",
    "result2 = accuracy_score(y_test,y_pred)\n",
    "if result2 < 0.1 :\n",
    "    y_pred[y_pred>0.5]=-1\n",
    "    y_pred[y_pred>-0.5]=1\n",
    "    y_pred[y_pred<0]=0\n",
    "    result1 = classification_report(y_test, y_pred)\n",
    "    result2 = accuracy_score(y_test,y_pred)\n",
    "print(\"Confusion Matrix:\")\n",
    "print(result)\n",
    "print(\"Classification Report:\",)\n",
    "print (result1)\n",
    "print(\"Accuracy :\",result2)\n",
    "\n",
    "\n",
    "\"\"\"\n",
    "random_probs = [0 for _ in range(len(y_test))]\n",
    "# calculate AUC\n",
    "model_auc = roc_auc_score(y_test, X_scores)\n",
    "# summarize score\n",
    "print('Model: ROC AUC=%.3f' % (model_auc))\n",
    "# calculate ROC Curve\n",
    "    # For the Random Model\n",
    "random_fpr, random_tpr, _ = roc_curve(y_test, random_probs)\n",
    "    # For the actual model\n",
    "model_fpr, model_tpr, _ = roc_curve(y_test, X_scores)\n",
    "# Plot the roc curve for the model and the random model line\n",
    "plt.plot(random_fpr, random_tpr, linestyle='--', label='Random')\n",
    "plt.plot(model_fpr, model_tpr, marker='.', label='Model')\n",
    "# Create labels for the axis\n",
    "plt.xlabel('False Positive Rate')\n",
    "plt.ylabel('True Positive Rate')\n",
    "# show the legend\n",
    "plt.legend()\n",
    "# show the plot\n",
    "plt.show()\n",
    "\"\"\""
   ]
  },
  {
   "cell_type": "markdown",
   "metadata": {},
   "source": [
    "Méthode KernelDensity"
   ]
  },
  {
   "cell_type": "code",
   "execution_count": 141,
   "metadata": {},
   "outputs": [
    {
     "name": "stdout",
     "output_type": "stream",
     "text": [
      "[0.37968368 0.37968368 0.37968368 0.37969486 0.37968368 2.17145992\n",
      " 1.07283086 0.3796874  1.76599108 2.17145992 0.37971349 0.37971349\n",
      " 0.37968368 0.37970604 1.07286067 2.86460057 2.17145992 2.32560021\n",
      " 0.37968368 2.17145619 0.3796874  0.37968368 1.989135   0.37969858\n",
      " 0.37968368 0.37968368 2.86460057 0.37968368 0.37974703 2.86459685\n",
      " 0.37968368 0.37968368 1.07283645 0.37968368 0.37969858 0.37968368\n",
      " 0.37968368 0.37969113 2.86459685 0.37968368 0.3797284  1.98914097\n",
      " 2.86460057 0.37968368 0.37968368 0.37968368 0.37968368 2.17145992\n",
      " 0.37968368 2.32560021 0.37968368 0.37968368 0.37973212 2.32560021\n",
      " 0.37968368 0.3796874  1.07284204 1.0728439  0.37968368 0.37968368\n",
      " 0.37968368 2.86459685 0.37968368 1.07284576 0.37970976 2.17145619\n",
      " 0.37968368 0.37968368 0.3796874  1.07283272 0.37968368 0.37968368\n",
      " 0.37968368 2.32560021 0.37968368 0.37968368 1.47831832 0.37968368\n",
      " 0.37968368 2.17145184 0.37968368 1.47833323 0.37968368 0.37968368\n",
      " 0.37968368 0.37968368 0.37968368 0.37968368 2.77758572 0.37968368\n",
      " 0.37968368 2.86459685 2.77758572 2.32560021 0.37968368 0.37968368\n",
      " 0.37969486 1.0728439  0.37968368 1.98914097 0.37968368 1.07283272\n",
      " 1.98912755 2.86460057 0.37968368 0.37969486 0.37969113 1.98913724\n",
      " 2.77758572 0.37968368 0.37968368 1.07286812 2.17145619 1.98912755\n",
      " 2.86460057 1.989135   0.37968368 0.37968368 0.37968368 1.98914097\n",
      " 0.37968368 1.47831832 1.07286812 1.98913277 1.07284576 0.37968368\n",
      " 0.37968368 1.47831832 0.37968368 0.37968368 0.37968368 0.3797284\n",
      " 1.07284017 0.37968368 0.37968368 0.37968368 1.98913724 1.98913351\n",
      " 0.37968368 0.37971349 0.37968368 1.07285881 0.37968368 1.98913724\n",
      " 2.86459685 1.07283831 1.98913277 0.37968368 0.37970604 0.37968368\n",
      " 0.37968368 0.37969113 0.37968368 2.86460057 0.37969113 0.37968368\n",
      " 0.37968368 2.86459685 2.77758572 0.37968368 0.37968368 0.37968368\n",
      " 0.37968368 0.37969486 0.37973585 1.0728439  2.86460057 1.76599108\n",
      " 0.37968368 0.37968368 0.37968368 2.86460057 2.77758572 0.37970604\n",
      " 0.37970604 0.37968368 0.37968368 0.37968368 1.98912755 0.37968368\n",
      " 1.07285881 2.77758572 1.98913351 0.37968368 0.37968368 0.37968368\n",
      " 0.37968368 1.989135   0.37968368 0.37968368 0.37968368 0.37968368\n",
      " 0.37968368 1.98914097 1.98913351 0.37968368 2.17145184 1.98912755\n",
      " 0.37968368 2.77758572 0.37968368 0.37973212 0.37968368 2.86459685\n",
      " 1.989135   0.37971349 0.37968368 2.77758572 0.37968368 0.37971349\n",
      " 0.37969113 2.17145992 0.37968368 1.07284204 0.37968368 0.37970231\n",
      " 2.17145184 0.37968368 1.07283272 0.37969113 0.37968368 2.86460057\n",
      " 1.98913351 0.37968368 2.86459685 0.37968368 2.32560021 0.37968368\n",
      " 0.37969113 0.37968368 0.37968368 0.37968368 0.37968368 0.37968368\n",
      " 0.37972467 2.86460057 1.47833323 0.37968368 1.07286067 0.37968368\n",
      " 2.17145184 0.37968368 1.98912755 0.37968368 1.47833323 1.98914097\n",
      " 1.07283831 2.17145619 0.37968368 0.37968368 0.37968368 0.37968368\n",
      " 0.37968368 0.37969113 0.37968368 0.37968368 0.37968368 2.77758572\n",
      " 2.86459685 1.98913277 0.37968368 1.989135   0.37968368 0.37968368\n",
      " 0.37968368 0.37969113 0.37968368 0.37968368 0.37968368 0.37968368\n",
      " 0.37969113 0.37968368 0.37968368 1.07283272 0.37968368 0.37968368\n",
      " 2.17145619 0.37968368 0.3796874  2.86460057 0.37970231 0.37968368\n",
      " 0.37968368 0.37968368 0.37968368 0.37968368 0.37968368 1.0728439\n",
      " 0.37968368 0.37968368 0.37968368 2.86459685 0.37968368 1.98913351\n",
      " 1.76599108 2.86459685 2.86460057 0.37968368 2.77758572 1.07283645\n",
      " 2.86459685 0.37968368 0.37968368 0.37968368 0.37968368 1.07283086\n",
      " 0.37973212 1.98913724 0.37968368 0.37968368 0.37968368 0.37968368\n",
      " 0.37970976 2.32560021 1.98913724 1.07284017 0.37968368 1.98913277\n",
      " 2.17145184 0.37968368 0.37968368 0.37968368 2.17145992 0.37968368\n",
      " 0.37968368 0.37968368 0.37968368 0.37968368 0.37971349 2.17145619\n",
      " 0.37968368 2.17145184 0.37968368 0.37968368 0.37968368 0.37968368\n",
      " 0.37968368 1.98913277 1.76599108 0.37968368 2.77758572 0.37968368]\n",
      "Model: ROC AUC=0.094\n"
     ]
    },
    {
     "data": {
      "image/png": "[encoded data removed]",
      "text/plain": [
       "<Figure size 432x288 with 1 Axes>"
      ]
     },
     "metadata": {
      "needs_background": "light"
     },
     "output_type": "display_data"
    }
   ],
   "source": [
    "from sklearn.neighbors import KernelDensity\n",
    "import numpy as np\n",
    "import matplotlib.pyplot as plt\n",
    "from sklearn.model_selection import train_test_split\n",
    "from sklearn.metrics import roc_auc_score, roc_curve\n",
    "import scipy.io as sp\n",
    "\n",
    "dataset = sp.loadmat('breastw.mat')\n",
    "\n",
    "X = dataset['X']\n",
    "y = dataset['y']\n",
    "\n",
    "X_train, X_test, y_train, y_test = train_test_split(X, y, test_size=0.5, stratify=y)\n",
    "y_test=np.reshape(y_test,(len(y_test),))\n",
    "\n",
    "kde = KernelDensity(kernel='gaussian', bandwidth=0.2).fit(X_test)\n",
    "X_scores=kde.score_samples(X_test)\n",
    "\n",
    "y_pred=X_scores\n",
    "\n",
    "\"\"\"\n",
    "from sklearn.metrics import classification_report, confusion_matrix, accuracy_score\n",
    "result = confusion_matrix(y_test, y_pred)\n",
    "print(\"Confusion Matrix:\")\n",
    "print(result)\n",
    "result1 = classification_report(y_test, y_pred)\n",
    "print(\"Classification Report:\",)\n",
    "print (result1)\n",
    "result2 = accuracy_score(y_test,y_pred)\n",
    "print(\"Accuracy :\",result2)\n",
    "\"\"\"\n",
    "\n",
    "random_probs = [0 for _ in range(len(y_test))]\n",
    "# calculate AUC\n",
    "model_auc = roc_auc_score(y_test, X_scores)\n",
    "# summarize score\n",
    "print('Model: ROC AUC=%.3f' % (model_auc))\n",
    "# calculate ROC Curve\n",
    "    # For the Random Model\n",
    "random_fpr, random_tpr, _ = roc_curve(y_test, random_probs)\n",
    "    # For the actual model\n",
    "model_fpr, model_tpr, _ = roc_curve(y_test, X_scores)\n",
    "# Plot the roc curve for the model and the random model line\n",
    "plt.plot(random_fpr, random_tpr, linestyle='--', label='Random')\n",
    "plt.plot(model_fpr, model_tpr, marker='.', label='Model')\n",
    "# Create labels for the axis\n",
    "plt.xlabel('False Positive Rate')\n",
    "plt.ylabel('True Positive Rate')\n",
    "# show the legend\n",
    "plt.legend()\n",
    "# show the plot\n",
    "plt.show()\n"
   ]
  }
 ],
 "metadata": {
  "interpreter": {
   "hash": "0ebe8ddca6913cdc3656b6d2230f7d226a57213e7d8b2f0a7ae82b0af9e340df"
  },
  "kernelspec": {
   "display_name": "Python 3.9.7 ('base')",
   "language": "python",
   "name": "python3"
  },
  "language_info": {
   "codemirror_mode": {
    "name": "ipython",
    "version": 3
   },
   "file_extension": ".py",
   "mimetype": "text/x-python",
   "name": "python",
   "nbconvert_exporter": "python",
   "pygments_lexer": "ipython3",
   "version": "3.9.7"
  },
  "orig_nbformat": 4
 },
 "nbformat": 4,
 "nbformat_minor": 2
}
