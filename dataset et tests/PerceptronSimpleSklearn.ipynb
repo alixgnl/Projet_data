{
 "cells": [
  {
   "cell_type": "code",
   "execution_count": 11,
   "metadata": {},
   "outputs": [
    {
     "name": "stdout",
     "output_type": "stream",
     "text": [
      "Accuracy 1 : 0.7894736842105263\n",
      "AUC 1 :  0.9729917417417419\n"
     ]
    },
    {
     "data": {
      "image/png": "[encoded data removed]",
      "text/plain": [
       "<Figure size 432x288 with 1 Axes>"
      ]
     },
     "metadata": {
      "needs_background": "light"
     },
     "output_type": "display_data"
    },
    {
     "name": "stdout",
     "output_type": "stream",
     "text": [
      "[['penalty', 'AUC', 'Accuracy'], ['l1', 0.996471, 0.9122807017543859], ['l2', 0.995627, 0.9210526315789473], ['elasticnet', 0.972992, 0.7894736842105263], ['None', 0.994688, 0.9269005847953217]]\n"
     ]
    }
   ],
   "source": [
    "from sklearn.model_selection import train_test_split\n",
    "from sklearn.metrics import roc_curve, auc, accuracy_score\n",
    "import matplotlib.pyplot as plt\n",
    "import matplotlib.patches as mpatches\n",
    "import numpy as np\n",
    "import scipy.io as sp\n",
    "from sklearn.decomposition import PCA\n",
    "from sklearn.linear_model import Perceptron\n",
    "from sklearn.calibration import CalibratedClassifierCV\n",
    "import xlsxwriter\n",
    "\n",
    "#Traitement du fichier .mat\n",
    "cancercell = sp.loadmat('breastw.mat')\n",
    "X = cancercell['X']\n",
    "y = cancercell['y']\n",
    "#print(cancercell)\n",
    "y=np.reshape(y,(683,))\n",
    "#Séparation des données d'apprentissage et des données tests\n",
    "X_train, X_test, y_train, y_test = train_test_split(X, y, test_size=0.5, stratify=y)\n",
    "#fin traitement mat\n",
    "\n",
    "PP = Perceptron(penalty='elasticnet') #random_state=42\n",
    "PP.fit(X_train, y_train)\n",
    "predictions_test = PP.predict(X_test)\n",
    "\n",
    "#Accuracy\n",
    "result1 = accuracy_score(y_test,predictions_test)\n",
    "print(\"Accuracy 1 :\",result1)\n",
    "\n",
    "#ROC curve\n",
    "clf_isotonic = CalibratedClassifierCV(PP, cv='prefit', method='isotonic') #il faut encore fait la validation croisée au début (équilibrer notre dataset)\n",
    "#CV correspond à la validation croisée, si dataset déjà rééquilibré : cv = 'predict'\n",
    "clf_isotonic.fit(X_test, y_test)\n",
    "preds = clf_isotonic.predict_proba(X_test)\n",
    "\n",
    "#y_scores1 = PP.predict_proba(X_test) #il ne connaît pas predict_proba\n",
    "fpr, tpr, threshold = roc_curve(y_test, preds[:, 1])\n",
    "roc_auc = auc(fpr, tpr)\n",
    "print(\"AUC 1 : \", roc_auc)\n",
    "\n",
    "plt.title('Receiver Operating Characteristic')\n",
    "plt.plot(fpr, tpr, 'b', label = 'AUC 1 = %0.2f' % roc_auc)\n",
    "plt.legend(loc = 'lower right')\n",
    "plt.plot([0, 1], [0, 1],'r--')\n",
    "plt.xlim([0, 1])\n",
    "plt.ylim([0, 1])\n",
    "plt.ylabel('True Positive Rate')\n",
    "plt.xlabel('False Positive Rate')\n",
    "plt.title('ROC Curve Simple Perceptron')\n",
    "plt.show()\n",
    "\n",
    "def create(row, col):\n",
    "    return [[[]for _ in range(col)]  for _ in range(row)]\n",
    "\n",
    "penalty = ['l1', 'l2','elasticnet','None']\n",
    "MC = create(5,3)\n",
    "MC[0][0]='penalty'\n",
    "MC[0][1]='AUC'\n",
    "MC[0][2]='Accuracy'\n",
    "i=1\n",
    "\n",
    "for k in penalty:\n",
    "    \n",
    "    MC[i][0]= k\n",
    "\n",
    "    PP = Perceptron(penalty=k) #random_state=42\n",
    "    PP.fit(X_train, y_train)\n",
    "    predictions_test = PP.predict(X_test)\n",
    "\n",
    "        \n",
    "    #ROC curve\n",
    "    clf_isotonic = CalibratedClassifierCV(PP, cv='prefit', method='isotonic') #il faut encore fait la validation croisée au début (équilibrer notre dataset)\n",
    "    #CV correspond à la validation croisée, si dataset déjà rééquilibré : cv = 'predict'\n",
    "    clf_isotonic.fit(X_test, y_test)\n",
    "    preds = clf_isotonic.predict_proba(X_test)\n",
    "\n",
    "    #y_scores1 = PP.predict_proba(X_test) #il ne connaît pas predict_proba\n",
    "    fpr, tpr, threshold = roc_curve(y_test, preds[:, 1])\n",
    "    roc_auc = auc(fpr, tpr)\n",
    "    \n",
    "    #Accuracy\n",
    "    result1 = accuracy_score(y_test,predictions_test)\n",
    "    \n",
    "    MC[i][1]=(round(roc_auc, 6))\n",
    "    MC[i][2]= result1\n",
    "            \n",
    "    i += 1 \n",
    "\n",
    "print(MC)\n",
    "workbook = xlsxwriter.Workbook('Comparaison matrice Perceptron simple.xlsx')\n",
    "worksheet = workbook.add_worksheet()\n",
    "col = 0\n",
    "for row, data in enumerate(MC):\n",
    "    worksheet.write_row(row, col, data)\n",
    "workbook.close()\n",
    "\n"
   ]
  }
 ],
 "metadata": {
  "interpreter": {
   "hash": "aee8b7b246df8f9039afb4144a1f6fd8d2ca17a180786b69acc140d282b71a49"
  },
  "kernelspec": {
   "display_name": "Python 3.10.2 64-bit",
   "language": "python",
   "name": "python3"
  },
  "language_info": {
   "codemirror_mode": {
    "name": "ipython",
    "version": 3
   },
   "file_extension": ".py",
   "mimetype": "text/x-python",
   "name": "python",
   "nbconvert_exporter": "python",
   "pygments_lexer": "ipython3",
   "version": "3.10.2"
  },
  "orig_nbformat": 4
 },
 "nbformat": 4,
 "nbformat_minor": 2
}
