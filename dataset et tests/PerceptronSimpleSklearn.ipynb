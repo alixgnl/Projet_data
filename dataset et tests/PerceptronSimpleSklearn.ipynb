{
 "cells": [
  {
   "cell_type": "code",
   "execution_count": 11,
   "metadata": {},
   "outputs": [
    {
     "ename": "ImportError",
     "evalue": "cannot import name 'predict_proba' from 'sklearn' (/Library/Frameworks/Python.framework/Versions/3.10/lib/python3.10/site-packages/sklearn/__init__.py)",
     "output_type": "error",
     "traceback": [
      "\u001b[0;31m---------------------------------------------------------------------------\u001b[0m",
      "\u001b[0;31mImportError\u001b[0m                               Traceback (most recent call last)",
      "\u001b[1;32m/Users/ines/Code_Projet_Data/Repository_Alix/Projet_data/dataset et tests/PerceptronSimpleSklearn.ipynb Cell 1'\u001b[0m in \u001b[0;36m<cell line: 9>\u001b[0;34m()\u001b[0m\n\u001b[1;32m      <a href='vscode-notebook-cell:/Users/ines/Code_Projet_Data/Repository_Alix/Projet_data/dataset%20et%20tests/PerceptronSimpleSklearn.ipynb#ch0000000?line=6'>7</a>\u001b[0m \u001b[39mfrom\u001b[39;00m \u001b[39msklearn\u001b[39;00m\u001b[39m.\u001b[39;00m\u001b[39mdecomposition\u001b[39;00m \u001b[39mimport\u001b[39;00m PCA\n\u001b[1;32m      <a href='vscode-notebook-cell:/Users/ines/Code_Projet_Data/Repository_Alix/Projet_data/dataset%20et%20tests/PerceptronSimpleSklearn.ipynb#ch0000000?line=7'>8</a>\u001b[0m \u001b[39mfrom\u001b[39;00m \u001b[39msklearn\u001b[39;00m\u001b[39m.\u001b[39;00m\u001b[39mlinear_model\u001b[39;00m \u001b[39mimport\u001b[39;00m Perceptron\n\u001b[0;32m----> <a href='vscode-notebook-cell:/Users/ines/Code_Projet_Data/Repository_Alix/Projet_data/dataset%20et%20tests/PerceptronSimpleSklearn.ipynb#ch0000000?line=8'>9</a>\u001b[0m \u001b[39mfrom\u001b[39;00m \u001b[39msklearn\u001b[39;00m \u001b[39mimport\u001b[39;00m predict_proba\n\u001b[1;32m     <a href='vscode-notebook-cell:/Users/ines/Code_Projet_Data/Repository_Alix/Projet_data/dataset%20et%20tests/PerceptronSimpleSklearn.ipynb#ch0000000?line=11'>12</a>\u001b[0m \u001b[39m#Traitement du fichier .mat\u001b[39;00m\n\u001b[1;32m     <a href='vscode-notebook-cell:/Users/ines/Code_Projet_Data/Repository_Alix/Projet_data/dataset%20et%20tests/PerceptronSimpleSklearn.ipynb#ch0000000?line=12'>13</a>\u001b[0m cancercell \u001b[39m=\u001b[39m sp\u001b[39m.\u001b[39mloadmat(\u001b[39m'\u001b[39m\u001b[39mbreastw.mat\u001b[39m\u001b[39m'\u001b[39m)\n",
      "\u001b[0;31mImportError\u001b[0m: cannot import name 'predict_proba' from 'sklearn' (/Library/Frameworks/Python.framework/Versions/3.10/lib/python3.10/site-packages/sklearn/__init__.py)"
     ]
    }
   ],
   "source": [
    "from sklearn.model_selection import train_test_split\n",
    "from sklearn.metrics import roc_curve, auc, accuracy_score\n",
    "import matplotlib.pyplot as plt\n",
    "import matplotlib.patches as mpatches\n",
    "import numpy as np\n",
    "import scipy.io as sp\n",
    "from sklearn.decomposition import PCA\n",
    "from sklearn.linear_model import Perceptron\n",
    "\n",
    "#Traitement du fichier .mat\n",
    "cancercell = sp.loadmat('breastw.mat')\n",
    "X = cancercell['X']\n",
    "y = cancercell['y']\n",
    "#print(cancercell)\n",
    "y=np.reshape(y,(683,))\n",
    "#Séparation des données d'apprentissage et des données tests\n",
    "X_train, X_test, y_train, y_test = train_test_split(X, y, test_size=0.5, stratify=y)\n",
    "#fin traitement mat\n",
    "\n",
    "PP = Perceptron() #random_state=42\n",
    "PP.fit(X_train, y_train)\n",
    "predictions_test = PP.predict(X_test)\n",
    "print(type(predictions_test))\n",
    "\n",
    "#Accuracy\n",
    "result1 = accuracy_score(y_test,predictions_test)\n",
    "print(\"Accuracy 1 :\",result1)\n",
    "\n",
    "#ROC curve\n",
    "y_scores1 = predictions_test.predict_proba(X_test) #il ne connaît pas predict_proba\n",
    "fpr, tpr, threshold = roc_curve(y_test, y_scores1[:, 1])\n",
    "roc_auc = auc(fpr, tpr)\n",
    "print(\"AUC 1 : \", roc_auc)\n",
    "\n",
    "plt.title('Receiver Operating Characteristic')\n",
    "plt.plot(fpr, tpr, 'b', label = 'AUC 1 = %0.2f' % roc_auc)\n",
    "plt.legend(loc = 'lower right')\n",
    "plt.plot([0, 1], [0, 1],'r--')\n",
    "plt.xlim([0, 1])\n",
    "plt.ylim([0, 1])\n",
    "plt.ylabel('True Positive Rate')\n",
    "plt.xlabel('False Positive Rate')\n",
    "plt.title('ROC Curve Simple Perceptron')\n",
    "plt.show()"
   ]
  }
 ],
 "metadata": {
  "interpreter": {
   "hash": "aee8b7b246df8f9039afb4144a1f6fd8d2ca17a180786b69acc140d282b71a49"
  },
  "kernelspec": {
   "display_name": "Python 3.10.2 64-bit",
   "language": "python",
   "name": "python3"
  },
  "language_info": {
   "codemirror_mode": {
    "name": "ipython",
    "version": 3
   },
   "file_extension": ".py",
   "mimetype": "text/x-python",
   "name": "python",
   "nbconvert_exporter": "python",
   "pygments_lexer": "ipython3",
   "version": "3.10.2"
  },
  "orig_nbformat": 4
 },
 "nbformat": 4,
 "nbformat_minor": 2
}
