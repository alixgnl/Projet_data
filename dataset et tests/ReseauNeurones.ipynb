{
 "cells": [
  {
   "cell_type": "code",
   "execution_count": 1,
   "metadata": {},
   "outputs": [],
   "source": [
    "from sklearn.model_selection import train_test_split\n",
    "from sklearn.metrics import roc_curve, auc, accuracy_score, recall_score, accuracy_score, recall_score, f1_score, precision_score, roc_auc_score \n",
    "import matplotlib.pyplot as plt\n",
    "from sklearn.neural_network import MLPClassifier\n",
    "from sklearn.decomposition import PCA\n",
    "#import matplotlib.patches as mpatches\n",
    "import numpy as np\n",
    "import scipy.io as sp\n",
    "import pandas as pd\n",
    "#from sklearn.decomposition import PCA\n",
    "import xlsxwriter\n",
    "from IPython.display import display\n",
    "from sklearn.model_selection import StratifiedKFold\n",
    "\n",
    "#Traitement du fichier .mat\n",
    "cancercell = sp.loadmat('breastw.mat')\n",
    "X = cancercell['X']\n",
    "y = cancercell['y']\n",
    "#print(cancercell)\n",
    "y=np.reshape(y,(683,))\n",
    "\n"
   ]
  },
  {
   "cell_type": "code",
   "execution_count": 2,
   "metadata": {},
   "outputs": [],
   "source": [
    "#Choix hyperparamètres \n",
    "\n",
    "HLS=[]\n",
    "for j in range(2,10):\n",
    "    for k in range(2,10):\n",
    "        HLS.append((j,k))\n",
    "Alpha = [1, 0.1, 0.01, 0.001, 0.0001]\n",
    "Solver = ['lbfgs', 'sgd','adam']\n",
    "Activation = ['identity', 'logistic', 'tanh', 'relu']\n",
    "Max_iter = []\n",
    "for k in range(3,10):\n",
    "    Max_iter.append(2*k)\n",
    "\n",
    "   \n",
    "skf = StratifiedKFold(n_splits=10,shuffle=True) # équilibrage dataset\n"
   ]
  },
  {
   "cell_type": "code",
   "execution_count": null,
   "metadata": {},
   "outputs": [],
   "source": [
    "for train_index, test_index in skf.split(X,y):\n",
    "    \n",
    "    test =False\n",
    "    X_train, X_test = X[train_index,:], X[test_index,:]\n",
    "    y_train, y_test = y[train_index], y[test_index]\n",
    "    y_train=np.ravel(y_train)\n",
    "    y_test=np.ravel(y_test)\n",
    "\n",
    "    #Méthode MLP\n",
    "\n",
    "    test =False\n",
    "    \n",
    "    for k in HLS :\n",
    "        for i in Alpha :\n",
    "            for j in Solver :\n",
    "                for p in Activation : \n",
    "                    for n in Max_iter :\n",
    "                        \n",
    "                        #algo MLP\n",
    "                        model_MLP = MLPClassifier(hidden_layer_sizes = k, alpha = i, solver = j, activation = p, max_iter = n)\n",
    "                        model_MLP.fit(X_train,y_train)\n",
    "                        y_pred_MLP = model_MLP.predict(X_test)\n",
    "                        \n",
    "                        y_scores_MLP = model_MLP.predict_proba(X_test)\n",
    "                        y_scores_MLP = y_scores_MLP[:, 1]\n",
    "                        \n",
    "                        F1_MLP = round(f1_score(y_test,y_pred_MLP),3)\n",
    "                        recall_MLP = round(recall_score(y_test,y_pred_MLP),3)\n",
    "                        precision_MLP = round(precision_score(y_test,y_pred_MLP,zero_division=0),3)\n",
    "                        accuracy_MLP = round(accuracy_score(y_test,y_pred_MLP),3)\n",
    "                    \n",
    "                        #data = np.append(data, [[k,i,j,p,n,F1_MLP,recall_MLP,precision_MLP,accuracy_MLP,AUC_MLP]],axis=0)\n",
    "                        if test == False :\n",
    "                            data = np.array([[k,i,j,p,n,F1_MLP,recall_MLP,precision_MLP,accuracy_MLP]])\n",
    "                            test = True\n",
    "                        else :\n",
    "                            data = np.append(data,np.array([k,i,j,p,n,F1_MLP,recall_MLP,precision_MLP,accuracy_MLP]).reshape(1,9),axis=0)\n",
    "                        #Fin méthode MLP\n"
   ]
  },
  {
   "cell_type": "code",
   "execution_count": null,
   "metadata": {},
   "outputs": [],
   "source": [
    "#Creation DataFrame\n",
    "\n",
    "df = pd.DataFrame(data, columns=['Hidden_layers','Alpha','solver','Activation','Max_iter','F1 score','recall','precision','accuracy'])\n",
    "df = df.astype({'F1 score': float, 'Recall': float,'Precision': float,'Accuracy': float})\n",
    "\n",
    "filtered_values_1 = np.where((df['F1 score']>=0.96) & (df['Recall']>=0.925) & (df['Precision']>=0.925))\n",
    "display(df.iloc[filtered_values_1].sort_values(by=['F1 score'], ascending=False))\n"
   ]
  }
 ],
 "metadata": {
  "interpreter": {
   "hash": "aee8b7b246df8f9039afb4144a1f6fd8d2ca17a180786b69acc140d282b71a49"
  },
  "kernelspec": {
   "display_name": "Python 3.10.2 64-bit",
   "language": "python",
   "name": "python3"
  },
  "language_info": {
   "codemirror_mode": {
    "name": "ipython",
    "version": 3
   },
   "file_extension": ".py",
   "mimetype": "text/x-python",
   "name": "python",
   "nbconvert_exporter": "python",
   "pygments_lexer": "ipython3",
   "version": "3.10.2"
  },
  "orig_nbformat": 4
 },
 "nbformat": 4,
 "nbformat_minor": 2
}
