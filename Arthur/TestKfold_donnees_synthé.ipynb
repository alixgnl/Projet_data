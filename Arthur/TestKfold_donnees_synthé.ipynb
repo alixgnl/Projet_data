{
 "cells": [
  {
   "cell_type": "code",
   "execution_count": 12,
   "metadata": {},
   "outputs": [],
   "source": [
    "import numpy as np\n",
    "import matplotlib.pyplot as plt\n",
    "from sklearn.datasets import make_blobs\n",
    "from sklearn.cluster import KMeans\n",
    "from sklearn.model_selection import StratifiedKFold\n",
    "import scipy.io as sp\n",
    "\n",
    "dataSet = sp.loadmat('breastw.mat')\n",
    "X = dataSet['X']\n",
    "y = dataSet['y']\n",
    "# On génère nos données synthétiques :\n",
    "#X, y = make_blobs(n_samples= 20, centers=2,n_features=10, cluster_std=0.5, random_state= 0)\n",
    "#plt.scatter(X[:,0], X[:,1], c=y)\n",
    "#print (X)\n",
    "#print (y)"
   ]
  },
  {
   "cell_type": "code",
   "execution_count": 1,
   "metadata": {},
   "outputs": [
    {
     "ename": "NameError",
     "evalue": "name 'StratifiedKFold' is not defined",
     "output_type": "error",
     "traceback": [
      "\u001b[1;31m---------------------------------------------------------------------------\u001b[0m",
      "\u001b[1;31mNameError\u001b[0m                                 Traceback (most recent call last)",
      "\u001b[1;32mc:\\Users\\arthu\\Desktop\\Projet_data_Sante\\Projet_data\\Arthur\\TestKfold_donnees_synthé.ipynb Cell 2'\u001b[0m in \u001b[0;36m<cell line: 1>\u001b[1;34m()\u001b[0m\n\u001b[1;32m----> <a href='vscode-notebook-cell:/c%3A/Users/arthu/Desktop/Projet_data_Sante/Projet_data/Arthur/TestKfold_donnees_synth%C3%A9.ipynb#ch0000001?line=0'>1</a>\u001b[0m skf \u001b[39m=\u001b[39m StratifiedKFold(n_splits\u001b[39m=\u001b[39m\u001b[39m10\u001b[39m)\n\u001b[0;32m      <a href='vscode-notebook-cell:/c%3A/Users/arthu/Desktop/Projet_data_Sante/Projet_data/Arthur/TestKfold_donnees_synth%C3%A9.ipynb#ch0000001?line=1'>2</a>\u001b[0m skf\u001b[39m.\u001b[39mget_n_splits(X, y) \u001b[39m#get and split return n split\u001b[39;00m\n\u001b[0;32m      <a href='vscode-notebook-cell:/c%3A/Users/arthu/Desktop/Projet_data_Sante/Projet_data/Arthur/TestKfold_donnees_synth%C3%A9.ipynb#ch0000001?line=3'>4</a>\u001b[0m \u001b[39mprint\u001b[39m(skf)\n",
      "\u001b[1;31mNameError\u001b[0m: name 'StratifiedKFold' is not defined"
     ]
    }
   ],
   "source": [
    "skf = StratifiedKFold(n_splits=10)\n",
    "skf.get_n_splits(X, y) #get and split return n split\n",
    "\n",
    "print(skf)\n",
    "print(skf.split(X, y))\n",
    "for train_index, test_index in skf.split(X, y):\n",
    "    print(\"TRAIN:\", train_index, \"TEST:\", test_index)\n",
    "    X_train, X_test = X[train_index], X[test_index]\n",
    "    y_train, y_test = y[train_index], y[test_index]\n",
    "    print(X_train)"
   ]
  },
  {
   "cell_type": "code",
   "execution_count": 69,
   "metadata": {},
   "outputs": [
    {
     "name": "stdout",
     "output_type": "stream",
     "text": [
      "[[ 5.43279593  0.23312351  1.13312497  8.52067235 -8.75627579 -8.94488965\n",
      "  -9.91744125  5.54069533  5.87575074  6.59921414]\n",
      " [ 6.12279617  0.47374902  1.55889458  7.96540201 -9.32490763 -8.03771816\n",
      "  -9.5122953   6.96991263  6.75470741  7.87248271]\n",
      " [ 5.33439309 -0.19448715  1.95490612  8.67040407 -8.11884942 -8.09805018\n",
      "  -9.16721675  6.32688411  5.0460136   7.74104022]\n",
      " [ 6.22039604  0.98965047  2.4425092   9.18019674 -8.76386976 -8.37710359\n",
      "  -9.04580225  6.98002878  5.88320078  6.59176494]\n",
      " [ 6.30812675  0.50039335  1.66793091  8.9730361  -8.39106607 -8.8071144\n",
      "  -9.44651296  7.31558986  5.21585109  7.32542569]\n",
      " [ 1.59141542  4.90497725  1.86160411  0.74651228 -2.0511805   2.20787329\n",
      "  -2.10139087  8.81084771  9.01842912 -2.55020677]\n",
      " [ 5.37808965  1.13640654  0.70293752  8.28114046 -8.61339964 -7.40074265\n",
      "  -9.96800946  6.23917764  5.51390876  7.06850382]\n",
      " [ 6.39781872  0.03793264  0.7871569   8.29302274 -8.82829506 -7.29264798\n",
      "  -9.12092165  6.69617253  4.95041726  7.82242445]\n",
      " [ 0.16117091  4.53517846  1.60161834  0.92363636 -1.16235873  2.98237372\n",
      "  -0.67855543  7.21804711  9.47442603 -2.67357467]\n",
      " [ 5.61692399  1.50253026  1.6970386   8.71566368 -8.96423687 -7.98778941\n",
      "  -9.93279838  6.66831219  5.24521198  7.73845961]\n",
      " [ 0.99914934  4.2101954   2.82165713  1.63234304 -1.4494303   3.10696352\n",
      "  -1.69214865  6.84506178  9.09929914 -2.25299514]\n",
      " [ 1.00952869  4.45502328  1.73810647  0.71629308 -1.86313424  2.73810568\n",
      "  -1.65482892  6.97231871  9.36196828 -2.53206009]\n",
      " [ 0.98152009  5.19672257  2.11872357  1.09865834 -0.58532866  2.24400273\n",
      "  -1.88349827  8.32015837  8.68669351 -1.35935903]\n",
      " [ 0.3498724   4.69253251  1.2483186   0.79129352 -1.97463729  3.11133351\n",
      "  -1.50365834  7.24514392  9.2591641  -2.11700369]\n",
      " [ 1.72330962  4.2012082   2.21180137  0.47061579 -2.80339892  3.24469156\n",
      "  -0.81603768  7.46437751 10.40813252 -3.05835246]\n",
      " [ 0.5408715   4.0143625   1.89949126  0.92574633 -2.10947893  3.3682955\n",
      "  -1.01542455  7.06733817 10.01738131 -1.38322504]\n",
      " [ 5.28230909  0.60398093  0.99110972  9.28344006 -9.22570729 -8.12388857\n",
      "  -9.61527346  6.06835016  5.82477335  7.3144698 ]\n",
      " [ 0.76946059  3.93005992  3.01673853  1.63792106 -0.59312453  3.37090459\n",
      "  -1.67886862  8.79049249  9.13925352 -1.92994143]]\n"
     ]
    }
   ],
   "source": []
  },
  {
   "cell_type": "code",
   "execution_count": 16,
   "metadata": {},
   "outputs": [
    {
     "name": "stdout",
     "output_type": "stream",
     "text": [
      "              precision    recall  f1-score   support\n",
      "\n",
      "           0       0.94      0.96      0.95       222\n",
      "           1       0.93      0.88      0.91       120\n",
      "\n",
      "    accuracy                           0.94       342\n",
      "   macro avg       0.93      0.92      0.93       342\n",
      "weighted avg       0.94      0.94      0.94       342\n",
      "\n",
      "              precision    recall  f1-score   support\n",
      "\n",
      "           0       0.98      1.00      0.99       222\n",
      "           1       0.99      0.96      0.97       119\n",
      "\n",
      "    accuracy                           0.98       341\n",
      "   macro avg       0.98      0.98      0.98       341\n",
      "weighted avg       0.98      0.98      0.98       341\n",
      "\n"
     ]
    }
   ],
   "source": [
    "from sklearn.cluster import KMeans\n",
    "from sklearn.metrics import classification_report, precision_score\n",
    "\n",
    "\n",
    "skf = StratifiedKFold(n_splits=2)\n",
    "skf.get_n_splits(X, y) #get and split return n split\n",
    "\n",
    "for train_index, test_index in skf.split(X, y):\n",
    "    X_train, X_test = X[train_index,:], X[test_index,:]\n",
    "    y_train, y_test = y[train_index], y[test_index]\n",
    "    model = KMeans(n_clusters = 2, init ='k-means++', n_init = 10, max_iter = 300)\n",
    "    model.fit(X_train)\n",
    "    y_pred =  model.predict(X_test)\n",
    "    #plt.figure(figsize=(10,7))\n",
    "    #plt.subplot(121)\n",
    "    #plt.title(\"Prédiction avec KMeans\")\n",
    "    #plt.scatter(X[:,0],X[: , 1], c=y_pred)\n",
    "    #plt.scatter(model.cluster_centers_[:,0],model.cluster_centers_[:,1], c='r')\n",
    "    #plt.subplot(122)\n",
    "    #plt.title(\"Répartition initiale\")\n",
    "    #plt.scatter(X[:,0], X[:,1], c=y)\n",
    "    #model.inertia_ \n",
    "    if precision_score(y_test,y_pred)< 0.15:\n",
    "    \n",
    "   \n",
    "\n",
    "        y_pred = np.array([0 if label == 1 else 1 for label in y_pred])\n",
    "    #print (y_pred)\n",
    "    #print (y_test)\n",
    "    print(classification_report(y_test,y_pred))"
   ]
  },
  {
   "cell_type": "code",
   "execution_count": 29,
   "metadata": {},
   "outputs": [
    {
     "data": {
      "text/plain": [
       "<generator object _BaseKFold.split at 0x000002137BFF67B0>"
      ]
     },
     "execution_count": 29,
     "metadata": {},
     "output_type": "execute_result"
    }
   ],
   "source": [
    "skf.split(X, y)"
   ]
  }
 ],
 "metadata": {
  "interpreter": {
   "hash": "c7f941d6ed5193dab5bc712c78233717e34458757fc10caea2a2e49843de0567"
  },
  "kernelspec": {
   "display_name": "Python 3.9.7 64-bit",
   "language": "python",
   "name": "python3"
  },
  "language_info": {
   "codemirror_mode": {
    "name": "ipython",
    "version": 3
   },
   "file_extension": ".py",
   "mimetype": "text/x-python",
   "name": "python",
   "nbconvert_exporter": "python",
   "pygments_lexer": "ipython3",
   "version": "3.9.7"
  },
  "orig_nbformat": 4
 },
 "nbformat": 4,
 "nbformat_minor": 2
}
