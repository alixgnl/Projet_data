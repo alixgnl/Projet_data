{
 "cells": [
  {
   "cell_type": "code",
   "execution_count": 79,
   "metadata": {},
   "outputs": [
    {
     "name": "stdout",
     "output_type": "stream",
     "text": [
      "(2997,)\n",
      "(2997,)\n",
      "(2997,)\n",
      "(2997,)\n"
     ]
    }
   ],
   "source": [
    "import numpy as np\n",
    "import scipy.io as sp\n",
    "from sklearn.semi_supervised import LabelPropagation\n",
    "from sklearn.linear_model import LogisticRegression\n",
    "from sklearn.mixture import GaussianMixture\n",
    "from sklearn.metrics import classification_report, roc_auc_score,precision_score\n",
    "from sklearn.model_selection import StratifiedKFold \n",
    "# evaluate label propagation on the semi-supervised learning dataset\n",
    "\n",
    "\n",
    "\n",
    "dataSet = sp.loadmat('breastw.mat')\n",
    "X = dataSet['X']\n",
    "y = dataSet['y']\n",
    "skf = StratifiedKFold(n_splits=4,shuffle=False)\n",
    "\n",
    "for train_index, test_index in skf.split(X,y):\n",
    "    i=0\n",
    "    X_train, X_test = X[train_index,:], X[test_index,:]\n",
    "    y_train, y_test = y[train_index], y[test_index]\n",
    "    \n",
    "    y_train_SemiS = np.array([])\n",
    "    \n",
    "    \n",
    "    y_train = np.array([-1 if label == 1 else 1 for label in y_train])\n",
    "    \n",
    "    count = (y_train == 1).sum()\n",
    "    X_train_SemiS =np.array([])\n",
    "    for j in y_train :\n",
    "        if i==len(y_train):\n",
    "            break\n",
    "        if y_train[i]== 1 :\n",
    "            resh = np.reshape(X_train[i],[1,9])\n",
    "            #print(np.shape(resh))\n",
    "            y_train_SemiS = np.append(y_train_SemiS,y_train[i],)\n",
    "            X_train_SemiS = np.append(X_train_SemiS,resh) # problème : on récupère les données au format (2997,) alors qu'elle devrait être au format (333,9)\n",
    "            i=i+1\n",
    "           \n",
    "           \n",
    "        else :\n",
    "            i = i+1\n",
    "  \n",
    "     \n",
    "    print (np.shape(X_train_SemiS))\n"
   ]
  }
 ],
 "metadata": {
  "interpreter": {
   "hash": "ffd309f70c127bbe156ac096ba063b968332170e7693cbb0eca7d666f8002d44"
  },
  "kernelspec": {
   "display_name": "Python 3.9.7 ('base')",
   "language": "python",
   "name": "python3"
  },
  "language_info": {
   "codemirror_mode": {
    "name": "ipython",
    "version": 3
   },
   "file_extension": ".py",
   "mimetype": "text/x-python",
   "name": "python",
   "nbconvert_exporter": "python",
   "pygments_lexer": "ipython3",
   "version": "3.9.7"
  },
  "orig_nbformat": 4
 },
 "nbformat": 4,
 "nbformat_minor": 2
}
