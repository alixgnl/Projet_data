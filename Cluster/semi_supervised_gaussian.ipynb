{
 "cells": [
  {
   "cell_type": "code",
   "execution_count": 18,
   "metadata": {},
   "outputs": [
    {
     "name": "stdout",
     "output_type": "stream",
     "text": [
      "(9,)\n",
      "(9,)\n",
      "(9,)\n",
      "(9,)\n",
      "(9,)\n",
      "(9,)\n",
      "(9,)\n",
      "(9,)\n",
      "(9,)\n",
      "(9,)\n"
     ]
    }
   ],
   "source": [
    "import numpy as np\n",
    "import scipy.io as sp\n",
    "from sklearn.model_selection import train_test_split \n",
    "from numpy import concatenate\n",
    "from sklearn.semi_supervised import LabelPropagation\n",
    "from sklearn.linear_model import LogisticRegression\n",
    "from sklearn.mixture import GaussianMixture\n",
    "from sklearn.metrics import classification_report, roc_auc_score,precision_score\n",
    "from sklearn.model_selection import StratifiedKFold \n",
    "# evaluate label propagation on the semi-supervised learning dataset\n",
    "\n",
    "\n",
    "\n",
    "dataSet = sp.loadmat('breastw.mat')\n",
    "X = dataSet['X']\n",
    "y = dataSet['y']\n",
    "skf = StratifiedKFold(n_splits=10,shuffle=False)\n",
    "j = 0\n",
    "i = 0\n",
    "for train_index, test_index in skf.split(X,y):\n",
    "    \n",
    "    X_train, X_test = X[train_index,:], X[test_index,:]\n",
    "    y_train, y_test = y[train_index], y[test_index]\n",
    "\n",
    "    y_train = np.array([-1 if label == 1 else 1 for label in y_train])\n",
    "    \n",
    "   \n",
    "    for j in y_train :\n",
    "        \n",
    "        if i==len(y_train):\n",
    "            break\n",
    "        \n",
    "        if y_train[i]== 1 :\n",
    "                \n",
    "                y_train_SemiS = y_train[i]\n",
    "                X_train_SemiS = X_train[i,:] \n",
    "                \n",
    "                i=i+1\n",
    "        else :\n",
    "    \n",
    "            i=i+1\n",
    "    print (np.shape(X_train_SemiS))\n",
    "        \n",
    "        \n",
    "   \n",
    "   \n",
    "    \n",
    "\n",
    "\n",
    "\n",
    "            \n",
    "\n",
    "\n",
    "\n",
    "\n",
    "\n",
    "\n"
   ]
  }
 ],
 "metadata": {
  "interpreter": {
   "hash": "5a40e2b4f911a7734a261e22a758eafdb4e5242b7551deb7d398caa0e0a0de76"
  },
  "kernelspec": {
   "display_name": "Python 3.9.7 ('base')",
   "language": "python",
   "name": "python3"
  },
  "language_info": {
   "codemirror_mode": {
    "name": "ipython",
    "version": 3
   },
   "file_extension": ".py",
   "mimetype": "text/x-python",
   "name": "python",
   "nbconvert_exporter": "python",
   "pygments_lexer": "ipython3",
   "version": "3.9.7"
  },
  "orig_nbformat": 4
 },
 "nbformat": 4,
 "nbformat_minor": 2
}
