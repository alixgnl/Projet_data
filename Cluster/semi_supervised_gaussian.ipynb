{
 "cells": [
  {
   "cell_type": "code",
   "execution_count": 81,
   "metadata": {},
   "outputs": [
    {
     "name": "stdout",
     "output_type": "stream",
     "text": [
      "(683, 9)\n",
      "239\n",
      "(683, 9)\n",
      "[[ 5  1  1 ...  3  1  1]\n",
      " [ 5  4  4 ...  3  2  1]\n",
      " [ 3  1  1 ...  3  1  1]\n",
      " ...\n",
      " [ 5 10 10 ...  8 10  2]\n",
      " [ 4  8  6 ... 10  6  1]\n",
      " [ 4  8  8 ... 10  4  1]]\n",
      "0\n"
     ]
    }
   ],
   "source": [
    "import numpy as np\n",
    "import scipy.io as sp\n",
    "from sklearn.model_selection import train_test_split \n",
    "from numpy import concatenate\n",
    "from sklearn.semi_supervised import LabelPropagation\n",
    "from sklearn.linear_model import LogisticRegression\n",
    "from sklearn.mixture import GaussianMixture\n",
    "from sklearn.metrics import classification_report, roc_auc_score,precision_score\n",
    "from sklearn.model_selection import StratifiedKFold \n",
    "# evaluate label propagation on the semi-supervised learning dataset\n",
    "\n",
    "\n",
    "\n",
    "dataSet = sp.loadmat('breastw.mat')\n",
    "X = dataSet['X']\n",
    "y = dataSet['y']\n",
    "skf = StratifiedKFold(n_splits=10,shuffle=False)\n",
    "\n",
    "#for train_index, test_index in skf.split(X,y):\n",
    "    #i=0\n",
    "    #X_train, X_test = X[train_index,:], X[test_index,:]\n",
    "    #y_train, y_test = y[train_index], y[test_index]\n",
    "\n",
    "    \n",
    "print(np.shape(X))\n",
    "y = np.array([-1 if label == 1 else 1 for label in y])\n",
    "count = (y == -1).sum()\n",
    "print(count)\n",
    "x=0\n",
    "for j in y :\n",
    "    if i==len(y):\n",
    "        break\n",
    "    elif y[i]== -1 :\n",
    "        X= np.delete(X,obj=i-x,axis=0)\n",
    "        x=x+1\n",
    "    i = i+1    \n",
    "print(np.shape(X))\n",
    "print(X)\n",
    "print(x)"
   ]
  }
 ],
 "metadata": {
  "interpreter": {
   "hash": "ffd309f70c127bbe156ac096ba063b968332170e7693cbb0eca7d666f8002d44"
  },
  "kernelspec": {
   "display_name": "Python 3.9.7 ('base')",
   "language": "python",
   "name": "python3"
  },
  "language_info": {
   "codemirror_mode": {
    "name": "ipython",
    "version": 3
   },
   "file_extension": ".py",
   "mimetype": "text/x-python",
   "name": "python",
   "nbconvert_exporter": "python",
   "pygments_lexer": "ipython3",
   "version": "3.9.7"
  },
  "orig_nbformat": 4
 },
 "nbformat": 4,
 "nbformat_minor": 2
}
