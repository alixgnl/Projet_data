{
 "cells": [
  {
   "cell_type": "code",
   "execution_count": 388,
   "metadata": {},
   "outputs": [],
   "source": [
    "import numpy as np\n",
    "import scipy.io as sp\n",
    "from sklearn.model_selection import train_test_split \n",
    "from numpy import concatenate\n",
    "from sklearn.semi_supervised import LabelPropagation\n",
    "from sklearn.linear_model import LogisticRegression\n",
    "from sklearn.mixture import GaussianMixture\n",
    "from sklearn.metrics import classification_report, roc_auc_score,precision_score\n",
    "# evaluate label propagation on the semi-supervised learning dataset\n",
    "\n",
    "\n",
    "\n",
    "dataSet = sp.loadmat('C:\\\\Users\\\\junda\\\\OneDrive\\\\Bureau\\\\breastw.mat')\n",
    "X = dataSet['X']\n",
    "y = dataSet['y']\n",
    "\n",
    "X_train, X_test, y_train, y_test = train_test_split(X,y,test_size=0.2, stratify=y)\n",
    "X_train, X_unl, y_train, y_unl = train_test_split(X_train, y_train, test_size=0.7, stratify=y_train)\n",
    "\n",
    "y_train = np.ravel(y_train)\n",
    "X_train_mixed = concatenate((X_train, X_unl))\n",
    "y_SVC_test = y_unl\n",
    "\n",
    "y_unl = [-1 for i in range(len(y_unl))]\n",
    "y_unl = np.ravel(y_unl)\n",
    "\n",
    "\n",
    "\n"
   ]
  },
  {
   "cell_type": "code",
   "execution_count": 389,
   "metadata": {},
   "outputs": [
    {
     "name": "stdout",
     "output_type": "stream",
     "text": [
      "              precision    recall  f1-score   support\n",
      "\n",
      "           0       0.97      0.98      0.97       249\n",
      "           1       0.95      0.95      0.95       134\n",
      "\n",
      "    accuracy                           0.97       383\n",
      "   macro avg       0.96      0.96      0.96       383\n",
      "weighted avg       0.97      0.97      0.97       383\n",
      "\n"
     ]
    }
   ],
   "source": [
    "from sklearn.svm import SVC\n",
    "model = SVC()\n",
    "model.fit(X_train,y_train)\n",
    "y_unl = model.predict(X_unl)\n",
    "print (classification_report(y_SVC_test,y_unl))"
   ]
  },
  {
   "cell_type": "code",
   "execution_count": 390,
   "metadata": {},
   "outputs": [],
   "source": [
    "\n",
    "y_train_mixed = concatenate((y_unl,y_train))\n",
    "gmm = GaussianMixture(n_components=2, covariance_type ='full', random_state = None, max_iter=100)\n",
    "gmm.fit(X_train_mixed,y_train_mixed)\n",
    "y_pred = gmm.predict(X_test)\n",
    "if precision_score(y_test,y_pred)< 0.15:\n",
    "    \n",
    "        y_pred = np.array([0 if label == 1 else 1 for label in y_pred])\n"
   ]
  },
  {
   "cell_type": "code",
   "execution_count": 391,
   "metadata": {},
   "outputs": [
    {
     "name": "stdout",
     "output_type": "stream",
     "text": [
      "              precision    recall  f1-score   support\n",
      "\n",
      "           0       1.00      0.88      0.93        89\n",
      "           1       0.81      1.00      0.90        48\n",
      "\n",
      "    accuracy                           0.92       137\n",
      "   macro avg       0.91      0.94      0.92       137\n",
      "weighted avg       0.93      0.92      0.92       137\n",
      "\n",
      "0.9382022471910113\n"
     ]
    }
   ],
   "source": [
    "\n",
    "print(classification_report(y_test,y_pred))\n",
    "print(roc_auc_score(y_test,y_pred))"
   ]
  },
  {
   "cell_type": "code",
   "execution_count": 392,
   "metadata": {},
   "outputs": [],
   "source": [
    "from sklearn import metrics\n",
    "import matplotlib.pyplot as plt\n",
    "fpr, tpr, thresholds = metrics.roc_curve(y_test,y_pred)\n",
    "roc_auc = metrics.auc(fpr, tpr)"
   ]
  },
  {
   "cell_type": "code",
   "execution_count": 393,
   "metadata": {},
   "outputs": [
    {
     "name": "stdout",
     "output_type": "stream",
     "text": [
      "              precision    recall  f1-score   support\n",
      "\n",
      "           0       1.00      0.84      0.91        89\n",
      "           1       0.77      1.00      0.87        48\n",
      "\n",
      "    accuracy                           0.90       137\n",
      "   macro avg       0.89      0.92      0.89       137\n",
      "weighted avg       0.92      0.90      0.90       137\n",
      "\n"
     ]
    }
   ],
   "source": [
    "X = dataSet['X']\n",
    "y = dataSet['y']\n",
    "X_train, X_test, y_train, y_test = train_test_split(X,y,test_size=0.2, stratify=y)\n",
    "\n",
    "gmm = GaussianMixture(n_components=2, covariance_type ='full', random_state = None, max_iter=100)\n",
    "gmm.fit(X_train,y_train)\n",
    "y_pred1 = gmm.predict(X_test)\n",
    "probas = gmm.predict_proba(X_test)\n",
    "if precision_score(y_test,y_pred1)< 0.15:\n",
    "    \n",
    "        y_pred1 = np.array([0 if label == 1 else 1 for label in y_pred1])\n",
    "print(classification_report(y_test,y_pred1)) "
   ]
  },
  {
   "cell_type": "code",
   "execution_count": 394,
   "metadata": {},
   "outputs": [
    {
     "data": {
      "text/plain": [
       "<matplotlib.legend.Legend at 0x22f1a323ee0>"
      ]
     },
     "execution_count": 394,
     "metadata": {},
     "output_type": "execute_result"
    },
    {
     "data": {
      "image/png": "[encoded data removed]",
      "text/plain": [
       "<Figure size 432x288 with 1 Axes>"
      ]
     },
     "metadata": {
      "needs_background": "light"
     },
     "output_type": "display_data"
    }
   ],
   "source": [
    "\n",
    "fpr1, tpr1, thresholds1 = metrics.roc_curve(y_test,y_pred1)\n",
    "roc_auc1 =metrics.auc (fpr1,tpr1)\n",
    "plt.plot(fpr1, tpr1, label='ROC curve supervised (area = %0.3f)' % roc_auc1)\n",
    "plt.plot(fpr, tpr, label='ROC curve S-supervised(area = %0.3f)' % roc_auc)\n",
    "plt.plot([0, 1], [0, 1], 'k--')  # random predictions curve\n",
    "plt.xlim([0.0, 1.0])\n",
    "plt.ylim([0.0, 1.0])\n",
    "plt.xlabel('False Positive Rate or (1 - Specifity)')\n",
    "plt.ylabel('True Positive Rate or (Sensitivity)')\n",
    "plt.title('Receiver Operating Characteristic')\n",
    "plt.legend(loc=\"lower right\")"
   ]
  }
 ],
 "metadata": {
  "interpreter": {
   "hash": "5a40e2b4f911a7734a261e22a758eafdb4e5242b7551deb7d398caa0e0a0de76"
  },
  "kernelspec": {
   "display_name": "Python 3.9.7 ('base')",
   "language": "python",
   "name": "python3"
  },
  "language_info": {
   "codemirror_mode": {
    "name": "ipython",
    "version": 3
   },
   "file_extension": ".py",
   "mimetype": "text/x-python",
   "name": "python",
   "nbconvert_exporter": "python",
   "pygments_lexer": "ipython3",
   "version": "3.9.7"
  },
  "orig_nbformat": 4
 },
 "nbformat": 4,
 "nbformat_minor": 2
}
