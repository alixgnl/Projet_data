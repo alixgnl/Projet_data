{
 "cells": [
  {
   "cell_type": "code",
   "execution_count": 105,
   "metadata": {},
   "outputs": [
    {
     "name": "stdout",
     "output_type": "stream",
     "text": [
      "P-value: 1.000, t-Statistic: 0.000\n",
      "P-value: 0.989, t-Statistic: 0.014\n",
      "P-value: 0.595, t-Statistic: -0.567\n",
      "P-value: 0.255, t-Statistic: 1.285\n",
      "P-value: 0.026, t-Statistic: 3.126\n",
      "P-value: 0.310, t-Statistic: -1.130\n",
      "P-value: 1.000, t-Statistic: 0.000\n",
      "P-value: 1.000, t-Statistic: 0.000\n",
      "P-value: 0.351, t-Statistic: 1.028\n",
      "P-value: 0.339, t-Statistic: -1.057\n",
      "P-value: 0.196, t-Statistic: -1.491\n",
      "P-value: 0.396, t-Statistic: 0.929\n",
      "P-value: 0.275, t-Statistic: -1.227\n",
      "P-value: 0.933, t-Statistic: 0.089\n"
     ]
    }
   ],
   "source": [
    "import numpy as np\n",
    "import pandas as pd\n",
    "import matplotlib.pyplot as plt\n",
    "import scipy.io as sp\n",
    "from sklearn.model_selection import train_test_split\n",
    "from sklearn.metrics import roc_auc_score, roc_curve\n",
    "from sklearn.decomposition import PCA\n",
    "from sklearn.preprocessing import StandardScaler\n",
    "from sklearn.model_selection import StratifiedKFold\n",
    "from sklearn.metrics import precision_score, f1_score, accuracy_score, recall_score\n",
    "from sklearn import metrics\n",
    "from numpy import mean\n",
    "from numpy import std\n",
    "from mlxtend.evaluate import paired_ttest_5x2cv,combined_ftest_5x2cv\n",
    "\n",
    "\n",
    "\n",
    "\n",
    "\n",
    "from sklearn.mixture import GaussianMixture\n",
    "from sklearn.metrics import classification_report, roc_auc_score,precision_score\n",
    "from sklearn.model_selection import StratifiedKFold \n",
    "# evaluate label propagation on the semi-supervised learning dataset\n",
    "\n",
    "dataSet = sp.loadmat('breastw.mat')\n",
    "X = dataSet['X']\n",
    "y = dataSet['y']\n",
    "Covariance=['spherical', 'tied', 'diag', 'full']\n",
    "Params=['kmeans', 'random']\n",
    "skf = StratifiedKFold(n_splits=2) \n",
    "fold=0\n",
    "test=False\n",
    "for train_index, test_index in skf.split(X, y):\n",
    "        fold=fold+1\n",
    "        k = 0\n",
    "        liste =[0]*8\n",
    "        \n",
    "        X_train, X_test = X[train_index,:], X[test_index,:]\n",
    "        y_train, y_test = y[train_index], y[test_index]\n",
    "        for i in Covariance:\n",
    "                for j in Params:\n",
    "                       \n",
    "                       \n",
    "                        gmm = GaussianMixture(n_components=2,init_params=j,covariance_type=i)\n",
    "                        gmm.fit(X_train,y_train)\n",
    "                        y_pred=gmm.predict(X_test)\n",
    "                        if precision_score(y_test,y_pred)< 0.1:\n",
    "    \n",
    "                                y_pred = np.array([0 if label == 1 else 1 for label in y_pred])\n",
    "                        \n",
    "                        F1=round(f1_score(y_test,y_pred),3)\n",
    "                        recall=round(recall_score(y_test,y_pred),3)\n",
    "                        precision=round(precision_score(y_test,y_pred,zero_division=0),3)\n",
    "                        accuracy=round(accuracy_score(y_test,y_pred),3)\n",
    "                        fpr, tpr, thresholds = metrics.roc_curve(y_test,y_pred)\n",
    "                        roc_auc = metrics.auc(fpr, tpr)\n",
    "                        if test==False :\n",
    "                                data = np.array([[i,j,F1,recall,precision,accuracy,roc_auc,fold]])\n",
    "                                test=True\n",
    "                        else :\n",
    "                                data = np.append(data, [[i,j,F1,recall,precision,accuracy,roc_auc,fold]],axis=0)\n",
    "                        liste[k]=gmm\n",
    "                        k = k+1\n",
    "                       \n",
    "        for estimator1, estimator2 in zip(liste,liste[1:]):\n",
    "                t, p = paired_ttest_5x2cv(estimator1= estimator1, estimator2=estimator2,X=X, y=y, scoring='f1', random_seed=None)\n",
    "        \n",
    "                print('P-value: %.3f, t-Statistic: %.3f' % (p, t))\n",
    "\n",
    "              \n",
    "                        \n",
    "             \n"
   ]
  },
  {
   "cell_type": "code",
   "execution_count": 106,
   "metadata": {},
   "outputs": [
    {
     "ename": "ValueError",
     "evalue": "endog has evaluated to an array with multiple columns that has shape (16, 4). This occurs when the variable converted to endog is non-numeric (e.g., bool or str).",
     "output_type": "error",
     "traceback": [
      "\u001b[1;31m---------------------------------------------------------------------------\u001b[0m",
      "\u001b[1;31mValueError\u001b[0m                                Traceback (most recent call last)",
      "\u001b[1;32m~\\AppData\\Local\\Temp/ipykernel_19484/3221034464.py\u001b[0m in \u001b[0;36m<module>\u001b[1;34m\u001b[0m\n\u001b[0;32m      7\u001b[0m \u001b[0mdf\u001b[0m \u001b[1;33m=\u001b[0m \u001b[0mpd\u001b[0m\u001b[1;33m.\u001b[0m\u001b[0mDataFrame\u001b[0m\u001b[1;33m(\u001b[0m\u001b[0mdata\u001b[0m\u001b[1;33m=\u001b[0m\u001b[0mdata\u001b[0m\u001b[1;33m,\u001b[0m\u001b[0mcolumns\u001b[0m\u001b[1;33m=\u001b[0m\u001b[1;33m[\u001b[0m\u001b[1;34m'Covariance'\u001b[0m\u001b[1;33m,\u001b[0m\u001b[1;34m'Parametre'\u001b[0m\u001b[1;33m,\u001b[0m\u001b[1;34m'F1'\u001b[0m\u001b[1;33m,\u001b[0m\u001b[1;34m'recall'\u001b[0m\u001b[1;33m,\u001b[0m\u001b[1;34m'precision'\u001b[0m\u001b[1;33m,\u001b[0m\u001b[1;34m'accuracy'\u001b[0m\u001b[1;33m,\u001b[0m\u001b[1;34m'AUC'\u001b[0m\u001b[1;33m,\u001b[0m\u001b[1;34m'numero_fold'\u001b[0m\u001b[1;33m]\u001b[0m\u001b[1;33m)\u001b[0m\u001b[1;33m\u001b[0m\u001b[1;33m\u001b[0m\u001b[0m\n\u001b[0;32m      8\u001b[0m \u001b[0mdf\u001b[0m\u001b[1;33m\u001b[0m\u001b[1;33m\u001b[0m\u001b[0m\n\u001b[1;32m----> 9\u001b[1;33m \u001b[0mmod\u001b[0m \u001b[1;33m=\u001b[0m \u001b[0mols\u001b[0m\u001b[1;33m(\u001b[0m\u001b[1;34m'C(Covariance)~ F1'\u001b[0m\u001b[1;33m,\u001b[0m\u001b[0mdata\u001b[0m\u001b[1;33m=\u001b[0m\u001b[0mdf\u001b[0m\u001b[1;33m)\u001b[0m\u001b[1;33m.\u001b[0m\u001b[0mfit\u001b[0m\u001b[1;33m(\u001b[0m\u001b[1;33m)\u001b[0m\u001b[1;33m\u001b[0m\u001b[1;33m\u001b[0m\u001b[0m\n\u001b[0m\u001b[0;32m     10\u001b[0m \u001b[0mresults\u001b[0m \u001b[1;33m=\u001b[0m \u001b[0msm\u001b[0m\u001b[1;33m.\u001b[0m\u001b[0mstats\u001b[0m\u001b[1;33m.\u001b[0m\u001b[0manova_ml\u001b[0m\u001b[1;33m(\u001b[0m\u001b[0mmod\u001b[0m\u001b[1;33m,\u001b[0m\u001b[0mtype\u001b[0m \u001b[1;33m=\u001b[0m \u001b[1;36m2\u001b[0m\u001b[1;33m)\u001b[0m\u001b[1;33m\u001b[0m\u001b[1;33m\u001b[0m\u001b[0m\n\u001b[0;32m     11\u001b[0m \u001b[0mresults\u001b[0m\u001b[1;33m\u001b[0m\u001b[1;33m\u001b[0m\u001b[0m\n",
      "\u001b[1;32mc:\\Users\\junda\\anaconda3\\lib\\site-packages\\statsmodels\\base\\model.py\u001b[0m in \u001b[0;36mfrom_formula\u001b[1;34m(cls, formula, data, subset, drop_cols, *args, **kwargs)\u001b[0m\n\u001b[0;32m    173\u001b[0m         if (max_endog is not None and\n\u001b[0;32m    174\u001b[0m                 endog.ndim > 1 and endog.shape[1] > max_endog):\n\u001b[1;32m--> 175\u001b[1;33m             raise ValueError('endog has evaluated to an array with multiple '\n\u001b[0m\u001b[0;32m    176\u001b[0m                              \u001b[1;34m'columns that has shape {0}. This occurs when '\u001b[0m\u001b[1;33m\u001b[0m\u001b[1;33m\u001b[0m\u001b[0m\n\u001b[0;32m    177\u001b[0m                              \u001b[1;34m'the variable converted to endog is non-numeric'\u001b[0m\u001b[1;33m\u001b[0m\u001b[1;33m\u001b[0m\u001b[0m\n",
      "\u001b[1;31mValueError\u001b[0m: endog has evaluated to an array with multiple columns that has shape (16, 4). This occurs when the variable converted to endog is non-numeric (e.g., bool or str)."
     ]
    }
   ],
   "source": [
    "import pandas as pd\n",
    "from scipy.stats import mannwhitneyu\n",
    "import scipy.stats as stats\n",
    "import statsmodels.api as sm\n",
    "from statsmodels.formula.api import ols\n",
    "\n",
    "df = pd.DataFrame(data=data,columns=['Covariance','Parametre','F1','recall','precision','accuracy','AUC','numero_fold'])\n",
    "df\n",
    "mod = ols('C(Covariance)~ F1',data=df).fit()\n",
    "results = sm.stats.anova_ml(mod,type = 2)\n",
    "results\n"
   ]
  },
  {
   "cell_type": "code",
   "execution_count": null,
   "metadata": {},
   "outputs": [],
   "source": [
    "df.to_csv (\"test.csv\", sep= \",\",na_rep= \"\",float_format= None,columns= None,header= True,index= True,index_label= None, mode= \"w\", encoding= None,compression= \"infer\",quoting= None,line_terminator= None,chunksize= None,date_format= None,doublequote= True,escapechar= None,decimal= \".\")"
   ]
  },
  {
   "cell_type": "code",
   "execution_count": null,
   "metadata": {},
   "outputs": [],
   "source": []
  }
 ],
 "metadata": {
  "interpreter": {
   "hash": "ffd309f70c127bbe156ac096ba063b968332170e7693cbb0eca7d666f8002d44"
  },
  "kernelspec": {
   "display_name": "Python 3.9.7 ('base')",
   "language": "python",
   "name": "python3"
  },
  "language_info": {
   "codemirror_mode": {
    "name": "ipython",
    "version": 3
   },
   "file_extension": ".py",
   "mimetype": "text/x-python",
   "name": "python",
   "nbconvert_exporter": "python",
   "pygments_lexer": "ipython3",
   "version": "3.9.7"
  },
  "orig_nbformat": 4
 },
 "nbformat": 4,
 "nbformat_minor": 2
}
