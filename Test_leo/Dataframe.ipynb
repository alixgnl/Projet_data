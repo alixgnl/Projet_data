{
 "cells": [
  {
   "cell_type": "code",
   "execution_count": 7,
   "metadata": {},
   "outputs": [],
   "source": [
    "import pandas as pd\n",
    "import numpy as np\n",
    "import scipy.io as sp\n",
    "from sklearn.model_selection import StratifiedKFold\n",
    "from sklearn.ensemble import IsolationForest\n",
    "from sklearn.metrics import classification_report, precision_score, confusion_matrix, roc_curve, precision_recall_curve\n",
    "from sklearn import metrics\n",
    "from sklearn.metrics import roc_curve, auc\n",
    "import numpy as np\n",
    "from sklearn.metrics import precision_score, f1_score, accuracy_score, recall_score"
   ]
  },
  {
   "cell_type": "code",
   "execution_count": 10,
   "metadata": {},
   "outputs": [
    {
     "ename": "FileNotFoundError",
     "evalue": "[Errno 2] No such file or directory: 'breastw.mat'",
     "output_type": "error",
     "traceback": [
      "\u001b[1;31m---------------------------------------------------------------------------\u001b[0m",
      "\u001b[1;31mFileNotFoundError\u001b[0m                         Traceback (most recent call last)",
      "File \u001b[1;32mc:\\Users\\leo\\AppData\\Local\\Programs\\Python\\Python39\\lib\\site-packages\\scipy\\io\\matlab\\_mio.py:39\u001b[0m, in \u001b[0;36m_open_file\u001b[1;34m(file_like, appendmat, mode)\u001b[0m\n\u001b[0;32m     <a href='file:///c%3A/Users/leo/AppData/Local/Programs/Python/Python39/lib/site-packages/scipy/io/matlab/_mio.py?line=37'>38</a>\u001b[0m \u001b[39mtry\u001b[39;00m:\n\u001b[1;32m---> <a href='file:///c%3A/Users/leo/AppData/Local/Programs/Python/Python39/lib/site-packages/scipy/io/matlab/_mio.py?line=38'>39</a>\u001b[0m     \u001b[39mreturn\u001b[39;00m \u001b[39mopen\u001b[39;49m(file_like, mode), \u001b[39mTrue\u001b[39;00m\n\u001b[0;32m     <a href='file:///c%3A/Users/leo/AppData/Local/Programs/Python/Python39/lib/site-packages/scipy/io/matlab/_mio.py?line=39'>40</a>\u001b[0m \u001b[39mexcept\u001b[39;00m \u001b[39mOSError\u001b[39;00m \u001b[39mas\u001b[39;00m e:\n\u001b[0;32m     <a href='file:///c%3A/Users/leo/AppData/Local/Programs/Python/Python39/lib/site-packages/scipy/io/matlab/_mio.py?line=40'>41</a>\u001b[0m     \u001b[39m# Probably \"not found\"\u001b[39;00m\n",
      "\u001b[1;31mFileNotFoundError\u001b[0m: [Errno 2] No such file or directory: 'breastw.mat'",
      "\nDuring handling of the above exception, another exception occurred:\n",
      "\u001b[1;31mFileNotFoundError\u001b[0m                         Traceback (most recent call last)",
      "\u001b[1;32md:\\Projet data sciences\\Projet_data\\Dataframe.ipynb Cell 2'\u001b[0m in \u001b[0;36m<cell line: 1>\u001b[1;34m()\u001b[0m\n\u001b[1;32m----> <a href='vscode-notebook-cell:/d%3A/Projet%20data%20sciences/Projet_data/Dataframe.ipynb#ch0000001?line=0'>1</a>\u001b[0m dataSet \u001b[39m=\u001b[39m sp\u001b[39m.\u001b[39;49mloadmat(\u001b[39m'\u001b[39;49m\u001b[39mbreastw.mat\u001b[39;49m\u001b[39m'\u001b[39;49m) \n\u001b[0;32m      <a href='vscode-notebook-cell:/d%3A/Projet%20data%20sciences/Projet_data/Dataframe.ipynb#ch0000001?line=1'>2</a>\u001b[0m X \u001b[39m=\u001b[39m dataSet[\u001b[39m'\u001b[39m\u001b[39mX\u001b[39m\u001b[39m'\u001b[39m]\n\u001b[0;32m      <a href='vscode-notebook-cell:/d%3A/Projet%20data%20sciences/Projet_data/Dataframe.ipynb#ch0000001?line=2'>3</a>\u001b[0m y \u001b[39m=\u001b[39m dataSet[\u001b[39m'\u001b[39m\u001b[39my\u001b[39m\u001b[39m'\u001b[39m]\n",
      "File \u001b[1;32mc:\\Users\\leo\\AppData\\Local\\Programs\\Python\\Python39\\lib\\site-packages\\scipy\\io\\matlab\\_mio.py:224\u001b[0m, in \u001b[0;36mloadmat\u001b[1;34m(file_name, mdict, appendmat, **kwargs)\u001b[0m\n\u001b[0;32m     <a href='file:///c%3A/Users/leo/AppData/Local/Programs/Python/Python39/lib/site-packages/scipy/io/matlab/_mio.py?line=86'>87</a>\u001b[0m \u001b[39m\"\"\"\u001b[39;00m\n\u001b[0;32m     <a href='file:///c%3A/Users/leo/AppData/Local/Programs/Python/Python39/lib/site-packages/scipy/io/matlab/_mio.py?line=87'>88</a>\u001b[0m \u001b[39mLoad MATLAB file.\u001b[39;00m\n\u001b[0;32m     <a href='file:///c%3A/Users/leo/AppData/Local/Programs/Python/Python39/lib/site-packages/scipy/io/matlab/_mio.py?line=88'>89</a>\u001b[0m \n\u001b[1;32m   (...)\u001b[0m\n\u001b[0;32m    <a href='file:///c%3A/Users/leo/AppData/Local/Programs/Python/Python39/lib/site-packages/scipy/io/matlab/_mio.py?line=220'>221</a>\u001b[0m \u001b[39m    3.14159265+3.14159265j])\u001b[39;00m\n\u001b[0;32m    <a href='file:///c%3A/Users/leo/AppData/Local/Programs/Python/Python39/lib/site-packages/scipy/io/matlab/_mio.py?line=221'>222</a>\u001b[0m \u001b[39m\"\"\"\u001b[39;00m\n\u001b[0;32m    <a href='file:///c%3A/Users/leo/AppData/Local/Programs/Python/Python39/lib/site-packages/scipy/io/matlab/_mio.py?line=222'>223</a>\u001b[0m variable_names \u001b[39m=\u001b[39m kwargs\u001b[39m.\u001b[39mpop(\u001b[39m'\u001b[39m\u001b[39mvariable_names\u001b[39m\u001b[39m'\u001b[39m, \u001b[39mNone\u001b[39;00m)\n\u001b[1;32m--> <a href='file:///c%3A/Users/leo/AppData/Local/Programs/Python/Python39/lib/site-packages/scipy/io/matlab/_mio.py?line=223'>224</a>\u001b[0m \u001b[39mwith\u001b[39;00m _open_file_context(file_name, appendmat) \u001b[39mas\u001b[39;00m f:\n\u001b[0;32m    <a href='file:///c%3A/Users/leo/AppData/Local/Programs/Python/Python39/lib/site-packages/scipy/io/matlab/_mio.py?line=224'>225</a>\u001b[0m     MR, _ \u001b[39m=\u001b[39m mat_reader_factory(f, \u001b[39m*\u001b[39m\u001b[39m*\u001b[39mkwargs)\n\u001b[0;32m    <a href='file:///c%3A/Users/leo/AppData/Local/Programs/Python/Python39/lib/site-packages/scipy/io/matlab/_mio.py?line=225'>226</a>\u001b[0m     matfile_dict \u001b[39m=\u001b[39m MR\u001b[39m.\u001b[39mget_variables(variable_names)\n",
      "File \u001b[1;32mc:\\Users\\leo\\AppData\\Local\\Programs\\Python\\Python39\\lib\\contextlib.py:119\u001b[0m, in \u001b[0;36m_GeneratorContextManager.__enter__\u001b[1;34m(self)\u001b[0m\n\u001b[0;32m    <a href='file:///c%3A/Users/leo/AppData/Local/Programs/Python/Python39/lib/contextlib.py?line=116'>117</a>\u001b[0m \u001b[39mdel\u001b[39;00m \u001b[39mself\u001b[39m\u001b[39m.\u001b[39margs, \u001b[39mself\u001b[39m\u001b[39m.\u001b[39mkwds, \u001b[39mself\u001b[39m\u001b[39m.\u001b[39mfunc\n\u001b[0;32m    <a href='file:///c%3A/Users/leo/AppData/Local/Programs/Python/Python39/lib/contextlib.py?line=117'>118</a>\u001b[0m \u001b[39mtry\u001b[39;00m:\n\u001b[1;32m--> <a href='file:///c%3A/Users/leo/AppData/Local/Programs/Python/Python39/lib/contextlib.py?line=118'>119</a>\u001b[0m     \u001b[39mreturn\u001b[39;00m \u001b[39mnext\u001b[39;49m(\u001b[39mself\u001b[39;49m\u001b[39m.\u001b[39;49mgen)\n\u001b[0;32m    <a href='file:///c%3A/Users/leo/AppData/Local/Programs/Python/Python39/lib/contextlib.py?line=119'>120</a>\u001b[0m \u001b[39mexcept\u001b[39;00m \u001b[39mStopIteration\u001b[39;00m:\n\u001b[0;32m    <a href='file:///c%3A/Users/leo/AppData/Local/Programs/Python/Python39/lib/contextlib.py?line=120'>121</a>\u001b[0m     \u001b[39mraise\u001b[39;00m \u001b[39mRuntimeError\u001b[39;00m(\u001b[39m\"\u001b[39m\u001b[39mgenerator didn\u001b[39m\u001b[39m'\u001b[39m\u001b[39mt yield\u001b[39m\u001b[39m\"\u001b[39m) \u001b[39mfrom\u001b[39;00m \u001b[39mNone\u001b[39m\n",
      "File \u001b[1;32mc:\\Users\\leo\\AppData\\Local\\Programs\\Python\\Python39\\lib\\site-packages\\scipy\\io\\matlab\\_mio.py:17\u001b[0m, in \u001b[0;36m_open_file_context\u001b[1;34m(file_like, appendmat, mode)\u001b[0m\n\u001b[0;32m     <a href='file:///c%3A/Users/leo/AppData/Local/Programs/Python/Python39/lib/site-packages/scipy/io/matlab/_mio.py?line=14'>15</a>\u001b[0m \u001b[39m@contextmanager\u001b[39m\n\u001b[0;32m     <a href='file:///c%3A/Users/leo/AppData/Local/Programs/Python/Python39/lib/site-packages/scipy/io/matlab/_mio.py?line=15'>16</a>\u001b[0m \u001b[39mdef\u001b[39;00m \u001b[39m_open_file_context\u001b[39m(file_like, appendmat, mode\u001b[39m=\u001b[39m\u001b[39m'\u001b[39m\u001b[39mrb\u001b[39m\u001b[39m'\u001b[39m):\n\u001b[1;32m---> <a href='file:///c%3A/Users/leo/AppData/Local/Programs/Python/Python39/lib/site-packages/scipy/io/matlab/_mio.py?line=16'>17</a>\u001b[0m     f, opened \u001b[39m=\u001b[39m _open_file(file_like, appendmat, mode)\n\u001b[0;32m     <a href='file:///c%3A/Users/leo/AppData/Local/Programs/Python/Python39/lib/site-packages/scipy/io/matlab/_mio.py?line=17'>18</a>\u001b[0m     \u001b[39mtry\u001b[39;00m:\n\u001b[0;32m     <a href='file:///c%3A/Users/leo/AppData/Local/Programs/Python/Python39/lib/site-packages/scipy/io/matlab/_mio.py?line=18'>19</a>\u001b[0m         \u001b[39myield\u001b[39;00m f\n",
      "File \u001b[1;32mc:\\Users\\leo\\AppData\\Local\\Programs\\Python\\Python39\\lib\\site-packages\\scipy\\io\\matlab\\_mio.py:45\u001b[0m, in \u001b[0;36m_open_file\u001b[1;34m(file_like, appendmat, mode)\u001b[0m\n\u001b[0;32m     <a href='file:///c%3A/Users/leo/AppData/Local/Programs/Python/Python39/lib/site-packages/scipy/io/matlab/_mio.py?line=42'>43</a>\u001b[0m     \u001b[39mif\u001b[39;00m appendmat \u001b[39mand\u001b[39;00m \u001b[39mnot\u001b[39;00m file_like\u001b[39m.\u001b[39mendswith(\u001b[39m'\u001b[39m\u001b[39m.mat\u001b[39m\u001b[39m'\u001b[39m):\n\u001b[0;32m     <a href='file:///c%3A/Users/leo/AppData/Local/Programs/Python/Python39/lib/site-packages/scipy/io/matlab/_mio.py?line=43'>44</a>\u001b[0m         file_like \u001b[39m+\u001b[39m\u001b[39m=\u001b[39m \u001b[39m'\u001b[39m\u001b[39m.mat\u001b[39m\u001b[39m'\u001b[39m\n\u001b[1;32m---> <a href='file:///c%3A/Users/leo/AppData/Local/Programs/Python/Python39/lib/site-packages/scipy/io/matlab/_mio.py?line=44'>45</a>\u001b[0m     \u001b[39mreturn\u001b[39;00m \u001b[39mopen\u001b[39;49m(file_like, mode), \u001b[39mTrue\u001b[39;00m\n\u001b[0;32m     <a href='file:///c%3A/Users/leo/AppData/Local/Programs/Python/Python39/lib/site-packages/scipy/io/matlab/_mio.py?line=45'>46</a>\u001b[0m \u001b[39melse\u001b[39;00m:\n\u001b[0;32m     <a href='file:///c%3A/Users/leo/AppData/Local/Programs/Python/Python39/lib/site-packages/scipy/io/matlab/_mio.py?line=46'>47</a>\u001b[0m     \u001b[39mraise\u001b[39;00m \u001b[39mOSError\u001b[39;00m(\n\u001b[0;32m     <a href='file:///c%3A/Users/leo/AppData/Local/Programs/Python/Python39/lib/site-packages/scipy/io/matlab/_mio.py?line=47'>48</a>\u001b[0m         \u001b[39m'\u001b[39m\u001b[39mReader needs file name or open file-like object\u001b[39m\u001b[39m'\u001b[39m\n\u001b[0;32m     <a href='file:///c%3A/Users/leo/AppData/Local/Programs/Python/Python39/lib/site-packages/scipy/io/matlab/_mio.py?line=48'>49</a>\u001b[0m     ) \u001b[39mfrom\u001b[39;00m \u001b[39me\u001b[39;00m\n",
      "\u001b[1;31mFileNotFoundError\u001b[0m: [Errno 2] No such file or directory: 'breastw.mat'"
     ]
    }
   ],
   "source": [
    "dataSet = sp.loadmat('breastw.mat') \n",
    "X = dataSet['X']\n",
    "y = dataSet['y']"
   ]
  },
  {
   "cell_type": "code",
   "execution_count": null,
   "metadata": {},
   "outputs": [],
   "source": [
    "MS= np.arrage(10, 1000, 10)"
   ]
  },
  {
   "cell_type": "code",
   "execution_count": 39,
   "metadata": {},
   "outputs": [],
   "source": [
    "plage_contamination = np.arange (0.01, 0.51, 0.01)\n",
    "maxfeatures = np.arange(5, 10, 1)\n",
    "MS= np.arrage(10, 1000, 10)\n",
    "nombre_estim = np.arange(250,350,50) #permet de créer une liste de int de 1 à 100 pour faire varier le nombre d'estimateur dans la boucle for \n",
    "data = np.array(['n_estimators','max_samples', 'contamination', 'max_features','F1 score','recall','precision','accuracy','AUC'])\n",
    "\n",
    "for train_index, test_index in skf.split(X, y):\n",
    "    X_train, X_test = X[train_index,:], X[test_index,:]\n",
    "    y_train, y_test = y[train_index], y[test_index]\n",
    "\n",
    "\n",
    "    for C in plage_contamination:\n",
    "        model = IsolationForest(contamination = C)\n",
    "        model.fit(X_train)\n",
    "        y_pred=model.predict(X_test)\n",
    "        y_pred[y_pred>0]=0           \n",
    "        y_pred[y_pred<0]=1\n",
    "        F1=round(f1_score(y_test,y_pred),3)\n",
    "        recall=round(recall_score(y_test,y_pred),3)\n",
    "        precision=round(precision_score(y_test,y_pred,zero_division=0),3)\n",
    "        accuracy=round(accuracy_score(y_test,y_pred),3)\n",
    "        fpr, tpr, thresholds = metrics.roc_curve(y_test,y_pred)\n",
    "        roc_auc = metrics.auc(fpr, tpr)\n",
    "        AUC2=roc_auc\n",
    "        data= np.append(matrice1,np.array([round(C,3),F1,recall,precision,accuracy,round(AUC2,3)]).reshape(6,1),axis=1)\n",
    "\n"
   ]
  }
 ],
 "metadata": {
  "interpreter": {
   "hash": "58ef2ce8cb7733e53f1fd2fda3ac843bfb1e452b5e68b7a95af6bf5f6323b839"
  },
  "kernelspec": {
   "display_name": "Python 3.9.7 64-bit",
   "language": "python",
   "name": "python3"
  },
  "language_info": {
   "codemirror_mode": {
    "name": "ipython",
    "version": 3
   },
   "file_extension": ".py",
   "mimetype": "text/x-python",
   "name": "python",
   "nbconvert_exporter": "python",
   "pygments_lexer": "ipython3",
   "version": "3.9.7"
  },
  "orig_nbformat": 4
 },
 "nbformat": 4,
 "nbformat_minor": 2
}
