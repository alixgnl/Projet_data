{
 "cells": [
  {
   "cell_type": "code",
   "execution_count": null,
   "metadata": {},
   "outputs": [],
   "source": [
    "import numpy as np\n",
    "import pandas as pd\n",
    "import matplotlib.pyplot as plt\n",
    "from sklearn.neighbors import LocalOutlierFactor\n",
    "import scipy.io as sp\n",
    "from sklearn.model_selection import StratifiedKFold\n",
    "from sklearn.metrics import precision_score, f1_score, accuracy_score, recall_score\n",
    "\n",
    "dataset = sp.loadmat('breastw.mat')\n",
    "\n",
    "X = dataset['X']\n",
    "y = dataset['y']\n",
    "y=np.reshape(y,(683,))\n",
    "\n",
    "K=np.array([0.5,0.514,0.543,0.571,0.6,0.629,0.12,0.25])\n",
    "Distance=np.array(['cityblock','manhattan','l1','euclidean','manhattan','euclidean','l2','l2'])\n",
    "Contamination=np.array([0.357,0.357,0.357,0.357,0.357,0.347,0.22,0.43])\n",
    "\n",
    "skf= StratifiedKFold(n_splits=12,shuffle=False,random_state=None)\n",
    "\n",
    "\n",
    "for i in range(0,8) :  \n",
    "    test=False\n",
    "    for train_index, test_index in skf.split(X, y):\n",
    "        X_train, X_test = X[train_index], X[test_index]\n",
    "        y_train, y_test = y[train_index], y[test_index]\n",
    "        LOF = LocalOutlierFactor(n_neighbors=round(len(X_test)*K[i]), algorithm='auto', contamination=Contamination[i], metric=Distance[i])\n",
    "        y_pred = LOF.fit_predict(X_test)\n",
    "        X_scores = -LOF.negative_outlier_factor_\n",
    "        y_pred[y_pred>0]=0\n",
    "        y_pred[y_pred<0]=1\n",
    "        F1=round(f1_score(y_test,y_pred),3)\n",
    "        if test == False :\n",
    "            matrice = np.array([[F1]])\n",
    "            test = True\n",
    "        else :\n",
    "            matrice = np.append(matrice,np.array([F1]).reshape(1,1),axis=0)\n",
    "    if i == 0  :\n",
    "        df=pd.DataFrame(matrice,columns=['[{},{},{}]'.format(K[i],Distance[i],round(Contamination[i],3))])\n",
    "    else :\n",
    "        df1=pd.DataFrame(matrice,columns=['[{},{},{}]'.format(K[i],Distance[i],round(Contamination[i],3))])\n",
    "        df=pd.concat([df, df1], axis = 1)\n",
    "display(df)"
   ]
  }
 ],
 "metadata": {
  "language_info": {
   "name": "python"
  },
  "orig_nbformat": 4
 },
 "nbformat": 4,
 "nbformat_minor": 2
}
