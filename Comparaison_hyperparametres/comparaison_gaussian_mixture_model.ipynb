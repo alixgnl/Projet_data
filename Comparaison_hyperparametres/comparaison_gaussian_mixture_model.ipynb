{
 "cells": [
  {
   "cell_type": "code",
   "execution_count": null,
   "metadata": {},
   "outputs": [],
   "source": [
    "import numpy as np\n",
    "import pandas as pd\n",
    "import scipy.io as sp\n",
    "\n",
    "from sklearn.model_selection import StratifiedKFold\n",
    "from sklearn.metrics import precision_score, f1_score\n",
    "from sklearn import metrics\n",
    "from sklearn.mixture import GaussianMixture\n",
    "from sklearn.metrics import precision_score\n",
    "from sklearn.model_selection import StratifiedKFold \n",
    "from scipy.stats import kruskal\n",
    "\n",
    "\n",
    "\n",
    "\n",
    "\n",
    "# evaluate label propagation on the semi-supervised learning dataset\n",
    "\n",
    "dataSet = sp.loadmat('breastw.mat') # appel du fichier breast.mat\n",
    "X = dataSet['X']\n",
    "y = dataSet['y']\n",
    "\n",
    "Covariance=['tied', 'diag', 'full','spherical'] # les variables de covariance_type sont stockés dans une liste \n",
    "Params=['kmeans', 'random']# les variables de init_params sont stockés dans une liste \n",
    "skf = StratifiedKFold(n_splits=8) \n",
    "\n",
    "algo = 0\n",
    "for i in Covariance: # boucle pour la covariance\n",
    "        for j in Params:# boucle pour le parametre d'initialisation\n",
    "                test=False \n",
    "                for train_index, test_index in skf.split(X, y):\n",
    "                      \n",
    "                \n",
    "                        X_train, X_test = X[train_index,:], X[test_index,:] # on sépare le dataset en 2 pour le test et l'entrainement \n",
    "                        y_train, y_test = y[train_index], y[test_index]\n",
    "                        \n",
    "                        gmm = GaussianMixture(n_components=2,init_params=j,covariance_type=i) # appel de la fonction gaussian mixture model\n",
    "                        gmm.fit(X_train,y_train)\n",
    "                        y_pred=gmm.predict(X_test)\n",
    "                        if precision_score(y_test,y_pred)< 0.05: # pour réaffecter les bons labels lorsqu'il y a un problème de labélisation\n",
    "    \n",
    "                               y_pred = np.array([0 if label == 1 else 1 for label in y_pred])\n",
    "                        \n",
    "                        F1=round(f1_score(y_test,y_pred),3) # récupère la valeur F1-score\n",
    "                       \n",
    "                       \n",
    "                        if test==False :\n",
    "                                data = np.array([[F1]]) # on stocke les F1 score dans un array\n",
    "                                test=True\n",
    "                        else :\n",
    "                                data = np.append(data,np.array([F1]).reshape(1,1))\n",
    "                if algo == 0  :\n",
    "                        df=pd.DataFrame(data,columns=['[{},{}]'.format(i,j)]) # on crée un dataframe à partir des F1\n",
    "                        \n",
    "                else :\n",
    "                        df1=pd.DataFrame(data,columns=['[{},{}]'.format(i,j)])\n",
    "                        df=pd.concat([df, df1], axis = 1) # on concatène les arrays pour former un tableau \n",
    "                algo = algo + 1\n",
    "display(df) # on affiche le tabeau \n",
    "                "
   ]
  },
  {
   "cell_type": "code",
   "execution_count": null,
   "metadata": {},
   "outputs": [],
   "source": [
    "import scikit_posthocs as sp\n",
    "# test de kruskal pour comparer les variances \n",
    "t,p = kruskal(df['[spherical,kmeans]'],df['[spherical,random]'],df['[tied,kmeans]'],df['[tied,random]'],df['[diag,kmeans]'],df['[diag,random]'],df['[full,kmeans]'],df['[full,random]'])\n",
    "\n",
    "# on affiche le t-test et la p-value \n",
    "print('t statistic: %.3f' % t)\n",
    "print('p value: %.10f' % p)\n",
    "# on réalise un post-hoc pour la comparaison 1 à 1\n",
    "sp.posthoc_conover([df['[spherical,kmeans]'],df['[spherical,random]'],df['[tied,kmeans]'],df['[tied,random]'],df['[diag,kmeans]'],df['[diag,random]'],df['[full,kmeans]'],df['[full,random]']])"
   ]
  }
 ],
 "metadata": {
  "interpreter": {
   "hash": "ffd309f70c127bbe156ac096ba063b968332170e7693cbb0eca7d666f8002d44"
  },
  "kernelspec": {
   "display_name": "Python 3.9.7 ('base')",
   "language": "python",
   "name": "python3"
  },
  "language_info": {
   "codemirror_mode": {
    "name": "ipython",
    "version": 3
   },
   "file_extension": ".py",
   "mimetype": "text/x-python",
   "name": "python",
   "nbconvert_exporter": "python",
   "pygments_lexer": "ipython3",
   "version": "3.9.7"
  },
  "orig_nbformat": 4
 },
 "nbformat": 4,
 "nbformat_minor": 2
}
